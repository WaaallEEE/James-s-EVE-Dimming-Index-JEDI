{
 "cells": [
  {
   "cell_type": "code",
   "execution_count": 1,
   "metadata": {},
   "outputs": [],
   "source": [
    "# Standard modules\n",
    "import numpy as np\n",
    "import pandas as pd\n",
    "import matplotlib.pyplot as plt\n",
    "import astropy.units as u\n",
    "import progressbar\n",
    "\n",
    "# Custom modules\n",
    "from jpm_time_conversions import *\n",
    "from jpm_logger import JpmLogger\n",
    "from closest import closest\n",
    "from jpm_number_printing import latex_float\n",
    "from get_goes_flare_events import get_goes_flare_events\n",
    "\n",
    "__author__ = 'James Paul Mason'\n",
    "__contact__ = 'jmason86@gmail.com'\n",
    "\n",
    "\n",
    "def generate_jedi_catalog(threshold_time_prior_flare_minutes=240.0, \n",
    "                          dimming_window_relative_to_flare_minutes_left=0.0, \n",
    "                          dimming_window_relative_to_flare_minutes_right=240.0,\n",
    "                          output_path='./', verbose=False):\n",
    "    \"\"\"Wrapper code for creating James's Extreme Ultraviolet Variability Experiment (EVE) Dimming Index (JEDI) catalog.\n",
    "\n",
    "    Inputs:\n",
    "        None.\n",
    "        \n",
    "    Optional Inputs:\n",
    "        threshold_time_prior_flare_minutes [float]:             How long before a particular event does the last one need to have\n",
    "                                                                occurred to be considered independent. If the previous one was too\n",
    "                                                                recent, will use that event's pre-flare irradiance.\n",
    "                                                                Default is 240 (4 hours).\n",
    "        dimming_window_relative_to_flare_minutes_left [float]:  Defines the left side of the time window to search for dimming\n",
    "                                                                relative to the GOES/XRS flare peak. Negative numbers mean \n",
    "                                                                minutes prior to the flare peak. Default is 0.0.\n",
    "        dimming_window_relative_to_flare_minutes_right [float]: Defines the right side of the time window to search for dimming\n",
    "                                                                relative to the GOES/XRS flare peak. If another flare\n",
    "                                                                occurs before this, that time will define the end of the\n",
    "                                                                window instead. Default is 240 (4 hours).\n",
    "        output_path [str]:                                      Set to a path for saving the JEDI catalog table and processing \n",
    "                                                                summary plots. Default is './', the current directory.\n",
    "        verbose [bool]:                                         Set to log the processing messages to disk and console. Default is False.\n",
    "\n",
    "    Outputs:\n",
    "        No direct return, but writes a (csv? sql table? hdf5?) to disk with the dimming paramerization results.\n",
    "        Subroutines also optionally save processing plots to disk in output_path.\n",
    "                                                 \n",
    "    Optional Outputs:\n",
    "        None\n",
    "\n",
    "    Example:\n",
    "        generate_jedi_catalog(output_path='/Users/jmason86/Dropbox/Research/Postdoc_NASA/Analysis/Coronal Dimming Analysis/JEDI Catalog/',\n",
    "                              verbose=True)\n",
    "    \"\"\"\n",
    "    return 1"
   ]
  },
  {
   "cell_type": "code",
   "execution_count": 2,
   "metadata": {},
   "outputs": [],
   "source": [
    "# prototype only: set up example inputs\n",
    "%matplotlib inline\n",
    "plt.style.use('jpm-transparent-light')\n",
    "\n",
    "threshold_time_prior_flare_minutes = 240.0\n",
    "dimming_window_relative_to_flare_minutes_left = 0.0 \n",
    "dimming_window_relative_to_flare_minutes_right = 240.0\n",
    "output_path='/Users/jmason86/Dropbox/Research/Postdoc_NASA/Analysis/Coronal Dimming Analysis/JEDI Catalog/'\n",
    "verbose = True"
   ]
  },
  {
   "cell_type": "code",
   "execution_count": 3,
   "metadata": {},
   "outputs": [
    {
     "name": "stderr",
     "output_type": "stream",
     "text": [
      "2018-01-25 12:33:53,443 [INFO ] [<module>] Starting JEDI processing pipeline.\n"
     ]
    }
   ],
   "source": [
    "# Prepare the logger for verbose\n",
    "if verbose:\n",
    "    logger = JpmLogger(filename='generate_jedi_catalog', path=output_path)\n",
    "    logger.info(\"Starting JEDI processing pipeline.\")"
   ]
  },
  {
   "cell_type": "code",
   "execution_count": 4,
   "metadata": {},
   "outputs": [],
   "source": [
    "# Get EVE level 2 extracted emission lines data\n",
    "# TODO: Replace this shortcut method with the method I'm building into sunpy\n",
    "from scipy.io.idl import readsav\n",
    "eve_readsav = readsav('/Users/jmason86/Dropbox/Research/Data/EVE/eve_lines_2010121-2014146 MEGS-A Mission Bare Bones.sav')"
   ]
  },
  {
   "cell_type": "code",
   "execution_count": 5,
   "metadata": {},
   "outputs": [],
   "source": [
    "# prototype only: create metadata dictionary\n",
    "# TODO: Replace this shortcut method with the method I'm building into sunpy\n",
    "from sunpy.util.metadata import MetaDict\n",
    "metadata = MetaDict()\n",
    "metadata['ion'] = eve_readsav['name']\n",
    "metadata['temperature_ion_peak_formation'] = np.power(10.0, eve_readsav['logt']) * u.Kelvin\n",
    "metadata['extracted_wavelength_center'] = eve_readsav['wavelength'] * u.nm\n",
    "metadata['extracted_wavelength_min'] = metadata['extracted_wavelength_center']\n",
    "metadata['extracted_wavelength_max'] = metadata['extracted_wavelength_center']\n",
    "metadata['emission_line_blends'] = ['none', 'yay', 'poop', 'Fe vi']  # etc\n",
    "metadata['exposure_time'] = 60.0 * u.second  # These example EVE data are already binned down to 1 minute\n",
    "metadata['precision'] = ['Not implemented in prototype']\n",
    "metadata['accuracy'] = ['Not implemented in prototype']\n",
    "metadata['flags'] = ['Not implemented in prototype']\n",
    "metadata['flags_description'] = \"1 = MEGS-A data is missing, 2 = MEGS-B data is missing, 4 = ESP data is missing, 8 = MEGS-P data is missing, 16 = Possible clock adjust in MEGS-A, 32 = Possible clock adjust in MEGS-B, 64 = Possible clock adjust in ESP, 128 = Possible clock adjust in MEGS-P\"\n",
    "metadata['flags_spacecraft'] = ['Not implemented in prototype']\n",
    "metadata['flags_spacecraft_description'] = \"0 = No obstruction, 1 = Warmup from Earth eclipse, 2 = Obstruction atmosphere penumbra, 3 = Obstruction atmosphere umbra, 4 = Obstruction penumbra of Mercury, 5 = Obstruction penumbra of Mercury, 6 = Obstruction penumbra of Venus, 7 = Obstruction umbra of Venus, 8 = Obstruction penumbra of Moon, 9 = Obstruction umbra of Moon, 10 = Obstruction penumbra of solid Earth, 11 = Obstruction umbra of solid Earth, 16 = Observatory is off-pointed by more than 1 arcmin\"\n",
    "metadata['data_version'] = ['Not implemented in prototype']\n",
    "metadata['data_reprocessed_revision'] = ['Not implemented in prototype']\n",
    "metadata['filename'] = ['Not implemented in prototype']"
   ]
  },
  {
   "cell_type": "code",
   "execution_count": 6,
   "metadata": {},
   "outputs": [],
   "source": [
    "# prototype only: load up the actual irradiance data into a pandas DataFrame\n",
    "# TODO: Replace this shortcut method with the method I'm building into sunpy\n",
    "irradiance = eve_readsav['irradiance'].byteswap().newbyteorder()  # pandas doesn't like big endian\n",
    "irradiance[irradiance == -1] = np.nan\n",
    "wavelengths = eve_readsav['wavelength']\n",
    "wavelengths_str = []\n",
    "[wavelengths_str.append('{0:1.1f}'.format(wavelength)) for wavelength in wavelengths]\n",
    "eve_lines = pd.DataFrame(irradiance, columns=wavelengths_str)\n",
    "eve_lines.index = yyyydoy_sod_to_datetime(eve_readsav.yyyydoy, eve_readsav.sod)  # Convert EVE standard time to datetime"
   ]
  },
  {
   "cell_type": "code",
   "execution_count": 7,
   "metadata": {},
   "outputs": [],
   "source": [
    "# Get GOES flare events above C1 within date range corresponding to EVE data\n",
    "#flares = get_goes_flare_events(eve_lines.index[0], eve_lines.index[-1], verbose=verbose)  # TODO: The method in sunpy needs fixing, issue 2434"
   ]
  },
  {
   "cell_type": "code",
   "execution_count": 46,
   "metadata": {},
   "outputs": [],
   "source": [
    "# prototype only: load GOES events from IDL saveset instead of directly through sunpy\n",
    "goes_flare_events = readsav('/Users/jmason86/Dropbox/Research/Data/GOES/events/GoesEventsC1MinMegsAEra.sav')\n",
    "goes_flare_events['class'] = goes_flare_events['class'].astype(str)\n",
    "goes_flare_events['event_peak_time_human'] = goes_flare_events['event_peak_time_human'].astype(str)\n",
    "goes_flare_events['event_start_time_human'] = goes_flare_events['event_start_time_human'].astype(str)"
   ]
  },
  {
   "cell_type": "code",
   "execution_count": 59,
   "metadata": {},
   "outputs": [
    {
     "name": "stderr",
     "output_type": "stream",
     "text": [
      "\r",
      "                                                                               \r",
      "\r",
      "N/A%|                                                                         |"
     ]
    }
   ],
   "source": [
    "# Start a progress bar\n",
    "widgets = [progressbar.Percentage(), progressbar.Bar()]\n",
    "progress_bar = progressbar.ProgressBar(widgets=widgets, max_value=len(goes_flare_events['class'])).start()\n",
    "# just call bar.update(i) to update this at later times"
   ]
  },
  {
   "cell_type": "code",
   "execution_count": null,
   "metadata": {},
   "outputs": [],
   "source": []
  }
 ],
 "metadata": {
  "kernelspec": {
   "display_name": "Python 3",
   "language": "python",
   "name": "python3"
  },
  "language_info": {
   "codemirror_mode": {
    "name": "ipython",
    "version": 3
   },
   "file_extension": ".py",
   "mimetype": "text/x-python",
   "name": "python",
   "nbconvert_exporter": "python",
   "pygments_lexer": "ipython3",
   "version": "3.6.1"
  },
  "toc": {
   "nav_menu": {},
   "number_sections": true,
   "sideBar": true,
   "skip_h1_title": false,
   "toc_cell": false,
   "toc_position": {},
   "toc_section_display": "block",
   "toc_window_display": false
  },
  "varInspector": {
   "cols": {
    "lenName": 16,
    "lenType": 16,
    "lenVar": 40
   },
   "kernels_config": {
    "python": {
     "delete_cmd_postfix": "",
     "delete_cmd_prefix": "del ",
     "library": "var_list.py",
     "varRefreshCmd": "print(var_dic_list())"
    },
    "r": {
     "delete_cmd_postfix": ") ",
     "delete_cmd_prefix": "rm(",
     "library": "var_list.r",
     "varRefreshCmd": "cat(var_dic_list()) "
    }
   },
   "oldHeight": 123.18181799999999,
   "position": {
    "height": "40px",
    "left": "892.727px",
    "right": "20px",
    "top": "120px",
    "width": "250px"
   },
   "types_to_exclude": [
    "module",
    "function",
    "builtin_function_or_method",
    "instance",
    "_Feature"
   ],
   "varInspector_section_display": "none",
   "window_display": false
  }
 },
 "nbformat": 4,
 "nbformat_minor": 2
}
