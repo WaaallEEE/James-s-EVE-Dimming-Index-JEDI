{
 "cells": [
  {
   "cell_type": "code",
   "execution_count": 1,
   "metadata": {},
   "outputs": [],
   "source": [
    "# Standard modules\n",
    "import numpy as np\n",
    "import pandas as pd\n",
    "import matplotlib.pyplot as plt\n",
    "\n",
    "# Custom modules\n",
    "from jpm_time_conversions import *\n",
    "from jpm_logger import JpmLogger\n",
    "from closest import closest\n",
    "from jpm_number_printing import latex_float\n",
    "\n",
    "__author__ = 'James Paul Mason'\n",
    "__contact__ = 'jmason86@gmail.com'\n",
    "\n",
    "\n",
    "def generate_jedi_catalog(threshold_time_prior_flare_minutes=240.0, \n",
    "                          dimming_window_relative_to_flare_minutes_left=0.0, \n",
    "                          dimming_window_relative_to_flare_minutes_right=240.0,\n",
    "                          output_path='./', verbose=False):\n",
    "    \"\"\"Wrapper code for creating James's Extreme Ultraviolet Variability Experiment (EVE) Dimming Index (JEDI) catalog.\n",
    "\n",
    "    Inputs:\n",
    "        None.\n",
    "        \n",
    "    Optional Inputs:\n",
    "        threshold_time_prior_flare_minutes [float]:             How long before a particular event does the last one need to have\n",
    "                                                                occurred to be considered independent. If the previous one was too\n",
    "                                                                recent, will use that event's pre-flare irradiance.\n",
    "                                                                Default is 240 (4 hours).\n",
    "        dimming_window_relative_to_flare_minutes_left [float]:  Defines the left side of the time window to search for dimming\n",
    "                                                                relative to the GOES/XRS flare peak. Negative numbers mean \n",
    "                                                                minutes prior to the flare peak. Default is 0.0.\n",
    "        dimming_window_relative_to_flare_minutes_right [float]: Defines the right side of the time window to search for dimming\n",
    "                                                                relative to the GOES/XRS flare peak. If another flare\n",
    "                                                                occurs before this, that time will define the end of the\n",
    "                                                                window instead. Default is 240 (4 hours).\n",
    "        output_path [str]:                                      Set to a path for saving the JEDI catalog table and processing \n",
    "                                                                summary plots. Default is './', the current directory.\n",
    "        verbose [bool]:                                         Set to log the processing messages to disk and console. Default is False.\n",
    "\n",
    "    Outputs:\n",
    "        No direct return, but writes a (csv? sql table? hdf5?) to disk with the dimming paramerization results.\n",
    "        Subroutines also optionally save processing plots to disk in output_path.\n",
    "                                                 \n",
    "    Optional Outputs:\n",
    "        None\n",
    "\n",
    "    Example:\n",
    "        generate_jedi_catalog(output_path='/Users/jmason86/Dropbox/Research/Postdoc_NASA/Analysis/Coronal Dimming Analysis/JEDI Catalog/',\n",
    "                              verbose=True)\n",
    "    \"\"\"\n",
    "    return 1"
   ]
  },
  {
   "cell_type": "code",
   "execution_count": 10,
   "metadata": {},
   "outputs": [
    {
     "data": {
      "text/html": [
       "<div>\n",
       "<style scoped>\n",
       "    .dataframe tbody tr th:only-of-type {\n",
       "        vertical-align: middle;\n",
       "    }\n",
       "\n",
       "    .dataframe tbody tr th {\n",
       "        vertical-align: top;\n",
       "    }\n",
       "\n",
       "    .dataframe thead th {\n",
       "        text-align: right;\n",
       "    }\n",
       "</style>\n",
       "<table border=\"1\" class=\"dataframe\">\n",
       "  <thead>\n",
       "    <tr style=\"text-align: right;\">\n",
       "      <th></th>\n",
       "      <th>irradiance</th>\n",
       "      <th>irradiance_percent</th>\n",
       "    </tr>\n",
       "  </thead>\n",
       "  <tbody>\n",
       "    <tr>\n",
       "      <th>2011-02-16 12:00:13</th>\n",
       "      <td>0.000061</td>\n",
       "      <td>0.000000</td>\n",
       "    </tr>\n",
       "    <tr>\n",
       "      <th>2011-02-16 12:01:13</th>\n",
       "      <td>0.000062</td>\n",
       "      <td>0.407284</td>\n",
       "    </tr>\n",
       "    <tr>\n",
       "      <th>2011-02-16 12:02:13</th>\n",
       "      <td>0.000062</td>\n",
       "      <td>0.580749</td>\n",
       "    </tr>\n",
       "    <tr>\n",
       "      <th>2011-02-16 12:03:13</th>\n",
       "      <td>0.000062</td>\n",
       "      <td>0.392872</td>\n",
       "    </tr>\n",
       "    <tr>\n",
       "      <th>2011-02-16 12:04:13</th>\n",
       "      <td>0.000062</td>\n",
       "      <td>0.419690</td>\n",
       "    </tr>\n",
       "  </tbody>\n",
       "</table>\n",
       "</div>"
      ],
      "text/plain": [
       "                     irradiance  irradiance_percent\n",
       "2011-02-16 12:00:13    0.000061            0.000000\n",
       "2011-02-16 12:01:13    0.000062            0.407284\n",
       "2011-02-16 12:02:13    0.000062            0.580749\n",
       "2011-02-16 12:03:13    0.000062            0.392872\n",
       "2011-02-16 12:04:13    0.000062            0.419690"
      ]
     },
     "execution_count": 10,
     "metadata": {},
     "output_type": "execute_result"
    }
   ],
   "source": [
    "# prototype only: set up example inputs\n",
    "%matplotlib inline\n",
    "plt.style.use('jpm-transparent-light')\n",
    "example_to_use = 'rising'\n",
    "\n",
    "if example_to_use == 'oscillating':\n",
    "    estimated_time_of_peak_start = pd.Timestamp('2012-04-15 21:20:00.0')  # oscillating light curve\n",
    "elif example_to_use == 'rising':\n",
    "    estimated_time_of_peak_start = pd.Timestamp('2011-02-16 14:20:00.0')  # rising light curve\n",
    "else:\n",
    "    estimated_time_of_peak_start = pd.Timestamp('2011-02-16 15:20:00.0')  # with prior flare\n",
    "\n",
    "max_median_diff_threshold = 10.0\n",
    "std_threshold = 0.5\n",
    "plot_path_filename = './bla.png'\n",
    "verbose = True\n",
    "\n",
    "from scipy.io.idl import readsav\n",
    "if example_to_use == 'oscillating':\n",
    "    idl_generated_data = readsav('/Users/jmason86/Dropbox/Research/Postdoc_NASA/Analysis/Coronal Dimming Analysis/Example Dimming Light Curve.sav')\n",
    "    irradiance = idl_generated_data.irradiance[:, 3].byteswap().newbyteorder() # Not sure why this is big endian but pandas plotting needs it to be little\n",
    "    light_curve_df = pd.DataFrame({'irradiance_percent': irradiance})\n",
    "    light_curve_df['irradiance'] = light_curve_df['irradiance_percent'] * 6.2e-5 + 6.2e-5 # It's already in % so converting back\n",
    "    light_curve_df.index = yyyydoy_sod_to_datetime(idl_generated_data.yyyydoy, idl_generated_data.sod) # Convert EVE to datetime\n",
    "elif example_to_use == 'rising':\n",
    "    idl_generated_data = readsav('/Users/jmason86/Dropbox/Research/Postdoc_NASA/Analysis/Coronal Dimming Analysis/Example Pre-flare Light Curve 1.sav')\n",
    "    irradiance = idl_generated_data.irradiance.byteswap().newbyteorder() # Not sure why this is big endian but pandas plotting needs it to be little\n",
    "    light_curve_df = pd.DataFrame({'irradiance': irradiance, \n",
    "                                   'irradiance_percent': (irradiance - irradiance[0]) / irradiance[0] * 100.})\n",
    "    light_curve_df.index = pd.to_datetime(idl_generated_data.time.astype(str))\n",
    "else:\n",
    "    idl_generated_data = readsav('/Users/jmason86/Dropbox/Research/Postdoc_NASA/Analysis/Coronal Dimming Analysis/Example Pre-flare Light Curve 2.sav')\n",
    "    irradiance = idl_generated_data.irradiance.byteswap().newbyteorder() # Not sure why this is big endian but pandas plotting needs it to be little\n",
    "    light_curve_df = pd.DataFrame({'irradiance': irradiance, \n",
    "                                   'irradiance_percent': (irradiance - irradiance[0]) / irradiance[0] * 100.})\n",
    "    light_curve_df.index = pd.to_datetime(idl_generated_data.time.astype(str))\n",
    "\n",
    "light_curve_df.head()"
   ]
  },
  {
   "cell_type": "code",
   "execution_count": 11,
   "metadata": {},
   "outputs": [
    {
     "name": "stderr",
     "output_type": "stream",
     "text": [
      "2017-12-28 12:54:56,246 [INFO ] [<module>] Running on event with peak start time of 2011-02-16 14:20:00.\n",
      "2017-12-28 12:54:56,246 [INFO ] [<module>] Running on event with peak start time of 2011-02-16 14:20:00.\n"
     ]
    }
   ],
   "source": [
    "# Prepare the logger for verbose\n",
    "if verbose:\n",
    "    # TODO: Update the path\n",
    "    logger = JpmLogger(filename='determine_preflare_irradiance_log', path='/Users/jmason86/Desktop/')\n",
    "    logger.info(\"Running on event with peak start time of {0}.\".format(estimated_time_of_peak_start))"
   ]
  },
  {
   "cell_type": "code",
   "execution_count": 1,
   "metadata": {},
   "outputs": [],
   "source": [
    "# Save JEDI catalog"
   ]
  },
  {
   "cell_type": "code",
   "execution_count": null,
   "metadata": {},
   "outputs": [],
   "source": []
  }
 ],
 "metadata": {
  "kernelspec": {
   "display_name": "Python 3",
   "language": "python",
   "name": "python3"
  },
  "language_info": {
   "codemirror_mode": {
    "name": "ipython",
    "version": 3
   },
   "file_extension": ".py",
   "mimetype": "text/x-python",
   "name": "python",
   "nbconvert_exporter": "python",
   "pygments_lexer": "ipython3",
   "version": "3.6.1"
  },
  "toc": {
   "nav_menu": {},
   "number_sections": true,
   "sideBar": true,
   "skip_h1_title": false,
   "toc_cell": false,
   "toc_position": {},
   "toc_section_display": "block",
   "toc_window_display": false
  },
  "varInspector": {
   "cols": {
    "lenName": 16,
    "lenType": 16,
    "lenVar": 40
   },
   "kernels_config": {
    "python": {
     "delete_cmd_postfix": "",
     "delete_cmd_prefix": "del ",
     "library": "var_list.py",
     "varRefreshCmd": "print(var_dic_list())"
    },
    "r": {
     "delete_cmd_postfix": ") ",
     "delete_cmd_prefix": "rm(",
     "library": "var_list.r",
     "varRefreshCmd": "cat(var_dic_list()) "
    }
   },
   "oldHeight": 123.18181799999999,
   "position": {
    "height": "40px",
    "left": "892.727px",
    "right": "20px",
    "top": "120px",
    "width": "250px"
   },
   "types_to_exclude": [
    "module",
    "function",
    "builtin_function_or_method",
    "instance",
    "_Feature"
   ],
   "varInspector_section_display": "none",
   "window_display": false
  }
 },
 "nbformat": 4,
 "nbformat_minor": 2
}
