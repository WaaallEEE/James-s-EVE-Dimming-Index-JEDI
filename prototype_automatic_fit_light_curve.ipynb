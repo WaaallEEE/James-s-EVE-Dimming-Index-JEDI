{
 "cells": [
  {
   "cell_type": "code",
   "execution_count": 40,
   "metadata": {},
   "outputs": [],
   "source": [
    "# Standard modules\n",
    "import numpy as np\n",
    "import pandas as pd\n",
    "import matplotlib.pyplot as plt\n",
    "from sklearn.pipeline import make_pipeline\n",
    "from sklearn.model_selection import validation_curve, ShuffleSplit\n",
    "from sklearn.metrics import explained_variance_score, make_scorer\n",
    "from sklearn.svm import SVR\n",
    "\n",
    "# Custom modules\n",
    "from jpm_time_conversions import *\n",
    "from jpm_logger import JpmLogger\n",
    "from jpm_number_printing import latex_float\n",
    "\n",
    "__author__ = 'James Paul Mason'\n",
    "__contact__ = 'jmason86@gmail.com'\n",
    "\n",
    "\n",
    "def automatic_fit_light_curve(light_curve_df, minimum_score=0.3, plots_save_path=None, verbose=False):\n",
    "    \"\"\"Automatically fit the best support vector machine regression (SVR) model for the input light curve.\n",
    "\n",
    "    Inputs:\n",
    "        light_curve_df [pd DataFrame]: A pandas DataFrame with a DatetimeIndex, and columns for irradiance and uncertainty.\n",
    "\n",
    "    Optional Inputs:\n",
    "        minimum_score [float]: Set this to the minimum explained variance score (0 - 1) acceptable for fits. If the \n",
    "                               best fit score is < minimum_score, this function will return None for light_curve_fit. \n",
    "                               Default value is 0.3.\n",
    "        plots_save_path [str]: Set to a path in order to save the validation curve and best fit overplot on the data to disk.\n",
    "                               Default is None, meaning no plots will be saved to disk.\n",
    "        verbose [bool]:        Set to log the processing messages to disk and console. Default is False.\n",
    "\n",
    "    Outputs:\n",
    "        light_curve_fit_df [pd DataFrame]: A pandas DataFrame with a DatetimeIndex, and columns for fitted irradiance and uncertainty.\n",
    "        best_fit_gamma [float]:            The best found gamma hyper parameter for the SVR. \n",
    "        best_fit_score [float]:            The best explained variance score. \n",
    "\n",
    "    Optional Outputs:\n",
    "        None\n",
    "\n",
    "    Example:\n",
    "        light_curve_fit, best_fit_gamma, best_fit_score = automatic_fit_light_curve(light_curve_df, verbose=True)\n",
    "    \"\"\"\n",
    "    return 1"
   ]
  },
  {
   "cell_type": "code",
   "execution_count": 2,
   "metadata": {},
   "outputs": [
    {
     "data": {
      "text/html": [
       "<div>\n",
       "<style scoped>\n",
       "    .dataframe tbody tr th:only-of-type {\n",
       "        vertical-align: middle;\n",
       "    }\n",
       "\n",
       "    .dataframe tbody tr th {\n",
       "        vertical-align: top;\n",
       "    }\n",
       "\n",
       "    .dataframe thead th {\n",
       "        text-align: right;\n",
       "    }\n",
       "</style>\n",
       "<table border=\"1\" class=\"dataframe\">\n",
       "  <thead>\n",
       "    <tr style=\"text-align: right;\">\n",
       "      <th></th>\n",
       "      <th>irradiance</th>\n",
       "      <th>uncertainty</th>\n",
       "    </tr>\n",
       "  </thead>\n",
       "  <tbody>\n",
       "    <tr>\n",
       "      <th>2012-04-15 17:43:20</th>\n",
       "      <td>0.246831</td>\n",
       "      <td>0.160099</td>\n",
       "    </tr>\n",
       "    <tr>\n",
       "      <th>2012-04-15 17:44:19</th>\n",
       "      <td>0.399922</td>\n",
       "      <td>0.160099</td>\n",
       "    </tr>\n",
       "    <tr>\n",
       "      <th>2012-04-15 17:45:18</th>\n",
       "      <td>0.275836</td>\n",
       "      <td>0.160099</td>\n",
       "    </tr>\n",
       "    <tr>\n",
       "      <th>2012-04-15 17:46:17</th>\n",
       "      <td>0.319487</td>\n",
       "      <td>0.160099</td>\n",
       "    </tr>\n",
       "    <tr>\n",
       "      <th>2012-04-15 17:47:16</th>\n",
       "      <td>0.920058</td>\n",
       "      <td>0.160099</td>\n",
       "    </tr>\n",
       "  </tbody>\n",
       "</table>\n",
       "</div>"
      ],
      "text/plain": [
       "<div>\n",
       "<style scoped>\n",
       "    .dataframe tbody tr th:only-of-type {\n",
       "        vertical-align: middle;\n",
       "    }\n",
       "\n",
       "    .dataframe tbody tr th {\n",
       "        vertical-align: top;\n",
       "    }\n",
       "\n",
       "    .dataframe thead th {\n",
       "        text-align: right;\n",
       "    }\n",
       "</style>\n",
       "<table border=\"1\" class=\"dataframe\">\n",
       "  <thead>\n",
       "    <tr style=\"text-align: right;\">\n",
       "      <th></th>\n",
       "      <th>irradiance</th>\n",
       "      <th>uncertainty</th>\n",
       "    </tr>\n",
       "  </thead>\n",
       "  <tbody>\n",
       "    <tr>\n",
       "      <th>2012-04-15 17:43:20</th>\n",
       "      <td>0.246831</td>\n",
       "      <td>0.160099</td>\n",
       "    </tr>\n",
       "    <tr>\n",
       "      <th>2012-04-15 17:44:19</th>\n",
       "      <td>0.399922</td>\n",
       "      <td>0.160099</td>\n",
       "    </tr>\n",
       "    <tr>\n",
       "      <th>2012-04-15 17:45:18</th>\n",
       "      <td>0.275836</td>\n",
       "      <td>0.160099</td>\n",
       "    </tr>\n",
       "    <tr>\n",
       "      <th>2012-04-15 17:46:17</th>\n",
       "      <td>0.319487</td>\n",
       "      <td>0.160099</td>\n",
       "    </tr>\n",
       "    <tr>\n",
       "      <th>2012-04-15 17:47:16</th>\n",
       "      <td>0.920058</td>\n",
       "      <td>0.160099</td>\n",
       "    </tr>\n",
       "  </tbody>\n",
       "</table>\n",
       "</div>"
      ]
     },
     "execution_count": 2,
     "metadata": {},
     "output_type": "execute_result"
    }
   ],
   "source": [
    "# prototype only: load some example dimming light curve data\n",
    "minimum_score = 0.3\n",
    "plots_save_path='./'\n",
    "verbose = True\n",
    "from scipy.io.idl import readsav\n",
    "idl_generated_data = readsav('/Users/jmason86/Dropbox/Research/Postdoc_NASA/Analysis/Coronal Dimming Analysis/Example Dimming Light Curve.sav')\n",
    "from calculate_eve_fe_line_precision import calculate_eve_fe_line_precision\n",
    "uncertainty = calculate_eve_fe_line_precision()[3] * 100. + np.zeros(len(idl_generated_data.yyyydoy)) # * 100 for [%]\n",
    "light_curve_df = pd.DataFrame({'irradiance': idl_generated_data.irradiance[:, 3],\n",
    "                               'uncertainty': uncertainty})\n",
    "light_curve_df.index = yyyydoy_sod_to_datetime(idl_generated_data.yyyydoy, idl_generated_data.sod) # Convert EVE to datetime\n",
    "light_curve_df.head()"
   ]
  },
  {
   "cell_type": "code",
   "execution_count": 3,
   "metadata": {},
   "outputs": [
    {
     "data": {
      "image/png": "[encoded data removed]",
      "text/plain": [
       "<matplotlib.figure.Figure at 0x11607e1d0>"
      ]
     },
     "metadata": {},
     "output_type": "display_data"
    }
   ],
   "source": [
    "# prototype only: just taking a look at the data\n",
    "import matplotlib.pyplot as plt\n",
    "%matplotlib inline\n",
    "plt.style.use('jpm-transparent-light')\n",
    "plt.errorbar(light_curve_df.index, light_curve_df['irradiance'], yerr=light_curve_df['uncertainty'], fmt='o');"
   ]
  },
  {
   "cell_type": "code",
   "execution_count": 5,
   "metadata": {},
   "outputs": [
    {
     "name": "stderr",
     "output_type": "stream",
     "text": [
      "2018-03-22 11:33:05,639 [WARNI] [<module>] There are NaN values in light curve. Dropping them.\n"
     ]
    },
    {
     "name": "stderr",
     "output_type": "stream",
     "text": [
      "2018-03-22 11:33:05,641 [INFO ] [<module>] Fitting 240 points.\n"
     ]
    }
   ],
   "source": [
    "# Prepare the logger for verbose\n",
    "if verbose:\n",
    "    # TODO: Update the path\n",
    "    logger = JpmLogger(filename='automatic_fit_light_curve_log', path='/Users/jmason86/Desktop/')\n",
    "\n",
    "# Pull data out of the DataFrame for compatibility formatting\n",
    "X = metatimes_to_seconds_since_start(light_curve_df.index)\n",
    "y = light_curve_df['irradiance'].values\n",
    "\n",
    "# Check for NaNs and issue warning that they are being removed from the dataset\n",
    "if verbose:\n",
    "    if np.isnan(y).any():\n",
    "        logger.warning(\"There are NaN values in light curve. Dropping them.\")\n",
    "finite_irradiance_indices = np.isfinite(y)\n",
    "X = X[finite_irradiance_indices]\n",
    "X = X.reshape(len(X), 1) # Format to be compatible with validation_curve and SVR.fit()\n",
    "uncertainty = uncertainty[np.isfinite(y)]\n",
    "y = y[finite_irradiance_indices]\n",
    "\n",
    "if verbose:\n",
    "    logger.info(\"Fitting %s points.\" % len(y))"
   ]
  },
  {
   "cell_type": "code",
   "execution_count": 6,
   "metadata": {},
   "outputs": [],
   "source": [
    "# Helper function for compatibility with validation_curve\n",
    "def jpm_svr(gamma=5e-8, **kwargs):\n",
    "    return make_pipeline(SVR(kernel='rbf', C=1e3, gamma=gamma, **kwargs))"
   ]
  },
  {
   "cell_type": "code",
   "execution_count": 44,
   "metadata": {},
   "outputs": [
    {
     "name": "stderr",
     "output_type": "stream",
     "text": [
      "2018-03-22 11:55:19,943 [INFO ] [<module>] Validation curve complete.\n"
     ]
    }
   ],
   "source": [
    "# Hyper parameter for SVR is gamma, so generate values of it to try\n",
    "gamma = np.array([5e-8])\n",
    "#gamma = np.logspace(-10, -5, num=20, base=10)\n",
    "#gamma = np.linspace(5e-8, 1e-7, num=1)\n",
    "\n",
    "# Overwrite the default scorer (R^2) with explained variance score\n",
    "evs = make_scorer(explained_variance_score)\n",
    "\n",
    "# Split the data between training/testing 50/50 but across the whole time range rather than the default consecutive Kfolds\n",
    "shuffle_split = ShuffleSplit(n_splits=20, train_size=0.5, test_size=0.5, random_state=None)\n",
    "\n",
    "# Generate the validation curve -- test all them gammas!\n",
    "# Parallelized to speed it up (n_jobs = # of parallel threads)\n",
    "train_score, val_score = validation_curve(jpm_svr(), X, y,\n",
    "                                          'svr__gamma',\n",
    "                                          gamma, cv=shuffle_split, n_jobs=7, scoring=evs)\n",
    "\n",
    "if verbose:\n",
    "    logger.info(\"Validation curve complete.\")"
   ]
  },
  {
   "cell_type": "code",
   "execution_count": 45,
   "metadata": {},
   "outputs": [],
   "source": [
    "if plots_save_path and np.size(gamma) > 1:\n",
    "    plt.style.use('jpm-transparent-light')\n",
    "    p1 = plt.plot(gamma, np.median(train_score, 1), label='training score')\n",
    "    p2 = plt.plot(gamma, np.median(val_score, 1), label='validation score')\n",
    "    ax = plt.axes()\n",
    "    plt.title(\"t$_0$ = \" + datetimeindex_to_human(light_curve_df.index)[0])\n",
    "    ax.set_xscale('log')\n",
    "    plt.xlabel('gamma')\n",
    "    plt.ylabel('score')\n",
    "    plt.ylim(0, 1)\n",
    "    p3 = plt.axhline(y=minimum_score, linestyle='dashed', color=p2[0].get_color(), label='minimum score')\n",
    "    p4 = plt.axvline(x=best_fit_gamma, linestyle='dashed', color='black')\n",
    "    t1 = plt.text(best_fit_gamma, minimum_score - 0.05, 'best score = ' + latex_float(best_fit_score) + '\\nbest gamma = ' + latex_float(best_fit_gamma),\n",
    "                  ha='left', va='top')\n",
    "    plt.legend(loc='best')\n",
    "    filename = plots_save_path + 'Validation Curve t0 ' + datetimeindex_to_human(light_curve_df.index)[0] + '.png'\n",
    "    plt.savefig(filename)\n",
    "    if verbose:\n",
    "        logger.info(\"Validation curve saved to %s\" % filename)"
   ]
  },
  {
   "cell_type": "code",
   "execution_count": 46,
   "metadata": {},
   "outputs": [
    {
     "name": "stderr",
     "output_type": "stream",
     "text": [
      "2018-03-22 11:55:23,139 [INFO ] [<module>] Scores: [ 0.51962306]\n"
     ]
    },
    {
     "name": "stderr",
     "output_type": "stream",
     "text": [
      "2018-03-22 11:55:23,141 [INFO ] [<module>] Best score: 0.51962305615\n"
     ]
    },
    {
     "name": "stderr",
     "output_type": "stream",
     "text": [
      "2018-03-22 11:55:23,141 [INFO ] [<module>] Best fit gamma: 5e-08\n"
     ]
    }
   ],
   "source": [
    "# Identify the best score\n",
    "scores = np.median(val_score, axis=1)\n",
    "best_fit_score = np.max(scores)\n",
    "best_fit_gamma = gamma[np.argmax(scores)]\n",
    "if verbose:\n",
    "    logger.info('Scores: ' + str(scores))\n",
    "    logger.info('Best score: ' + str(best_fit_score))\n",
    "    logger.info('Best fit gamma: ' + str(best_fit_gamma))\n",
    "\n",
    "# Return None if only got bad fits\n",
    "if best_fit_score < minimum_score:\n",
    "    if verbose:\n",
    "        logger.warning(\"Uh oh. Best fit score {0:.2f} is < user-defined minimum score {1:.2f}\".format(best_fit_score, minimum_score))\n",
    "    #return None, best_fit_gamma, best_fit_score  # TODO: Uncomment for non-prototype"
   ]
  },
  {
   "cell_type": "code",
   "execution_count": 47,
   "metadata": {},
   "outputs": [
    {
     "name": "stderr",
     "output_type": "stream",
     "text": [
      "2018-03-22 11:55:27,426 [INFO ] [<module>] Best model trained and fitted.\n"
     ]
    }
   ],
   "source": [
    "# Otherwise train and fit the best model\n",
    "sample_weight = 1 / uncertainty\n",
    "model = SVR(kernel='rbf', C=1e3, gamma=best_fit_gamma).fit(X, y, sample_weight)\n",
    "y_fit = model.predict(X)\n",
    "\n",
    "if verbose:\n",
    "    logger.info(\"Best model trained and fitted.\")"
   ]
  },
  {
   "cell_type": "code",
   "execution_count": 48,
   "metadata": {},
   "outputs": [
    {
     "name": "stderr",
     "output_type": "stream",
     "text": [
      "2018-03-22 11:55:36,862 [INFO ] [<module>] Fitted curve saved to ./Fit t0 2012-04-15 17:04:20.png\n"
     ]
    },
    {
     "data": {
      "image/png": "[encoded data removed]",
      "text/plain": [
       "<matplotlib.figure.Figure at 0x11b4107f0>"
      ]
     },
     "metadata": {},
     "output_type": "display_data"
    }
   ],
   "source": [
    "if plots_save_path:\n",
    "    plt.errorbar(X.ravel(), y, yerr=uncertainty, color='black', fmt='o', label='Input light curve')\n",
    "    plt.plot(X.ravel(), y_fit, linewidth=6, label='Fit')\n",
    "    plt.title(\"t$_0$ = \" + datetimeindex_to_human(light_curve_df.index)[0])\n",
    "    plt.xlabel('time [seconds since start]')\n",
    "    plt.ylabel('irradiance [%]')\n",
    "    plt.legend(loc='best')\n",
    "    filename = plots_save_path + 'Fit t0 ' + datetimeindex_to_human(light_curve_df.index)[0] + '.png'\n",
    "    plt.savefig(filename)\n",
    "    if verbose:\n",
    "        logger.info(\"Fitted curve saved to %s\" % filename)"
   ]
  },
  {
   "cell_type": "code",
   "execution_count": 49,
   "metadata": {},
   "outputs": [],
   "source": [
    "# TODO: Get uncertainty of fit at each point... if that's even possible\n",
    "# Placeholder for now just so that the function can complete: output uncertainty = input uncertainty\n",
    "fit_uncertainty = uncertainty"
   ]
  },
  {
   "cell_type": "code",
   "execution_count": 50,
   "metadata": {},
   "outputs": [
    {
     "name": "stderr",
     "output_type": "stream",
     "text": [
      "2018-03-22 11:55:42,170 [INFO ] [<module>] Created output DataFrame\n"
     ]
    }
   ],
   "source": [
    "# Construct a pandas DataFrame with DatetimeIndex, y_fit, and fit_uncertainty\n",
    "light_curve_fit_df = pd.DataFrame({'irradiance': y_fit,\n",
    "                                   'uncertainty': fit_uncertainty})\n",
    "light_curve_fit_df.index = light_curve_df.index[finite_irradiance_indices]\n",
    "if verbose:\n",
    "    logger.info(\"Created output DataFrame\")"
   ]
  },
  {
   "cell_type": "code",
   "execution_count": 51,
   "metadata": {},
   "outputs": [],
   "source": [
    "# prototype only: save the light curve to disk\n",
    "light_curve_fit_df.to_hdf('/Users/jmason86/Dropbox/Research/Postdoc_NASA/Analysis/Coronal Dimming Analysis/Example Fit Dimming Light Curve.hdf', 'light_curve_df')"
   ]
  },
  {
   "cell_type": "code",
   "execution_count": 52,
   "metadata": {},
   "outputs": [
    {
     "ename": "SyntaxError",
     "evalue": "'return' outside function (<ipython-input-52-5fb2b30e6918>, line 1)",
     "traceback": [
      "\u001b[0;36m  File \u001b[0;32m\"<ipython-input-52-5fb2b30e6918>\"\u001b[0;36m, line \u001b[0;32m1\u001b[0m\n\u001b[0;31m    return light_curve_fit_df, best_fit_gamma, best_fit_score\u001b[0m\n\u001b[0m                                                             ^\u001b[0m\n\u001b[0;31mSyntaxError\u001b[0m\u001b[0;31m:\u001b[0m 'return' outside function\n"
     ],
     "output_type": "error"
    }
   ],
   "source": [
    "return light_curve_fit_df, best_fit_gamma, best_fit_score"
   ]
  }
 ],
 "metadata": {
  "kernelspec": {
   "display_name": "Python 3",
   "language": "python",
   "name": "python3"
  },
  "language_info": {
   "codemirror_mode": {
    "name": "ipython",
    "version": 3
   },
   "file_extension": ".py",
   "mimetype": "text/x-python",
   "name": "python",
   "nbconvert_exporter": "python",
   "pygments_lexer": "ipython3",
   "version": "3.6.1"
  },
  "toc": {
   "nav_menu": {},
   "number_sections": true,
   "sideBar": true,
   "skip_h1_title": false,
   "toc_cell": false,
   "toc_position": {},
   "toc_section_display": "block",
   "toc_window_display": false
  },
  "varInspector": {
   "cols": {
    "lenName": 16.0,
    "lenType": 16.0,
    "lenVar": 40.0
   },
   "kernels_config": {
    "python": {
     "delete_cmd_postfix": "",
     "delete_cmd_prefix": "del ",
     "library": "var_list.py",
     "varRefreshCmd": "print(var_dic_list())"
    },
    "r": {
     "delete_cmd_postfix": ") ",
     "delete_cmd_prefix": "rm(",
     "library": "var_list.r",
     "varRefreshCmd": "cat(var_dic_list()) "
    }
   },
   "oldHeight": 122.0,
   "position": {
    "height": "879px",
    "left": "759.983px",
    "right": "20px",
    "top": "151.989px",
    "width": "400px"
   },
   "types_to_exclude": [
    "module",
    "function",
    "builtin_function_or_method",
    "instance",
    "_Feature"
   ],
   "varInspector_section_display": "block",
   "window_display": false
  }
 },
 "nbformat": 4,
 "nbformat_minor": 2
}
