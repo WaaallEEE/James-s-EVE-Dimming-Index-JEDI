{
 "cells": [
  {
   "cell_type": "code",
   "execution_count": 58,
   "metadata": {
    "ExecuteTime": {
     "end_time": "2017-10-06T14:46:43.650052Z",
     "start_time": "2017-10-06T14:46:42.946885Z"
    },
    "collapsed": true
   },
   "outputs": [],
   "source": [
    "# Standard modules\n",
    "import numpy as np\n",
    "import pandas as pd\n",
    "import matplotlib.pyplot as plt\n",
    "from getpass import getuser\n",
    "\n",
    "# Custom modules\n",
    "from closest import *\n",
    "from jpm_time_conversions import sod_to_hhmmss"
   ]
  },
  {
   "cell_type": "markdown",
   "metadata": {},
   "source": [
    "This whole thing should become a single function. The docstring should look like this: \n",
    "\n",
    "__author__ = \"James Paul Mason\"\n",
    "\n",
    "__contact__ = \"jmason86@gmail.com\"\n",
    "\n",
    "    \"\"\"Compute precisions for important lines in SDO/EVE.\n",
    "\n",
    "    Inputs:\n",
    "        None\n",
    "        \n",
    "    Optional Inputs:\n",
    "        number_of_samples_to_average [float]: The number of 10 second integrations to average. Default is 6 (60 seconds).\n",
    "        save_path [str]:                      The path to save (or load) the EVE data to (from) disk. \n",
    "                                              Default is '/Users/' + getuser() + '/Dropbox/Research/Postdoc_NASA/Analysis/Coronal Dimming Analysis/EVE Precision/'\n",
    "        reload_eve_data [bool]:               Set this to force the code to grab data from the EVE_DATA (environment variable) server.\n",
    "                                              The data will be saved to disk in save_path. Default is False.\n",
    "        verbose [bool]:                       Set to print out the precisions. Default is False. \n",
    "        \n",
    "    Outputs:\n",
    "        precisions [pd.Series]: A pandas series where the index is the wavelength [Å] of the emission line and the data are the precisions.  \n",
    "        \n",
    "    Optional Outputs:\n",
    "        None\n",
    "        \n",
    "    Example: \n",
    "        precisions = calculate_eve_fe_line_precisions(verbose=True)\n",
    "    \"\"\""
   ]
  },
  {
   "cell_type": "code",
   "execution_count": 2,
   "metadata": {
    "collapsed": true
   },
   "outputs": [],
   "source": [
    "# TODO: These will be a part of the function definition\n",
    "number_of_samples_to_average = 6\n",
    "save_path = '/Users/' + getuser() + '/Dropbox/Research/Postdoc_NASA/Analysis/Coronal Dimming Analysis/EVE Precision/'\n",
    "reload_eve_data = False\n",
    "verbose = False"
   ]
  },
  {
   "cell_type": "code",
   "execution_count": 79,
   "metadata": {
    "collapsed": false
   },
   "outputs": [],
   "source": [
    "# Get data for a quiet period - beginning of the below day is very quiet in 171 Å\n",
    "if reload_eve_data == True:\n",
    "    # TODO: Asking Don Woodraska if there is an easy way to get the EVE lines from sunpy\n",
    "    print('Fetching remote EVE data')\n",
    "else:\n",
    "    from scipy.io.idl import readsav\n",
    "    eveLines = readsav(save_path + 'EVE Line Data.sav')\n",
    "\n",
    "end_index = closest(eveLines['sod'], 3600)\n",
    "timestamp_iso = '2013-01-28 ' + sod_to_hhmmss(eveLines['sod'])[:end_index]\n",
    "eve_lines = eveLines['evelines'][:end_index, :]"
   ]
  },
  {
   "cell_type": "code",
   "execution_count": 80,
   "metadata": {
    "collapsed": false
   },
   "outputs": [
    {
     "data": {
      "text/html": [
       "<div>\n",
       "<style>\n",
       "    .dataframe thead tr:only-child th {\n",
       "        text-align: right;\n",
       "    }\n",
       "\n",
       "    .dataframe thead th {\n",
       "        text-align: left;\n",
       "    }\n",
       "\n",
       "    .dataframe tbody tr th {\n",
       "        vertical-align: top;\n",
       "    }\n",
       "</style>\n",
       "<table border=\"1\" class=\"dataframe\">\n",
       "  <thead>\n",
       "    <tr style=\"text-align: right;\">\n",
       "      <th></th>\n",
       "      <th>132</th>\n",
       "      <th>171</th>\n",
       "      <th>177</th>\n",
       "      <th>180</th>\n",
       "      <th>195</th>\n",
       "      <th>202</th>\n",
       "      <th>211</th>\n",
       "      <th>284</th>\n",
       "      <th>335</th>\n",
       "      <th>94</th>\n",
       "    </tr>\n",
       "    <tr>\n",
       "      <th>Timestamp</th>\n",
       "      <th></th>\n",
       "      <th></th>\n",
       "      <th></th>\n",
       "      <th></th>\n",
       "      <th></th>\n",
       "      <th></th>\n",
       "      <th></th>\n",
       "      <th></th>\n",
       "      <th></th>\n",
       "      <th></th>\n",
       "    </tr>\n",
       "  </thead>\n",
       "  <tbody>\n",
       "    <tr>\n",
       "      <th>2013-01-28 00:00:06</th>\n",
       "      <td>9.548952e-07</td>\n",
       "      <td>0.000058</td>\n",
       "      <td>0.000043</td>\n",
       "      <td>0.000065</td>\n",
       "      <td>0.000051</td>\n",
       "      <td>0.000045</td>\n",
       "      <td>0.000027</td>\n",
       "      <td>0.000049</td>\n",
       "      <td>0.000024</td>\n",
       "      <td>0.000006</td>\n",
       "    </tr>\n",
       "    <tr>\n",
       "      <th>2013-01-28 00:00:16</th>\n",
       "      <td>9.560905e-07</td>\n",
       "      <td>0.000059</td>\n",
       "      <td>0.000043</td>\n",
       "      <td>0.000064</td>\n",
       "      <td>0.000051</td>\n",
       "      <td>0.000044</td>\n",
       "      <td>0.000028</td>\n",
       "      <td>0.000049</td>\n",
       "      <td>0.000024</td>\n",
       "      <td>0.000006</td>\n",
       "    </tr>\n",
       "    <tr>\n",
       "      <th>2013-01-28 00:00:26</th>\n",
       "      <td>9.685307e-07</td>\n",
       "      <td>0.000059</td>\n",
       "      <td>0.000043</td>\n",
       "      <td>0.000065</td>\n",
       "      <td>0.000051</td>\n",
       "      <td>0.000045</td>\n",
       "      <td>0.000027</td>\n",
       "      <td>0.000048</td>\n",
       "      <td>0.000023</td>\n",
       "      <td>0.000006</td>\n",
       "    </tr>\n",
       "    <tr>\n",
       "      <th>2013-01-28 00:00:36</th>\n",
       "      <td>9.998432e-07</td>\n",
       "      <td>0.000058</td>\n",
       "      <td>0.000043</td>\n",
       "      <td>0.000065</td>\n",
       "      <td>0.000052</td>\n",
       "      <td>0.000045</td>\n",
       "      <td>0.000027</td>\n",
       "      <td>0.000048</td>\n",
       "      <td>0.000024</td>\n",
       "      <td>0.000006</td>\n",
       "    </tr>\n",
       "    <tr>\n",
       "      <th>2013-01-28 00:00:46</th>\n",
       "      <td>9.848917e-07</td>\n",
       "      <td>0.000059</td>\n",
       "      <td>0.000043</td>\n",
       "      <td>0.000065</td>\n",
       "      <td>0.000051</td>\n",
       "      <td>0.000044</td>\n",
       "      <td>0.000028</td>\n",
       "      <td>0.000048</td>\n",
       "      <td>0.000026</td>\n",
       "      <td>0.000006</td>\n",
       "    </tr>\n",
       "  </tbody>\n",
       "</table>\n",
       "</div>"
      ],
      "text/plain": [
       "                              132       171       177       180       195  \\\n",
       "Timestamp                                                                   \n",
       "2013-01-28 00:00:06  9.548952e-07  0.000058  0.000043  0.000065  0.000051   \n",
       "2013-01-28 00:00:16  9.560905e-07  0.000059  0.000043  0.000064  0.000051   \n",
       "2013-01-28 00:00:26  9.685307e-07  0.000059  0.000043  0.000065  0.000051   \n",
       "2013-01-28 00:00:36  9.998432e-07  0.000058  0.000043  0.000065  0.000052   \n",
       "2013-01-28 00:00:46  9.848917e-07  0.000059  0.000043  0.000065  0.000051   \n",
       "\n",
       "                          202       211       284       335        94  \n",
       "Timestamp                                                              \n",
       "2013-01-28 00:00:06  0.000045  0.000027  0.000049  0.000024  0.000006  \n",
       "2013-01-28 00:00:16  0.000044  0.000028  0.000049  0.000024  0.000006  \n",
       "2013-01-28 00:00:26  0.000045  0.000027  0.000048  0.000023  0.000006  \n",
       "2013-01-28 00:00:36  0.000045  0.000027  0.000048  0.000024  0.000006  \n",
       "2013-01-28 00:00:46  0.000044  0.000028  0.000048  0.000026  0.000006  "
      ]
     },
     "execution_count": 80,
     "metadata": {},
     "output_type": "execute_result"
    }
   ],
   "source": [
    "selected_lines_dictionary = {'94': pd.Series(eve_lines[:, 0], index=timestamp_iso),\n",
    "                             '132': pd.Series(eve_lines[:, 2], index=timestamp_iso),\n",
    "                             '171': pd.Series(eve_lines[:, 3], index=timestamp_iso),\n",
    "                             '177': pd.Series(eve_lines[:, 4], index=timestamp_iso),\n",
    "                             '180': pd.Series(eve_lines[:, 5], index=timestamp_iso),\n",
    "                             '195': pd.Series(eve_lines[:, 6], index=timestamp_iso),\n",
    "                             '202': pd.Series(eve_lines[:, 7], index=timestamp_iso),\n",
    "                             '211': pd.Series(eve_lines[:, 8], index=timestamp_iso),\n",
    "                             '284': pd.Series(eve_lines[:, 10], index=timestamp_iso),\n",
    "                             '335': pd.Series(eve_lines[:, 12], index=timestamp_iso),}\n",
    "selected_lines = pd.DataFrame(selected_lines_dictionary)\n",
    "selected_lines.index.name = 'Timestamp'\n",
    "selected_lines.head() # TODO: Remove this line"
   ]
  },
  {
   "cell_type": "code",
   "execution_count": 99,
   "metadata": {
    "collapsed": false
   },
   "outputs": [],
   "source": [
    "# Compute normalized precision time series\n",
    "group_to_average = selected_lines.groupby(np.arange(len(selected_lines)) // number_of_samples_to_average)\n",
    "precision_time_series = group_to_average.std() / (group_to_average.mean() * np.sqrt(number_of_samples_to_average))\n",
    "\n",
    "# Take average of normalized precision time series over the hour long period\n",
    "precision = precision_time_series.mean()\n",
    "\n",
    "if verbose:\n",
    "    print(precision)\n",
    "    \n",
    "# return precision # TODO: Uncomment this for function"
   ]
  },
  {
   "cell_type": "code",
   "execution_count": 101,
   "metadata": {
    "collapsed": false
   },
   "outputs": [
    {
     "data": {
      "text/plain": [
       "132    0.010006\n",
       "171    0.002545\n",
       "177    0.002138\n",
       "180    0.001601\n",
       "195    0.002011\n",
       "202    0.002092\n",
       "211    0.003170\n",
       "284    0.003484\n",
       "335    0.008588\n",
       "94     0.004222\n",
       "dtype: float32"
      ]
     },
     "execution_count": 101,
     "metadata": {},
     "output_type": "execute_result"
    }
   ],
   "source": [
    "precision # TODO: Remove this line for function"
   ]
  },
  {
   "cell_type": "code",
   "execution_count": null,
   "metadata": {
    "collapsed": true
   },
   "outputs": [],
   "source": []
  }
 ],
 "metadata": {
  "kernelspec": {
   "display_name": "Python [conda env:py36]",
   "language": "python",
   "name": "conda-env-py36-py"
  },
  "language_info": {
   "codemirror_mode": {
    "name": "ipython",
    "version": 3
   },
   "file_extension": ".py",
   "mimetype": "text/x-python",
   "name": "python",
   "nbconvert_exporter": "python",
   "pygments_lexer": "ipython3",
   "version": "3.6.1"
  },
  "toc": {
   "nav_menu": {},
   "number_sections": false,
   "sideBar": true,
   "skip_h1_title": false,
   "toc_cell": false,
   "toc_position": {},
   "toc_section_display": "block",
   "toc_window_display": false
  },
  "varInspector": {
   "cols": {
    "lenName": 16,
    "lenType": 16,
    "lenVar": 40
   },
   "kernels_config": {
    "python": {
     "delete_cmd_postfix": "",
     "delete_cmd_prefix": "del ",
     "library": "var_list.py",
     "varRefreshCmd": "print(var_dic_list())"
    },
    "r": {
     "delete_cmd_postfix": ") ",
     "delete_cmd_prefix": "rm(",
     "library": "var_list.r",
     "varRefreshCmd": "cat(var_dic_list()) "
    }
   },
   "position": {
    "height": "987px",
    "left": "1487px",
    "right": "20px",
    "top": "80px",
    "width": "420px"
   },
   "types_to_exclude": [
    "module",
    "function",
    "builtin_function_or_method",
    "instance",
    "_Feature"
   ],
   "window_display": true
  }
 },
 "nbformat": 4,
 "nbformat_minor": 2
}
