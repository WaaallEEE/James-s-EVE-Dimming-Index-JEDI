{
 "cells": [
  {
   "cell_type": "code",
   "execution_count": 4,
   "metadata": {},
   "outputs": [],
   "source": [
    "# Standard modules\n",
    "import numpy as np\n",
    "import pandas as pd\n",
    "import matplotlib.pyplot as plt\n",
    "\n",
    "# Custom modules\n",
    "from jpm_time_conversions import *\n",
    "from jpm_logger import JpmLogger\n",
    "from closest import closest\n",
    "\n",
    "__author__ = 'James Paul Mason'\n",
    "__contact__ = 'jmason86@gmail.com'\n",
    "\n",
    "\n",
    "def determine_preflare_irradiance(light_curve_df, estimated_time_of_peak_start,\n",
    "                                  plot_path_filename=None, verbose=False):\n",
    "    \"\"\"Determine pre-flare irradiance level in a solar light curve. \n",
    "    Or, more generally, find the pre-peak level in a time series.\n",
    "\n",
    "    Inputs:\n",
    "        light_curve_df [pd DataFrame]:           A pandas DataFrame with a DatetimeIndex and a column for intensity.\n",
    "        estimated_time_of_peak_start [metatime]: The estimated time that the dramatic increase starts. \n",
    "                                                 This could come from, e.g., GOES/XRS.\n",
    "        \n",
    "    Optional Inputs:\n",
    "        plot_path_filename [str]: Set to a path and filename in order to save the summary plot to disk.\n",
    "                                  Default is None, meaning the plot will not be saved to disk.\n",
    "        verbose [bool]:           Set to log the processing messages to disk and console. Default is False.\n",
    "\n",
    "    Outputs:\n",
    "        preflare_irradiance [float]: The identified pre-flare irradiance level in the same units as light_curve_df.intensity.\n",
    "                                                 \n",
    "    Optional Outputs:\n",
    "        None\n",
    "\n",
    "    Example:\n",
    "        preflare_irradiance = determine_preflare_irradiance(light_curve_df, pd.Timestamp('2012-04-15 17:52:20.0'),\n",
    "                                                            plot_path_filename='./bla.png',\n",
    "                                                            verbose=True)\n",
    "    \"\"\"\n",
    "    return 1"
   ]
  },
  {
   "cell_type": "code",
   "execution_count": 20,
   "metadata": {},
   "outputs": [
    {
     "data": {
      "text/html": [
       "<div>\n",
       "<style scoped>\n",
       "    .dataframe tbody tr th:only-of-type {\n",
       "        vertical-align: middle;\n",
       "    }\n",
       "\n",
       "    .dataframe tbody tr th {\n",
       "        vertical-align: top;\n",
       "    }\n",
       "\n",
       "    .dataframe thead th {\n",
       "        text-align: right;\n",
       "    }\n",
       "</style>\n",
       "<table border=\"1\" class=\"dataframe\">\n",
       "  <thead>\n",
       "    <tr style=\"text-align: right;\">\n",
       "      <th></th>\n",
       "      <th>irradiance</th>\n",
       "    </tr>\n",
       "  </thead>\n",
       "  <tbody>\n",
       "    <tr>\n",
       "      <th>2011-02-16 13:00:13</th>\n",
       "      <td>0.000062</td>\n",
       "    </tr>\n",
       "    <tr>\n",
       "      <th>2011-02-16 13:01:13</th>\n",
       "      <td>0.000062</td>\n",
       "    </tr>\n",
       "    <tr>\n",
       "      <th>2011-02-16 13:02:13</th>\n",
       "      <td>0.000062</td>\n",
       "    </tr>\n",
       "    <tr>\n",
       "      <th>2011-02-16 13:03:13</th>\n",
       "      <td>0.000062</td>\n",
       "    </tr>\n",
       "    <tr>\n",
       "      <th>2011-02-16 13:04:13</th>\n",
       "      <td>0.000062</td>\n",
       "    </tr>\n",
       "  </tbody>\n",
       "</table>\n",
       "</div>"
      ],
      "text/plain": [
       "                     irradiance\n",
       "2011-02-16 13:00:13    0.000062\n",
       "2011-02-16 13:01:13    0.000062\n",
       "2011-02-16 13:02:13    0.000062\n",
       "2011-02-16 13:03:13    0.000062\n",
       "2011-02-16 13:04:13    0.000062"
      ]
     },
     "execution_count": 20,
     "metadata": {},
     "output_type": "execute_result"
    }
   ],
   "source": [
    "# prototype only: set up example inputs\n",
    "%matplotlib inline\n",
    "plt.style.use('jpm-transparent-light')\n",
    "estimated_time_of_peak_start = pd.Timestamp('2012-04-15 17:52:20.0')\n",
    "plot_path_filename = './bla.png'\n",
    "verbose = True\n",
    "\n",
    "# Example - oscillating light curve\n",
    "light_curve_df = pd.read_hdf('/Users/jmason86/Dropbox/Research/Postdoc_NASA/Analysis/Coronal Dimming Analysis/Example Corrected Dimming Light Curve.hdf5', \n",
    "                             'light_curve_corrected_df')\n",
    "\n",
    "from scipy.io.idl import readsav\n",
    "\n",
    "# Example - rising light curve\n",
    "idl_generated_data = readsav('/Users/jmason86/Dropbox/Research/Postdoc_NASA/Analysis/Coronal Dimming Analysis/Example Pre-flare Light Curve 1.sav')\n",
    "\n",
    "# Example - with prior flare\n",
    "idl_generated_data = readsav('/Users/jmason86/Dropbox/Research/Postdoc_NASA/Analysis/Coronal Dimming Analysis/Example Pre-flare Light Curve 2.sav')\n",
    "\n",
    "light_curve_df = pd.DataFrame({'irradiance': idl_generated_data.irradiance})\n",
    "light_curve_df.index = pd.to_datetime(idl_generated_data.time.astype(str))\n",
    "light_curve_df.head()"
   ]
  },
  {
   "cell_type": "code",
   "execution_count": 3,
   "metadata": {},
   "outputs": [],
   "source": [
    "# Prepare the logger for verbose\n",
    "if verbose:\n",
    "    # TODO: Update the path\n",
    "    logger = JpmLogger(filename='determine_preflare_irradiance_log', path='/Users/jmason86/Desktop/')"
   ]
  },
  {
   "cell_type": "code",
   "execution_count": null,
   "metadata": {},
   "outputs": [],
   "source": []
  }
 ],
 "metadata": {
  "kernelspec": {
   "display_name": "Python 3",
   "language": "python",
   "name": "python3"
  },
  "language_info": {
   "codemirror_mode": {
    "name": "ipython",
    "version": 3
   },
   "file_extension": ".py",
   "mimetype": "text/x-python",
   "name": "python",
   "nbconvert_exporter": "python",
   "pygments_lexer": "ipython3",
   "version": "3.6.1"
  },
  "toc": {
   "nav_menu": {},
   "number_sections": true,
   "sideBar": true,
   "skip_h1_title": false,
   "toc_cell": false,
   "toc_position": {},
   "toc_section_display": "block",
   "toc_window_display": false
  },
  "varInspector": {
   "cols": {
    "lenName": 16,
    "lenType": 16,
    "lenVar": 40
   },
   "kernels_config": {
    "python": {
     "delete_cmd_postfix": "",
     "delete_cmd_prefix": "del ",
     "library": "var_list.py",
     "varRefreshCmd": "print(var_dic_list())"
    },
    "r": {
     "delete_cmd_postfix": ") ",
     "delete_cmd_prefix": "rm(",
     "library": "var_list.r",
     "varRefreshCmd": "cat(var_dic_list()) "
    }
   },
   "oldHeight": 123.18181799999999,
   "position": {
    "height": "40px",
    "left": "892.727px",
    "right": "20px",
    "top": "120px",
    "width": "250px"
   },
   "types_to_exclude": [
    "module",
    "function",
    "builtin_function_or_method",
    "instance",
    "_Feature"
   ],
   "varInspector_section_display": "none",
   "window_display": false
  }
 },
 "nbformat": 4,
 "nbformat_minor": 2
}
