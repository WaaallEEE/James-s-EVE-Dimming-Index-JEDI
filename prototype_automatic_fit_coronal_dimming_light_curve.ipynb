{
 "cells": [
  {
   "cell_type": "code",
   "execution_count": 1,
   "metadata": {},
   "outputs": [
    {
     "name": "stderr",
     "output_type": "stream",
     "text": [
      "/Users/jmason86/anaconda/envs/py36/lib/python3.6/site-packages/matplotlib/style/core.py:197: UserWarning: In /Users/jmason86/anaconda/envs/py36/lib/python3.6/site-packages/matplotlib/mpl-data/stylelib/jpm-dark.mplstyle: Bad val \"'tight'\" on line #17\n",
      "\t\"savefig.bbox: 'tight'\n",
      "\"\n",
      "\tin file \"/Users/jmason86/anaconda/envs/py36/lib/python3.6/site-packages/matplotlib/mpl-data/stylelib/jpm-dark.mplstyle\"\n",
      "\tKey savefig.bbox: bbox should be 'tight' or 'standard'\n",
      "  warnings.warn(message)\n",
      "\n",
      "Bad key \"figure.tight_layout\" on line 17 in\n",
      "/Users/jmason86/anaconda/envs/py36/lib/python3.6/site-packages/matplotlib/mpl-data/stylelib/jpm-light.mplstyle.\n",
      "You probably need to get an updated matplotlibrc file from\n",
      "http://github.com/matplotlib/matplotlib/blob/master/matplotlibrc.template\n",
      "or from the matplotlib source distribution\n",
      "\n",
      "Bad key \"plt.tight_layout\" on line 18 in\n",
      "/Users/jmason86/anaconda/envs/py36/lib/python3.6/site-packages/matplotlib/mpl-data/stylelib/jpm-light.mplstyle.\n",
      "You probably need to get an updated matplotlibrc file from\n",
      "http://github.com/matplotlib/matplotlib/blob/master/matplotlibrc.template\n",
      "or from the matplotlib source distribution\n",
      "/Users/jmason86/anaconda/envs/py36/lib/python3.6/site-packages/matplotlib/style/core.py:197: UserWarning: In /Users/jmason86/anaconda/envs/py36/lib/python3.6/site-packages/matplotlib/mpl-data/stylelib/jpm-transparent-light.mplstyle: Bad val \"'tight'\" on line #16\n",
      "\t\"savefig.bbox: 'tight'\n",
      "\"\n",
      "\tin file \"/Users/jmason86/anaconda/envs/py36/lib/python3.6/site-packages/matplotlib/mpl-data/stylelib/jpm-transparent-light.mplstyle\"\n",
      "\tKey savefig.bbox: bbox should be 'tight' or 'standard'\n",
      "  warnings.warn(message)\n",
      "/Users/jmason86/anaconda/envs/py36/lib/python3.6/site-packages/matplotlib/style/core.py:197: UserWarning: In /Users/jmason86/anaconda/envs/py36/lib/python3.6/site-packages/matplotlib/mpl-data/stylelib/jpm-transparent-dark.mplstyle: Bad val \"'tight'\" on line #16\n",
      "\t\"savefig.bbox: 'tight'\n",
      "\"\n",
      "\tin file \"/Users/jmason86/anaconda/envs/py36/lib/python3.6/site-packages/matplotlib/mpl-data/stylelib/jpm-transparent-dark.mplstyle\"\n",
      "\tKey savefig.bbox: bbox should be 'tight' or 'standard'\n",
      "  warnings.warn(message)\n"
     ]
    }
   ],
   "source": [
    "# Standard modules\n",
    "import numpy as np\n",
    "import pandas as pd\n",
    "import matplotlib.pyplot as plt\n",
    "from sklearn.pipeline import make_pipeline\n",
    "from sklearn.model_selection import validation_curve, ShuffleSplit\n",
    "from sklearn.metrics import explained_variance_score, make_scorer\n",
    "from sklearn.svm import SVR\n",
    "\n",
    "# Custom modules\n",
    "from jpm_time_conversions import *\n",
    "\n",
    "__author__ = 'James Paul Mason'\n",
    "__contact__ = 'jmason86@gmail.com'\n",
    "\n",
    "\n",
    "def automatic_fit_coronal_dimming_light_curve(light_curve_df, minimum_score=0.3, plots_save_path=None, verbose=False):\n",
    "    \"\"\"Automatically fit the best support vector machine regression (SVR) model for the input light curve.\n",
    "\n",
    "    Inputs:\n",
    "        light_curve_df [pd DataFrame]: A pandas DataFrame with a DatetimeIndex, and columns for intensity and uncertainty.\n",
    "\n",
    "    Optional Inputs:\n",
    "        minimum_score [float]: Set this to the minimum explained variance score (0 - 1) acceptable for fits. If the \n",
    "                               best fit score is < minimum_score, this function will return None. Default value is 0.3.\n",
    "        plots_save_path [str]: Set to a path in order to save the validation curve and best fit overplot on the data to disk.\n",
    "                               Default is None, meaning no plots will be saved to disk.\n",
    "        verbose [bool]:        Set to print out the processing messages. Default is False.\n",
    "\n",
    "    Outputs:\n",
    "        light_curve_fit [pd DataFrame]: A pandas DataFrame with a DatetimeIndex, and columns for fitted intensity and uncertainty.\n",
    "        best_fit_gamma [float]:         The best found gamma hyper parameter for the SVR. \n",
    "        best_fit_score [float]:         The best explained variance score. \n",
    "\n",
    "    Optional Outputs:\n",
    "        None\n",
    "\n",
    "    Example:\n",
    "        light_curve_fit, best_fit_gamma, best_fit_score = automatic_fit_coronal_dimming_light_curve(light_curve_df, verbose=True)\n",
    "    \"\"\"\n",
    "    return 1"
   ]
  },
  {
   "cell_type": "code",
   "execution_count": 2,
   "metadata": {},
   "outputs": [
    {
     "data": {
      "text/html": [
       "<div>\n",
       "<style>\n",
       "    .dataframe thead tr:only-child th {\n",
       "        text-align: right;\n",
       "    }\n",
       "\n",
       "    .dataframe thead th {\n",
       "        text-align: left;\n",
       "    }\n",
       "\n",
       "    .dataframe tbody tr th {\n",
       "        vertical-align: top;\n",
       "    }\n",
       "</style>\n",
       "<table border=\"1\" class=\"dataframe\">\n",
       "  <thead>\n",
       "    <tr style=\"text-align: right;\">\n",
       "      <th></th>\n",
       "      <th>irradiance</th>\n",
       "      <th>uncertainty</th>\n",
       "    </tr>\n",
       "  </thead>\n",
       "  <tbody>\n",
       "    <tr>\n",
       "      <th>2012-04-15 17:43:20</th>\n",
       "      <td>0.246831</td>\n",
       "      <td>0.160099</td>\n",
       "    </tr>\n",
       "    <tr>\n",
       "      <th>2012-04-15 17:43:25</th>\n",
       "      <td>0.399922</td>\n",
       "      <td>0.160099</td>\n",
       "    </tr>\n",
       "    <tr>\n",
       "      <th>2012-04-15 17:43:30</th>\n",
       "      <td>0.275836</td>\n",
       "      <td>0.160099</td>\n",
       "    </tr>\n",
       "    <tr>\n",
       "      <th>2012-04-15 17:43:35</th>\n",
       "      <td>0.319487</td>\n",
       "      <td>0.160099</td>\n",
       "    </tr>\n",
       "    <tr>\n",
       "      <th>2012-04-15 17:43:40</th>\n",
       "      <td>0.920058</td>\n",
       "      <td>0.160099</td>\n",
       "    </tr>\n",
       "  </tbody>\n",
       "</table>\n",
       "</div>"
      ],
      "text/plain": [
       "                     irradiance  uncertainty\n",
       "2012-04-15 17:43:20    0.246831     0.160099\n",
       "2012-04-15 17:43:25    0.399922     0.160099\n",
       "2012-04-15 17:43:30    0.275836     0.160099\n",
       "2012-04-15 17:43:35    0.319487     0.160099\n",
       "2012-04-15 17:43:40    0.920058     0.160099"
      ]
     },
     "execution_count": 2,
     "metadata": {},
     "output_type": "execute_result"
    }
   ],
   "source": [
    "# prototype only: load some example dimming light curve data\n",
    "minimum_score = 0.3\n",
    "plots_save_path='./'\n",
    "verbose = 1\n",
    "from scipy.io.idl import readsav\n",
    "idl_generated_data = readsav('/Users/jmason86/Dropbox/Research/Postdoc_NASA/Analysis/Coronal Dimming Analysis/Example Dimming Light Curve.sav')\n",
    "from calculate_eve_fe_line_precision import calculate_eve_fe_line_precision\n",
    "uncertainty = calculate_eve_fe_line_precision()[3] * 100. + np.zeros(len(idl_generated_data.yyyydoy)) # * 100 for [%]\n",
    "light_curve_df = pd.DataFrame({'irradiance': idl_generated_data.irradiance[:, 3],\n",
    "                               'uncertainty': uncertainty})\n",
    "light_curve_df.index = yyyydoy_sod_to_datetime(idl_generated_data.yyyydoy, idl_generated_data.sod) # Convert EVE to datetime\n",
    "light_curve_df.head()"
   ]
  },
  {
   "cell_type": "code",
   "execution_count": 3,
   "metadata": {},
   "outputs": [
    {
     "data": {
      "image/png": "[encoded data removed]",
      "text/plain": [
       "<matplotlib.figure.Figure at 0x11a88b2b0>"
      ]
     },
     "metadata": {},
     "output_type": "display_data"
    }
   ],
   "source": [
    "# prototype only: just taking a look at the data\n",
    "import matplotlib.pyplot as plt\n",
    "%matplotlib inline\n",
    "plt.style.use('jpm-light')\n",
    "plt.errorbar(light_curve_df.index, light_curve_df['irradiance'], yerr=light_curve_df['uncertainty'], fmt='o');"
   ]
  },
  {
   "cell_type": "code",
   "execution_count": 4,
   "metadata": {},
   "outputs": [
    {
     "name": "stdout",
     "output_type": "stream",
     "text": [
      "automatic_fit_coronal_dimming_light_curve: Warning: There are NaN values in light curve. Dropping them.\n",
      "automatic_fit_coronal_dimming_light_curve: Fitting 240 points.\n"
     ]
    }
   ],
   "source": [
    "# Pull data out of the DataFrame for compatibility formatting\n",
    "X = metatimes_to_seconds_since_start(light_curve_df.index)\n",
    "y = light_curve_df['irradiance'].values\n",
    "\n",
    "# Check for NaNs and issue warning that they are being removed from the dataset\n",
    "if verbose:\n",
    "    if np.isnan(y).any():\n",
    "        print(\"automatic_fit_coronal_dimming_light_curve: Warning: There are NaN values in light curve. Dropping them.\")\n",
    "        # TODO: Also print to log?\n",
    "X = X[np.isfinite(y)]\n",
    "X = X.reshape(len(X), 1) # Format to be compatible with validation_curve and SVR.fit()\n",
    "uncertainty = uncertainty[np.isfinite(y)]\n",
    "y = y[np.isfinite(y)]\n",
    "\n",
    "if verbose:\n",
    "    print(\"automatic_fit_coronal_dimming_light_curve: Fitting %s points.\" % len(y))"
   ]
  },
  {
   "cell_type": "code",
   "execution_count": 5,
   "metadata": {},
   "outputs": [],
   "source": [
    "# Helper function for compatibility with validation_curve\n",
    "def jpm_svr(gamma=1e-6, **kwargs):\n",
    "    return make_pipeline(SVR(kernel='rbf', C=1e3, gamma=gamma, **kwargs))"
   ]
  },
  {
   "cell_type": "code",
   "execution_count": 6,
   "metadata": {},
   "outputs": [],
   "source": [
    "# Hyper parameter for SVR is gamma, so generate values of it to try\n",
    "gamma = np.logspace(-7, 1, num=20, base=10)\n",
    "\n",
    "# Overwrite the default scorer (R^2) with explained variance score\n",
    "evs = make_scorer(explained_variance_score)\n",
    "\n",
    "# Split the data between training/testing 50/50 but across the whole time range rather than the default consecutive Kfolds\n",
    "shuffle_split = ShuffleSplit(n_splits=150, train_size=0.5, test_size=0.5, random_state=None)\n",
    "\n",
    "# Generate the validation curve -- test all them gammas!\n",
    "# Parallelized to speed it up (n_jobs = # of parallel threads)\n",
    "train_score, val_score = validation_curve(jpm_svr(), X, y,\n",
    "                                          'svr__gamma',\n",
    "                                          gamma, cv=shuffle_split, n_jobs=7, scoring=evs)"
   ]
  },
  {
   "cell_type": "code",
   "execution_count": 11,
   "metadata": {},
   "outputs": [
    {
     "data": {
      "image/png": "[encoded data removed]",
      "text/plain": [
       "<matplotlib.figure.Figure at 0x11f007be0>"
      ]
     },
     "metadata": {},
     "output_type": "display_data"
    }
   ],
   "source": [
    "if plots_save_path:\n",
    "    plt.plot(gamma, np.median(train_score, 1), label='training score')\n",
    "    plt.plot(gamma, np.median(val_score, 1), label='validation score')\n",
    "    ax = plt.axes()\n",
    "    plt.legend(loc='best')\n",
    "    plt.title(\"t$_0$ = \" + datetimeindex_to_human(light_curve_df.index)[0])\n",
    "    ax.set_xscale('log')\n",
    "    plt.xlabel('gamma')\n",
    "    plt.ylabel('score')\n",
    "    plt.ylim(0, 1)\n",
    "    plt.tight_layout();\n",
    "    plt.savefig('Validation Curve t0 ' + datetimeindex_to_human(light_curve_df.index)[0] + '.png')"
   ]
  },
  {
   "cell_type": "code",
   "execution_count": 8,
   "metadata": {},
   "outputs": [
    {
     "name": "stdout",
     "output_type": "stream",
     "text": [
      "Scores:  [  1.27810564e-01   3.01661406e-01   3.16348948e-01   3.58767340e-01\n",
      "   4.60605617e-01   4.66643015e-01   4.33093213e-01   4.37680385e-01\n",
      "   4.11129894e-01   1.34184398e-01  -1.41822275e+00  -1.48142467e+00\n",
      "   1.69788071e-01   2.58177577e-01   1.15383557e-01   5.53401565e-03\n",
      "   1.17357780e-06   2.22044605e-16   0.00000000e+00   0.00000000e+00]\n",
      "Best score: 0.466643015037\n",
      "Best fit gamma:  1.2742749857e-05\n"
     ]
    }
   ],
   "source": [
    "scores = np.median(val_score, axis=1)\n",
    "best_fit_score = np.max(scores)\n",
    "best_fit_gamma = gamma[np.argmax(scores)]\n",
    "print('Scores: ', scores)\n",
    "print('Best score:', best_fit_score)\n",
    "print('Best fit gamma: ', best_fit_gamma)"
   ]
  },
  {
   "cell_type": "code",
   "execution_count": 9,
   "metadata": {},
   "outputs": [
    {
     "ename": "NameError",
     "evalue": "name 'score' is not defined",
     "output_type": "error",
     "traceback": [
      "\u001b[0;31m---------------------------------------------------------------------------\u001b[0m",
      "\u001b[0;31mNameError\u001b[0m                                 Traceback (most recent call last)",
      "\u001b[0;32m<ipython-input-9-4cc2e2a2541a>\u001b[0m in \u001b[0;36m<module>\u001b[0;34m()\u001b[0m\n\u001b[1;32m      2\u001b[0m \u001b[0mX_fit\u001b[0m \u001b[0;34m=\u001b[0m \u001b[0mX_fit\u001b[0m\u001b[0;34m.\u001b[0m\u001b[0mreshape\u001b[0m\u001b[0;34m(\u001b[0m\u001b[0mlen\u001b[0m\u001b[0;34m(\u001b[0m\u001b[0mX_fit\u001b[0m\u001b[0;34m)\u001b[0m\u001b[0;34m,\u001b[0m \u001b[0;36m1\u001b[0m\u001b[0;34m)\u001b[0m\u001b[0;34m\u001b[0m\u001b[0m\n\u001b[1;32m      3\u001b[0m \u001b[0msample_weight\u001b[0m \u001b[0;34m=\u001b[0m \u001b[0;36m1\u001b[0m \u001b[0;34m/\u001b[0m \u001b[0muncertainty\u001b[0m\u001b[0;34m\u001b[0m\u001b[0m\n\u001b[0;32m----> 4\u001b[0;31m \u001b[0mmodel\u001b[0m \u001b[0;34m=\u001b[0m \u001b[0mSVR\u001b[0m\u001b[0;34m(\u001b[0m\u001b[0mkernel\u001b[0m\u001b[0;34m=\u001b[0m\u001b[0;34m'rbf'\u001b[0m\u001b[0;34m,\u001b[0m \u001b[0mC\u001b[0m\u001b[0;34m=\u001b[0m\u001b[0;36m1e3\u001b[0m\u001b[0;34m,\u001b[0m \u001b[0mgamma\u001b[0m\u001b[0;34m=\u001b[0m\u001b[0mgamma\u001b[0m\u001b[0;34m[\u001b[0m\u001b[0mnp\u001b[0m\u001b[0;34m.\u001b[0m\u001b[0margmax\u001b[0m\u001b[0;34m(\u001b[0m\u001b[0mscore\u001b[0m\u001b[0;34m)\u001b[0m\u001b[0;34m]\u001b[0m\u001b[0;34m)\u001b[0m\u001b[0;34m.\u001b[0m\u001b[0mfit\u001b[0m\u001b[0;34m(\u001b[0m\u001b[0mX\u001b[0m\u001b[0;34m,\u001b[0m \u001b[0my\u001b[0m\u001b[0;34m,\u001b[0m \u001b[0msample_weight\u001b[0m\u001b[0;34m)\u001b[0m\u001b[0;34m\u001b[0m\u001b[0m\n\u001b[0m\u001b[1;32m      5\u001b[0m \u001b[0my_fit\u001b[0m \u001b[0;34m=\u001b[0m \u001b[0mmodel\u001b[0m\u001b[0;34m.\u001b[0m\u001b[0mpredict\u001b[0m\u001b[0;34m(\u001b[0m\u001b[0mX_fit\u001b[0m\u001b[0;34m)\u001b[0m\u001b[0;34m\u001b[0m\u001b[0m\n\u001b[1;32m      6\u001b[0m \u001b[0mplt\u001b[0m\u001b[0;34m.\u001b[0m\u001b[0merrorbar\u001b[0m\u001b[0;34m(\u001b[0m\u001b[0mX\u001b[0m\u001b[0;34m.\u001b[0m\u001b[0mravel\u001b[0m\u001b[0;34m(\u001b[0m\u001b[0;34m)\u001b[0m\u001b[0;34m,\u001b[0m \u001b[0my\u001b[0m\u001b[0;34m,\u001b[0m \u001b[0myerr\u001b[0m\u001b[0;34m=\u001b[0m\u001b[0muncertainty\u001b[0m\u001b[0;34m,\u001b[0m \u001b[0mcolor\u001b[0m\u001b[0;34m=\u001b[0m\u001b[0;34m'black'\u001b[0m\u001b[0;34m,\u001b[0m \u001b[0mfmt\u001b[0m\u001b[0;34m=\u001b[0m\u001b[0;34m'o'\u001b[0m\u001b[0;34m)\u001b[0m\u001b[0;34m\u001b[0m\u001b[0m\n",
      "\u001b[0;31mNameError\u001b[0m: name 'score' is not defined"
     ]
    }
   ],
   "source": [
    "X_fit = np.linspace(0, X[-1], 50)[:, None]\n",
    "X_fit = X_fit.reshape(len(X_fit), 1)\n",
    "sample_weight = 1 / uncertainty\n",
    "model = SVR(kernel='rbf', C=1e3, gamma=gamma[np.argmax(score)]).fit(X, y, sample_weight)\n",
    "y_fit = model.predict(X_fit)\n",
    "plt.errorbar(X.ravel(), y, yerr=uncertainty, color='black', fmt='o')\n",
    "plt.plot(X_fit.ravel(), y_test, linewidth=6)\n",
    "plt.xlabel('time [seconds since start]')\n",
    "plt.ylabel('irradiance [%]');"
   ]
  },
  {
   "cell_type": "code",
   "execution_count": null,
   "metadata": {},
   "outputs": [],
   "source": [
    "# Returns\n",
    "light_curve_fit = y_test\n",
    "\n",
    "best_fit_gamma = best_fit_gamma, best_fit_score"
   ]
  }
 ],
 "metadata": {
  "kernelspec": {
   "display_name": "Python 3",
   "language": "python",
   "name": "python3"
  },
  "language_info": {
   "codemirror_mode": {
    "name": "ipython",
    "version": 3
   },
   "file_extension": ".py",
   "mimetype": "text/x-python",
   "name": "python",
   "nbconvert_exporter": "python",
   "pygments_lexer": "ipython3",
   "version": "3.6.1"
  },
  "toc": {
   "nav_menu": {},
   "number_sections": true,
   "sideBar": true,
   "skip_h1_title": false,
   "toc_cell": false,
   "toc_position": {},
   "toc_section_display": "block",
   "toc_window_display": false
  },
  "varInspector": {
   "cols": {
    "lenName": 16,
    "lenType": 16,
    "lenVar": 40
   },
   "kernels_config": {
    "python": {
     "delete_cmd_postfix": "",
     "delete_cmd_prefix": "del ",
     "library": "var_list.py",
     "varRefreshCmd": "print(var_dic_list())"
    },
    "r": {
     "delete_cmd_postfix": ") ",
     "delete_cmd_prefix": "rm(",
     "library": "var_list.r",
     "varRefreshCmd": "cat(var_dic_list()) "
    }
   },
   "oldHeight": 122,
   "position": {
    "height": "879px",
    "left": "878px",
    "right": "20px",
    "top": "119px",
    "width": "400px"
   },
   "types_to_exclude": [
    "module",
    "function",
    "builtin_function_or_method",
    "instance",
    "_Feature"
   ],
   "varInspector_section_display": "block",
   "window_display": true
  }
 },
 "nbformat": 4,
 "nbformat_minor": 2
}
