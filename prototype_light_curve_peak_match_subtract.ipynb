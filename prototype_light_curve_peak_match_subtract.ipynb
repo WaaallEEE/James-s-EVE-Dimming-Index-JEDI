{
 "cells": [
  {
   "cell_type": "code",
   "execution_count": 134,
   "metadata": {},
   "outputs": [],
   "source": [
    "# Standard modules\n",
    "import numpy as np\n",
    "import pandas as pd\n",
    "import matplotlib.pyplot as plt\n",
    "\n",
    "# Custom modules\n",
    "from jpm_time_conversions import *\n",
    "from jpm_logger import JpmLogger\n",
    "import peakutils.peak\n",
    "from closest import closest\n",
    "\n",
    "__author__ = 'James Paul Mason'\n",
    "__contact__ = 'jmason86@gmail.com'\n",
    "\n",
    "\n",
    "def light_curve_peak_match_subtract(light_curve_to_subtract_from_df, light_curve_to_subtract_with_df, estimated_time_of_peak,\n",
    "                                    plots_save_path=None, verbose=False):\n",
    "    \"\"\"Align the peak of a second light curve to the first, scale its magnitude to match, and subtract it off.\n",
    "\n",
    "    Inputs:\n",
    "        light_curve_to_subtract_from_df [pd DataFrame]: A pandas DataFrame with a DatetimeIndex and a columns for intensity.\n",
    "        light_curve_to_subtract_with_df [pd DataFrame]: A pandas DataFrame with a DatetimeIndex and a columns for intensity.\n",
    "        estimated_time_of_peak [metatime]: The estimated time that the peak should occur. This could come from, e.g., GOES/XRS.\n",
    "        \n",
    "    Optional Inputs:\n",
    "        plots_save_path [str]: Set to a path in order to save the validation curve and best fit overplot on the data to disk.\n",
    "                               Default is None, meaning no plots will be saved to disk.\n",
    "        verbose [bool]:        Set to log the processing messages to disk and console. Default is False.\n",
    "\n",
    "    Outputs:\n",
    "        light_curve_corrected_df [pd DataFrame]: A pandas DataFrame with the same format as light_curve_to_subtract_from_df but\n",
    "                                                 with the resultant peak match and subtraction performed.\n",
    "        seconds_shift [float]:                   The number of seconds that light_curve_to_subtract_with_df was shifted to get\n",
    "                                                 its peak to match light_curve_to_subtract_from_df.\n",
    "        rescale_factor [float]:                  The multiplicative factor applied to light_curve_to_subtract_with_df to get\n",
    "                                                 its peak to match light_curve_to_subtract_from_df.\n",
    "                                                 \n",
    "    Optional Outputs:\n",
    "        None\n",
    "\n",
    "    Example:\n",
    "        light_curve_corrected_df, seconds_shift, rescale_factor = light_curve_peak_match_subtract(light_curve_to_subtract_from_df, \n",
    "                                                                                                  light_curve_to_subtract_with_df,\n",
    "                                                                                                  estimated_time_of_peak,\n",
    "                                                                                                  plots_save_path='./',\n",
    "                                                                                                  verbose=True)\n",
    "    \"\"\"\n",
    "    return 1"
   ]
  },
  {
   "cell_type": "code",
   "execution_count": 187,
   "metadata": {},
   "outputs": [
    {
     "data": {
      "text/html": [
       "<div>\n",
       "<style>\n",
       "    .dataframe thead tr:only-child th {\n",
       "        text-align: right;\n",
       "    }\n",
       "\n",
       "    .dataframe thead th {\n",
       "        text-align: left;\n",
       "    }\n",
       "\n",
       "    .dataframe tbody tr th {\n",
       "        vertical-align: top;\n",
       "    }\n",
       "</style>\n",
       "<table border=\"1\" class=\"dataframe\">\n",
       "  <thead>\n",
       "    <tr style=\"text-align: right;\">\n",
       "      <th></th>\n",
       "      <th>irradiance</th>\n",
       "    </tr>\n",
       "  </thead>\n",
       "  <tbody>\n",
       "    <tr>\n",
       "      <th>2012-04-15 17:43:20</th>\n",
       "      <td>0.246831</td>\n",
       "    </tr>\n",
       "    <tr>\n",
       "      <th>2012-04-15 17:43:25</th>\n",
       "      <td>0.399922</td>\n",
       "    </tr>\n",
       "    <tr>\n",
       "      <th>2012-04-15 17:43:30</th>\n",
       "      <td>0.275836</td>\n",
       "    </tr>\n",
       "    <tr>\n",
       "      <th>2012-04-15 17:43:35</th>\n",
       "      <td>0.319487</td>\n",
       "    </tr>\n",
       "    <tr>\n",
       "      <th>2012-04-15 17:43:40</th>\n",
       "      <td>0.920058</td>\n",
       "    </tr>\n",
       "  </tbody>\n",
       "</table>\n",
       "</div>"
      ],
      "text/plain": [
       "                     irradiance\n",
       "2012-04-15 17:43:20    0.246831\n",
       "2012-04-15 17:43:25    0.399922\n",
       "2012-04-15 17:43:30    0.275836\n",
       "2012-04-15 17:43:35    0.319487\n",
       "2012-04-15 17:43:40    0.920058"
      ]
     },
     "execution_count": 187,
     "metadata": {},
     "output_type": "execute_result"
    }
   ],
   "source": [
    "# prototype only: set up example inputs\n",
    "%matplotlib inline\n",
    "estimated_time_of_peak = pd.Timestamp('2012-04-15 17:43:20.0')\n",
    "plots_save_path = './'\n",
    "verbose = True\n",
    "\n",
    "from scipy.io.idl import readsav\n",
    "idl_generated_data = readsav('/Users/jmason86/Dropbox/Research/Postdoc_NASA/Analysis/Coronal Dimming Analysis/Example Dimming Light Curve.sav')\n",
    "light_curve_to_subtract_from_df = pd.DataFrame({'irradiance': np.nan_to_num(idl_generated_data.irradiance[:, 3])})\n",
    "light_curve_to_subtract_with_df = pd.DataFrame({'irradiance': np.nan_to_num(idl_generated_data.irradiance[:, 10])})\n",
    "light_curve_to_subtract_from_df.index = yyyydoy_sod_to_datetime(idl_generated_data.yyyydoy, idl_generated_data.sod) # Convert EVE to datetime\n",
    "light_curve_to_subtract_with_df.index = yyyydoy_sod_to_datetime(idl_generated_data.yyyydoy, idl_generated_data.sod) # Convert EVE to datetime\n",
    "light_curve_to_subtract_from_df.head()"
   ]
  },
  {
   "cell_type": "code",
   "execution_count": 231,
   "metadata": {},
   "outputs": [],
   "source": [
    "# Detrend and find the peaks that are ≥ 95% of the max intensity within\n",
    "base_from = peakutils.baseline(light_curve_to_subtract_from_df)\n",
    "detrend_from = light_curve_to_subtract_from_df - base_from\n",
    "indices_from = peakutils.indexes(detrend_from.values.squeeze(), thres=0.95)\n",
    "\n",
    "base_with = peakutils.baseline(light_curve_to_subtract_with_df)\n",
    "detrend_with = light_curve_to_subtract_with_df - base_with\n",
    "indices_with = peakutils.indexes(light_curve_to_subtract_with_df.values.squeeze(), thres=0.95)\n",
    "\n",
    "# Identify the peak closest to the input estimated peak time (e.g., from GOES/XRS)\n",
    "peak_index_from = indices_from[closest(light_curve_to_subtract_from_df.index[indices_from], estimated_time_of_peak)]\n",
    "peak_index_with = indices_with[closest(light_curve_to_subtract_with_df.index[indices_with], estimated_time_of_peak)]\n",
    "\n",
    "# Compute how many seconds the time shift corresponds to\n",
    "seconds_shift = (light_curve_to_subtract_from_df.index[peak_index_from] - \n",
    "                 light_curve_to_subtract_with_df.index[peak_index_with]).total_seconds()"
   ]
  },
  {
   "cell_type": "code",
   "execution_count": 238,
   "metadata": {},
   "outputs": [
    {
     "data": {
      "text/html": [
       "<div>\n",
       "<style>\n",
       "    .dataframe thead tr:only-child th {\n",
       "        text-align: right;\n",
       "    }\n",
       "\n",
       "    .dataframe thead th {\n",
       "        text-align: left;\n",
       "    }\n",
       "\n",
       "    .dataframe tbody tr th {\n",
       "        vertical-align: top;\n",
       "    }\n",
       "</style>\n",
       "<table border=\"1\" class=\"dataframe\">\n",
       "  <thead>\n",
       "    <tr style=\"text-align: right;\">\n",
       "      <th></th>\n",
       "      <th>irradiance</th>\n",
       "    </tr>\n",
       "  </thead>\n",
       "  <tbody>\n",
       "    <tr>\n",
       "      <th>2012-04-15 17:43:20</th>\n",
       "      <td>-0.253397</td>\n",
       "    </tr>\n",
       "    <tr>\n",
       "      <th>2012-04-15 17:43:25</th>\n",
       "      <td>-0.504447</td>\n",
       "    </tr>\n",
       "    <tr>\n",
       "      <th>2012-04-15 17:43:30</th>\n",
       "      <td>-0.337069</td>\n",
       "    </tr>\n",
       "    <tr>\n",
       "      <th>2012-04-15 17:43:35</th>\n",
       "      <td>-0.775113</td>\n",
       "    </tr>\n",
       "    <tr>\n",
       "      <th>2012-04-15 17:43:40</th>\n",
       "      <td>-0.665891</td>\n",
       "    </tr>\n",
       "  </tbody>\n",
       "</table>\n",
       "</div>"
      ],
      "text/plain": [
       "                     irradiance\n",
       "2012-04-15 17:43:20   -0.253397\n",
       "2012-04-15 17:43:25   -0.504447\n",
       "2012-04-15 17:43:30   -0.337069\n",
       "2012-04-15 17:43:35   -0.775113\n",
       "2012-04-15 17:43:40   -0.665891"
      ]
     },
     "execution_count": 238,
     "metadata": {},
     "output_type": "execute_result"
    }
   ],
   "source": [
    "light_curve_to_subtract_with_df.head()"
   ]
  },
  {
   "cell_type": "code",
   "execution_count": 239,
   "metadata": {},
   "outputs": [
    {
     "data": {
      "text/html": [
       "<div>\n",
       "<style>\n",
       "    .dataframe thead tr:only-child th {\n",
       "        text-align: right;\n",
       "    }\n",
       "\n",
       "    .dataframe thead th {\n",
       "        text-align: left;\n",
       "    }\n",
       "\n",
       "    .dataframe tbody tr th {\n",
       "        vertical-align: top;\n",
       "    }\n",
       "</style>\n",
       "<table border=\"1\" class=\"dataframe\">\n",
       "  <thead>\n",
       "    <tr style=\"text-align: right;\">\n",
       "      <th></th>\n",
       "      <th>irradiance</th>\n",
       "    </tr>\n",
       "  </thead>\n",
       "  <tbody>\n",
       "    <tr>\n",
       "      <th>2012-04-15 17:43:20</th>\n",
       "      <td>NaN</td>\n",
       "    </tr>\n",
       "    <tr>\n",
       "      <th>2012-04-15 17:43:25</th>\n",
       "      <td>-0.253397</td>\n",
       "    </tr>\n",
       "    <tr>\n",
       "      <th>2012-04-15 17:43:30</th>\n",
       "      <td>-0.504447</td>\n",
       "    </tr>\n",
       "    <tr>\n",
       "      <th>2012-04-15 17:43:35</th>\n",
       "      <td>-0.337069</td>\n",
       "    </tr>\n",
       "    <tr>\n",
       "      <th>2012-04-15 17:43:40</th>\n",
       "      <td>-0.775113</td>\n",
       "    </tr>\n",
       "  </tbody>\n",
       "</table>\n",
       "</div>"
      ],
      "text/plain": [
       "                     irradiance\n",
       "2012-04-15 17:43:20         NaN\n",
       "2012-04-15 17:43:25   -0.253397\n",
       "2012-04-15 17:43:30   -0.504447\n",
       "2012-04-15 17:43:35   -0.337069\n",
       "2012-04-15 17:43:40   -0.775113"
      ]
     },
     "execution_count": 239,
     "metadata": {},
     "output_type": "execute_result"
    }
   ],
   "source": [
    "# Shift the light curve to subtract with in time to align the peaks\n",
    "light_curve_to_subtract_with_df.shift(peak_index_from - peak_index_with).head()"
   ]
  },
  {
   "cell_type": "code",
   "execution_count": 206,
   "metadata": {},
   "outputs": [
    {
     "data": {
      "image/png": "[encoded data removed]",
      "text/plain": [
       "<matplotlib.figure.Figure at 0x12154cb70>"
      ]
     },
     "metadata": {},
     "output_type": "display_data"
    }
   ],
   "source": [
    "if plots_save_path:\n",
    "    plt.style.use('jpm-light')\n",
    "    plt.plot(detrend_from, c='limegreen', label='subtract from')\n",
    "    plt.plot(detrend_with, c='tomato', label='subtract with')\n",
    "    plt.legend(loc='best')\n",
    "    plt.scatter(detrend_from.index[peak_index_from], detrend_from.values[peak_index_from], c='black')\n",
    "    plt.scatter(detrend_with.index[peak_index_with], detrend_with.values[peak_index_with], c='black');"
   ]
  },
  {
   "cell_type": "code",
   "execution_count": null,
   "metadata": {},
   "outputs": [],
   "source": []
  }
 ],
 "metadata": {
  "kernelspec": {
   "display_name": "Python 3",
   "language": "python",
   "name": "python3"
  },
  "language_info": {
   "codemirror_mode": {
    "name": "ipython",
    "version": 3
   },
   "file_extension": ".py",
   "mimetype": "text/x-python",
   "name": "python",
   "nbconvert_exporter": "python",
   "pygments_lexer": "ipython3",
   "version": "3.6.1"
  },
  "toc": {
   "nav_menu": {},
   "number_sections": true,
   "sideBar": true,
   "skip_h1_title": false,
   "toc_cell": false,
   "toc_position": {},
   "toc_section_display": "block",
   "toc_window_display": false
  },
  "varInspector": {
   "cols": {
    "lenName": 16,
    "lenType": 16,
    "lenVar": 40
   },
   "kernels_config": {
    "python": {
     "delete_cmd_postfix": "",
     "delete_cmd_prefix": "del ",
     "library": "var_list.py",
     "varRefreshCmd": "print(var_dic_list())"
    },
    "r": {
     "delete_cmd_postfix": ") ",
     "delete_cmd_prefix": "rm(",
     "library": "var_list.r",
     "varRefreshCmd": "cat(var_dic_list()) "
    }
   },
   "types_to_exclude": [
    "module",
    "function",
    "builtin_function_or_method",
    "instance",
    "_Feature"
   ],
   "window_display": true
  }
 },
 "nbformat": 4,
 "nbformat_minor": 2
}
