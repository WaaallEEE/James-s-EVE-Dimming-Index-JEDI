{
 "cells": [
  {
   "cell_type": "code",
   "execution_count": 1,
   "metadata": {},
   "outputs": [],
   "source": [
    "# Standard modules\n",
    "import numpy as np\n",
    "import pandas as pd\n",
    "import matplotlib.pyplot as plt\n",
    "from sunpy.net import Fido, attrs\n",
    "from sunpy.net.fido_factory import UnifiedResponse\n",
    "\n",
    "# Custom modules\n",
    "from jpm_logger import JpmLogger\n",
    "\n",
    "__author__ = 'James Paul Mason'\n",
    "__contact__ = 'jmason86@gmail.com'\n",
    "\n",
    "\n",
    "def get_sdo_eve_lines_data(start_time, end_time, \n",
    "                           verbose=False):\n",
    "    \"\"\"Get emission lines data product from the Solar Dynamics Observatory / Extreme Ultraviolet Variability Experiment.\n",
    "\n",
    "    Inputs:\n",
    "        start_time [metatime]: The beginning of the time window of interest. See jpm_time_conversions.py\n",
    "                               (https://github.com/jmason86/python_convenience_functions/blob/master/jpm_time_conversions.py)\n",
    "                               for allowed metatime formats.\n",
    "        end_time [metatime]:   Same as start time but for the end of the time window.\n",
    "        \n",
    "    Optional Inputs:\n",
    "        verbose [bool]: Set to log the processing messages to disk and console. Default is False.\n",
    "\n",
    "    Outputs:\n",
    "        TBD\n",
    "                                                 \n",
    "    Optional Outputs:\n",
    "        None\n",
    "\n",
    "    Example:\n",
    "        TBD\n",
    "    \"\"\"\n",
    "    return 1"
   ]
  },
  {
   "cell_type": "code",
   "execution_count": 2,
   "metadata": {},
   "outputs": [],
   "source": [
    "# prototype only: setup for test case\n",
    "start_time = \"2010-09-05 00:00:00\"\n",
    "end_time = \"2010-09-05 01:00:00\""
   ]
  },
  {
   "cell_type": "code",
   "execution_count": 4,
   "metadata": {},
   "outputs": [
    {
     "data": {
      "text/html": [
       "Results from 1 Provider:</br></br>6 Results from the VSOClient:</br>&lt;QTable length=6&gt;\n",
       "<table id=\"table4764029392\" class=\"table-striped table-bordered table-condensed\">\n",
       "<thead><tr><th>Start Time [1]</th><th>End Time [1]</th><th>Source</th><th>Instrument</th><th>Type</th><th>Wavelength [2]</th></tr></thead>\n",
       "<thead><tr><th></th><th></th><th></th><th></th><th></th><th>Angstrom</th></tr></thead>\n",
       "<thead><tr><th>str19</th><th>str19</th><th>str3</th><th>str3</th><th>str8</th><th>float64</th></tr></thead>\n",
       "<tr><td>2010-09-05 00:00:00</td><td>2010-09-06 00:00:00</td><td>SDO</td><td>EVE</td><td>FULLDISK</td><td>1.0 .. 304.0</td></tr>\n",
       "<tr><td>2010-09-05 00:00:00</td><td>2010-09-05 01:00:00</td><td>SDO</td><td>EVE</td><td>FULLDISK</td><td>93.0 .. 1033.0</td></tr>\n",
       "<tr><td>2010-09-05 01:00:00</td><td>2010-09-05 02:00:00</td><td>SDO</td><td>EVE</td><td>FULLDISK</td><td>93.0 .. 1033.0</td></tr>\n",
       "<tr><td>2010-09-05 00:00:00</td><td>2010-09-05 01:00:00</td><td>SDO</td><td>EVE</td><td>FULLDISK</td><td>60.0 .. 1060.0</td></tr>\n",
       "<tr><td>2010-09-05 01:00:00</td><td>2010-09-05 02:00:00</td><td>SDO</td><td>EVE</td><td>FULLDISK</td><td>60.0 .. 1060.0</td></tr>\n",
       "<tr><td>2010-09-05 00:00:00</td><td>2010-09-06 00:00:00</td><td>SDO</td><td>EVE</td><td>FULLDISK</td><td>1.0 .. 1050.0</td></tr>\n",
       "</table></br>"
      ],
      "text/plain": [
       "<sunpy.net.fido_factory.UnifiedResponse object at 0x11f952898>\n",
       "Results from 1 Provider:\n",
       "\n",
       "6 Results from the VSOClient:\n",
       "   Start Time [1]       End Time [1]    Source ...   Type   Wavelength [2]\n",
       "                                               ...             Angstrom   \n",
       "       str19               str19         str3  ...   str8      float64    \n",
       "------------------- ------------------- ------ ... -------- --------------\n",
       "2010-09-05 00:00:00 2010-09-06 00:00:00    SDO ... FULLDISK   1.0 .. 304.0\n",
       "2010-09-05 00:00:00 2010-09-05 01:00:00    SDO ... FULLDISK 93.0 .. 1033.0\n",
       "2010-09-05 01:00:00 2010-09-05 02:00:00    SDO ... FULLDISK 93.0 .. 1033.0\n",
       "2010-09-05 00:00:00 2010-09-05 01:00:00    SDO ... FULLDISK 60.0 .. 1060.0\n",
       "2010-09-05 01:00:00 2010-09-05 02:00:00    SDO ... FULLDISK 60.0 .. 1060.0\n",
       "2010-09-05 00:00:00 2010-09-06 00:00:00    SDO ... FULLDISK  1.0 .. 1050.0\n"
      ]
     },
     "execution_count": 4,
     "metadata": {},
     "output_type": "execute_result"
    }
   ],
   "source": [
    "results = Fido.search(attrs.Time(\"2010-09-05 00:00:00\", \"2010-09-05 01:00:00\"), attrs.Instrument('eve'))\n",
    "results"
   ]
  },
  {
   "cell_type": "markdown",
   "metadata": {},
   "source": [
    "The lines are the ones that have wavelength range [93.0 .. 1033.0] so I should be able to use wavemin to filter for them. But as you can see below, that doesn't actually work. It still returns the spectra (wavelength range [60.0 .. 1060.0], which makes no sense because that's not consistent with the input filter criteria. \n",
    "I've contacted Joe Gurman of the VSO at GSFC about this. "
   ]
  },
  {
   "cell_type": "code",
   "execution_count": 5,
   "metadata": {},
   "outputs": [
    {
     "data": {
      "text/html": [
       "Results from 1 Provider:</br></br>3 Results from the VSOClient:</br>&lt;QTable length=3&gt;\n",
       "<table id=\"table4842875424\" class=\"table-striped table-bordered table-condensed\">\n",
       "<thead><tr><th>Start Time [1]</th><th>End Time [1]</th><th>Source</th><th>Instrument</th><th>Type</th><th>Wavelength [2]</th></tr></thead>\n",
       "<thead><tr><th></th><th></th><th></th><th></th><th></th><th>Angstrom</th></tr></thead>\n",
       "<thead><tr><th>str19</th><th>str19</th><th>str3</th><th>str3</th><th>str8</th><th>float64</th></tr></thead>\n",
       "<tr><td>2010-09-05 00:00:00</td><td>2010-09-05 01:00:00</td><td>SDO</td><td>EVE</td><td>FULLDISK</td><td>60.0 .. 1060.0</td></tr>\n",
       "<tr><td>2010-09-05 01:00:00</td><td>2010-09-05 02:00:00</td><td>SDO</td><td>EVE</td><td>FULLDISK</td><td>60.0 .. 1060.0</td></tr>\n",
       "<tr><td>2010-09-05 00:00:00</td><td>2010-09-06 00:00:00</td><td>SDO</td><td>EVE</td><td>FULLDISK</td><td>1.0 .. 1050.0</td></tr>\n",
       "</table></br>"
      ],
      "text/plain": [
       "<sunpy.net.fido_factory.UnifiedResponse object at 0x11f9d40b8>\n",
       "Results from 1 Provider:\n",
       "\n",
       "3 Results from the VSOClient:\n",
       "   Start Time [1]       End Time [1]    Source ...   Type   Wavelength [2]\n",
       "                                               ...             Angstrom   \n",
       "       str19               str19         str3  ...   str8      float64    \n",
       "------------------- ------------------- ------ ... -------- --------------\n",
       "2010-09-05 00:00:00 2010-09-05 01:00:00    SDO ... FULLDISK 60.0 .. 1060.0\n",
       "2010-09-05 01:00:00 2010-09-05 02:00:00    SDO ... FULLDISK 60.0 .. 1060.0\n",
       "2010-09-05 00:00:00 2010-09-06 00:00:00    SDO ... FULLDISK  1.0 .. 1050.0\n"
      ]
     },
     "execution_count": 5,
     "metadata": {},
     "output_type": "execute_result"
    }
   ],
   "source": [
    "from astropy import units as u\n",
    "results_lines_only = Fido.search(attrs.Time(start_time, end_time), attrs.Instrument('eve'), attrs.Wavelength(wavemin=62 * u.angstrom, wavemax=1035 * u.angstrom))\n",
    "results_lines_only"
   ]
  },
  {
   "cell_type": "code",
   "execution_count": 6,
   "metadata": {},
   "outputs": [],
   "source": []
  },
  {
   "cell_type": "code",
   "execution_count": 49,
   "metadata": {},
   "outputs": [
    {
     "name": "stdout",
     "output_type": "stream",
     "text": [
      "[]\n"
     ]
    }
   ],
   "source": [
    "# Get the direct response from the VSO and filter for just the lines product\n",
    "vso_responses = list(results.responses)\n",
    "toss_indices = []\n",
    "for i in range(0, len(vso_responses[0])):\n",
    "    if 'Lines' not in vso_responses[0][i]['info']:\n",
    "        toss_indices.append(i)\n",
    "for toss_index in sorted(toss_indices, reverse=True):\n",
    "    del vso_responses[0][toss_index]"
   ]
  },
  {
   "cell_type": "code",
   "execution_count": 52,
   "metadata": {},
   "outputs": [
    {
     "name": "stdout",
     "output_type": "stream",
     "text": [
      "[                                        ========================================\n"
     ]
    }
   ],
   "source": [
    "# Convert the filtered response back to the UnifiedResponse and download\n",
    "results = UnifiedResponse(vso_responses)\n",
    "files = Fido.fetch(results, path='./{instrument}/{info}/{file}.fits')"
   ]
  },
  {
   "cell_type": "code",
   "execution_count": null,
   "metadata": {},
   "outputs": [],
   "source": [
    "# Read the files and merge them into a single Dataframe"
   ]
  },
  {
   "cell_type": "code",
   "execution_count": null,
   "metadata": {},
   "outputs": [],
   "source": [
    "# Optionally average the data"
   ]
  },
  {
   "cell_type": "code",
   "execution_count": null,
   "metadata": {},
   "outputs": [],
   "source": [
    "# Optionally change the missing data flag from -1 to user desired value"
   ]
  },
  {
   "cell_type": "code",
   "execution_count": null,
   "metadata": {},
   "outputs": [],
   "source": []
  },
  {
   "cell_type": "code",
   "execution_count": null,
   "metadata": {},
   "outputs": [],
   "source": []
  },
  {
   "cell_type": "code",
   "execution_count": null,
   "metadata": {},
   "outputs": [],
   "source": [
    "# Return the EVE lines data with any optional modifications\n",
    "return tbd"
   ]
  }
 ],
 "metadata": {
  "kernelspec": {
   "display_name": "Python 3",
   "language": "python",
   "name": "python3"
  },
  "language_info": {
   "codemirror_mode": {
    "name": "ipython",
    "version": 3
   },
   "file_extension": ".py",
   "mimetype": "text/x-python",
   "name": "python",
   "nbconvert_exporter": "python",
   "pygments_lexer": "ipython3",
   "version": "3.6.1"
  },
  "toc": {
   "nav_menu": {},
   "number_sections": true,
   "sideBar": true,
   "skip_h1_title": false,
   "toc_cell": false,
   "toc_position": {},
   "toc_section_display": "block",
   "toc_window_display": false
  },
  "varInspector": {
   "cols": {
    "lenName": 16,
    "lenType": 16,
    "lenVar": 40
   },
   "kernels_config": {
    "python": {
     "delete_cmd_postfix": "",
     "delete_cmd_prefix": "del ",
     "library": "var_list.py",
     "varRefreshCmd": "print(var_dic_list())"
    },
    "r": {
     "delete_cmd_postfix": ") ",
     "delete_cmd_prefix": "rm(",
     "library": "var_list.r",
     "varRefreshCmd": "cat(var_dic_list()) "
    }
   },
   "oldHeight": 123.18181799999999,
   "position": {
    "height": "40px",
    "left": "892.727px",
    "right": "20px",
    "top": "120px",
    "width": "250px"
   },
   "types_to_exclude": [
    "module",
    "function",
    "builtin_function_or_method",
    "instance",
    "_Feature"
   ],
   "varInspector_section_display": "none",
   "window_display": true
  }
 },
 "nbformat": 4,
 "nbformat_minor": 2
}
