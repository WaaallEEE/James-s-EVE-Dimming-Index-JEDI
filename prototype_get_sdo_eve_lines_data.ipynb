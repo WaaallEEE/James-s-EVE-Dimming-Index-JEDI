{
 "cells": [
  {
   "cell_type": "code",
   "execution_count": 321,
   "metadata": {},
   "outputs": [],
   "source": [
    "# Standard modules\n",
    "import numpy as np\n",
    "import pandas as pd\n",
    "import matplotlib.pyplot as plt\n",
    "from sunpy.net import Fido, attrs\n",
    "from sunpy.net.fido_factory import UnifiedResponse\n",
    "\n",
    "# Custom modules\n",
    "from jpm_logger import JpmLogger\n",
    "from jpm_time_conversions import *\n",
    "\n",
    "__author__ = 'James Paul Mason'\n",
    "__contact__ = 'jmason86@gmail.com'\n",
    "\n",
    "\n",
    "def get_sdo_eve_lines_data(start_time, end_time, \n",
    "                           verbose=False):\n",
    "    \"\"\"Get emission lines data product from the Solar Dynamics Observatory / Extreme Ultraviolet Variability Experiment.\n",
    "\n",
    "    Inputs:\n",
    "        start_time [metatime]: The beginning of the time window of interest. See jpm_time_conversions.py\n",
    "                               (https://github.com/jmason86/python_convenience_functions/blob/master/jpm_time_conversions.py)\n",
    "                               for allowed metatime formats.\n",
    "        end_time [metatime]:   Same as start time but for the end of the time window.\n",
    "        \n",
    "    Optional Inputs:\n",
    "        verbose [bool]: Set to log the processing messages to disk and console. Default is False.\n",
    "\n",
    "    Outputs:\n",
    "        TBD\n",
    "                                                 \n",
    "    Optional Outputs:\n",
    "        None\n",
    "\n",
    "    Example:\n",
    "        TBD\n",
    "    \"\"\"\n",
    "    return 1"
   ]
  },
  {
   "cell_type": "code",
   "execution_count": 260,
   "metadata": {},
   "outputs": [],
   "source": [
    "# prototype only: setup for test case\n",
    "start_time = \"2010-09-05 00:00:00\"\n",
    "end_time = \"2010-09-05 01:00:00\"\n",
    "%matplotlib inline"
   ]
  },
  {
   "cell_type": "code",
   "execution_count": 3,
   "metadata": {},
   "outputs": [
    {
     "data": {
      "text/html": [
       "Results from 1 Provider:</br></br>6 Results from the VSOClient:</br>&lt;QTable length=6&gt;\n",
       "<table id=\"table4888217920\" class=\"table-striped table-bordered table-condensed\">\n",
       "<thead><tr><th>Start Time [1]</th><th>End Time [1]</th><th>Source</th><th>Instrument</th><th>Type</th><th>Wavelength [2]</th></tr></thead>\n",
       "<thead><tr><th></th><th></th><th></th><th></th><th></th><th>Angstrom</th></tr></thead>\n",
       "<thead><tr><th>str19</th><th>str19</th><th>str3</th><th>str3</th><th>str8</th><th>float64</th></tr></thead>\n",
       "<tr><td>2010-09-05 00:00:00</td><td>2010-09-06 00:00:00</td><td>SDO</td><td>EVE</td><td>FULLDISK</td><td>1.0 .. 304.0</td></tr>\n",
       "<tr><td>2010-09-05 00:00:00</td><td>2010-09-05 01:00:00</td><td>SDO</td><td>EVE</td><td>FULLDISK</td><td>93.0 .. 1033.0</td></tr>\n",
       "<tr><td>2010-09-05 01:00:00</td><td>2010-09-05 02:00:00</td><td>SDO</td><td>EVE</td><td>FULLDISK</td><td>93.0 .. 1033.0</td></tr>\n",
       "<tr><td>2010-09-05 00:00:00</td><td>2010-09-05 01:00:00</td><td>SDO</td><td>EVE</td><td>FULLDISK</td><td>60.0 .. 1060.0</td></tr>\n",
       "<tr><td>2010-09-05 01:00:00</td><td>2010-09-05 02:00:00</td><td>SDO</td><td>EVE</td><td>FULLDISK</td><td>60.0 .. 1060.0</td></tr>\n",
       "<tr><td>2010-09-05 00:00:00</td><td>2010-09-06 00:00:00</td><td>SDO</td><td>EVE</td><td>FULLDISK</td><td>1.0 .. 1050.0</td></tr>\n",
       "</table></br>"
      ],
      "text/plain": [
       "<sunpy.net.fido_factory.UnifiedResponse object at 0x123566f98>\n",
       "Results from 1 Provider:\n",
       "\n",
       "6 Results from the VSOClient:\n",
       "   Start Time [1]       End Time [1]    Source ...   Type   Wavelength [2]\n",
       "                                               ...             Angstrom   \n",
       "       str19               str19         str3  ...   str8      float64    \n",
       "------------------- ------------------- ------ ... -------- --------------\n",
       "2010-09-05 00:00:00 2010-09-06 00:00:00    SDO ... FULLDISK   1.0 .. 304.0\n",
       "2010-09-05 00:00:00 2010-09-05 01:00:00    SDO ... FULLDISK 93.0 .. 1033.0\n",
       "2010-09-05 01:00:00 2010-09-05 02:00:00    SDO ... FULLDISK 93.0 .. 1033.0\n",
       "2010-09-05 00:00:00 2010-09-05 01:00:00    SDO ... FULLDISK 60.0 .. 1060.0\n",
       "2010-09-05 01:00:00 2010-09-05 02:00:00    SDO ... FULLDISK 60.0 .. 1060.0\n",
       "2010-09-05 00:00:00 2010-09-06 00:00:00    SDO ... FULLDISK  1.0 .. 1050.0\n"
      ]
     },
     "execution_count": 3,
     "metadata": {},
     "output_type": "execute_result"
    }
   ],
   "source": [
    "results = Fido.search(attrs.Time(\"2010-09-05 00:00:00\", \"2010-09-05 01:00:00\"), attrs.Instrument('eve'))\n",
    "results"
   ]
  },
  {
   "cell_type": "markdown",
   "metadata": {},
   "source": [
    "The lines are the ones that have wavelength range [93.0 .. 1033.0] so I should be able to use wavemin to filter for them. But as you can see below, that doesn't actually work. It still returns the spectra (wavelength range [60.0 .. 1060.0], which makes no sense because that's not consistent with the input filter criteria. \n",
    "I've contacted Joe Gurman of the VSO at GSFC about this. "
   ]
  },
  {
   "cell_type": "code",
   "execution_count": 4,
   "metadata": {},
   "outputs": [
    {
     "data": {
      "text/html": [
       "Results from 1 Provider:</br></br>3 Results from the VSOClient:</br>&lt;QTable length=3&gt;\n",
       "<table id=\"table4905819384\" class=\"table-striped table-bordered table-condensed\">\n",
       "<thead><tr><th>Start Time [1]</th><th>End Time [1]</th><th>Source</th><th>Instrument</th><th>Type</th><th>Wavelength [2]</th></tr></thead>\n",
       "<thead><tr><th></th><th></th><th></th><th></th><th></th><th>Angstrom</th></tr></thead>\n",
       "<thead><tr><th>str19</th><th>str19</th><th>str3</th><th>str3</th><th>str8</th><th>float64</th></tr></thead>\n",
       "<tr><td>2010-09-05 00:00:00</td><td>2010-09-05 01:00:00</td><td>SDO</td><td>EVE</td><td>FULLDISK</td><td>60.0 .. 1060.0</td></tr>\n",
       "<tr><td>2010-09-05 01:00:00</td><td>2010-09-05 02:00:00</td><td>SDO</td><td>EVE</td><td>FULLDISK</td><td>60.0 .. 1060.0</td></tr>\n",
       "<tr><td>2010-09-05 00:00:00</td><td>2010-09-06 00:00:00</td><td>SDO</td><td>EVE</td><td>FULLDISK</td><td>1.0 .. 1050.0</td></tr>\n",
       "</table></br>"
      ],
      "text/plain": [
       "<sunpy.net.fido_factory.UnifiedResponse object at 0x1235c4390>\n",
       "Results from 1 Provider:\n",
       "\n",
       "3 Results from the VSOClient:\n",
       "   Start Time [1]       End Time [1]    Source ...   Type   Wavelength [2]\n",
       "                                               ...             Angstrom   \n",
       "       str19               str19         str3  ...   str8      float64    \n",
       "------------------- ------------------- ------ ... -------- --------------\n",
       "2010-09-05 00:00:00 2010-09-05 01:00:00    SDO ... FULLDISK 60.0 .. 1060.0\n",
       "2010-09-05 01:00:00 2010-09-05 02:00:00    SDO ... FULLDISK 60.0 .. 1060.0\n",
       "2010-09-05 00:00:00 2010-09-06 00:00:00    SDO ... FULLDISK  1.0 .. 1050.0\n"
      ]
     },
     "execution_count": 4,
     "metadata": {},
     "output_type": "execute_result"
    }
   ],
   "source": [
    "from astropy import units as u\n",
    "results_lines_only = Fido.search(attrs.Time(start_time, end_time), attrs.Instrument('eve'), attrs.Wavelength(wavemin=62 * u.angstrom, wavemax=1035 * u.angstrom))\n",
    "results_lines_only"
   ]
  },
  {
   "cell_type": "code",
   "execution_count": null,
   "metadata": {},
   "outputs": [],
   "source": []
  },
  {
   "cell_type": "code",
   "execution_count": 5,
   "metadata": {},
   "outputs": [],
   "source": [
    "# Get the direct response from the VSO and filter for just the lines product\n",
    "vso_responses = list(results.responses)\n",
    "toss_indices = []\n",
    "for i in range(0, len(vso_responses[0])):\n",
    "    if 'Lines' not in vso_responses[0][i]['info']:\n",
    "        toss_indices.append(i)\n",
    "for toss_index in sorted(toss_indices, reverse=True):\n",
    "    del vso_responses[0][toss_index]"
   ]
  },
  {
   "cell_type": "code",
   "execution_count": 6,
   "metadata": {},
   "outputs": [
    {
     "name": "stdout",
     "output_type": "stream",
     "text": [
      "[                                        ===============================\n",
      "========="
     ]
    }
   ],
   "source": [
    "# Convert the filtered response back to the UnifiedResponse and download\n",
    "results = UnifiedResponse(vso_responses)\n",
    "files = Fido.fetch(results, path='./{instrument}/{info}/{file}.fits')"
   ]
  },
  {
   "cell_type": "code",
   "execution_count": 7,
   "metadata": {},
   "outputs": [],
   "source": [
    "# Read the files and merge them into a single Dataframe"
   ]
  },
  {
   "cell_type": "code",
   "execution_count": 8,
   "metadata": {},
   "outputs": [],
   "source": [
    "from sunpy import io"
   ]
  },
  {
   "cell_type": "code",
   "execution_count": 240,
   "metadata": {},
   "outputs": [],
   "source": [
    "import astropy.io.fits as pyfits\n",
    "pony = pyfits.open(files[0])"
   ]
  },
  {
   "cell_type": "code",
   "execution_count": 241,
   "metadata": {},
   "outputs": [
    {
     "name": "stdout",
     "output_type": "stream",
     "text": [
      "Filename: ./EVE/L2Lines (merged)/evl_l2_2010248_00_006_02_fit.gz.3.fits\n",
      "No.    Name      Ver    Type      Cards   Dimensions   Format\n",
      "  0  PRIMARY       1 PrimaryHDU       4   ()      \n",
      "  1  LinesMeta     1 BinTableHDU     47   39R x 7C   [E, E, E, E, 8A, 5A, 13A]   \n",
      "  2  BandsMeta     1 BinTableHDU     31   20R x 4C   [13A, 4A, E, E]   \n",
      "  3  DiodeMeta     1 BinTableHDU     26   6R x 2C   [4A, 6A]   \n",
      "  4  QuadMeta      1 BinTableHDU     26   4R x 2C   [2A, 3A]   \n",
      "  5  LinesData     1 BinTableHDU    114   360R x 19C   [D, J, D, B, B, 39E, 39E, 39E, 20E, 20E, 20E, 6E, 6E, 6E, 6E, 4E, 4E, 4E, 4E]   \n",
      "  6  LinesDataUnits    1 BinTableHDU     58   1R x 19C   [87A, 62A, 65A, 49A, 81A, 171A, 18A, 17A, 242A, 18A, 17A, 59A, 72A, 18A, 66A, 135A, 72A, 49A, 75A]   \n"
     ]
    }
   ],
   "source": [
    "pony.info()"
   ]
  },
  {
   "cell_type": "code",
   "execution_count": null,
   "metadata": {},
   "outputs": [],
   "source": []
  },
  {
   "cell_type": "code",
   "execution_count": 322,
   "metadata": {},
   "outputs": [],
   "source": [
    "names = pony[1].data['NAME']\n",
    "wavelengths = pony[1].data['WAVE_CENTER']\n",
    "line_irradiance = pony[5].data['LINE_IRRADIANCE']\n",
    "yyyydoy = pony[5].data['YYYYDOY']\n",
    "sod = pony[5].data['SOD']\n",
    "eve_dt = yyyydoy_sod_to_datetime(yyyydoy, sod)"
   ]
  },
  {
   "cell_type": "code",
   "execution_count": 319,
   "metadata": {},
   "outputs": [
    {
     "data": {
      "text/plain": [
       "(5e-05, 6e-05)"
      ]
     },
     "execution_count": 319,
     "metadata": {},
     "output_type": "execute_result"
    },
    {
     "data": {
      "image/png": "[encoded data removed]",
      "text/plain": [
       "<matplotlib.figure.Figure at 0x12990e7b8>"
      ]
     },
     "metadata": {},
     "output_type": "display_data"
    }
   ],
   "source": [
    "plt.plot(line_irradiance[:, 3])\n",
    "plt.ylim(5e-5, 6e-5)"
   ]
  },
  {
   "cell_type": "code",
   "execution_count": 341,
   "metadata": {},
   "outputs": [],
   "source": [
    "df = pd.DataFrame(line_irradiance,columns=wavelengths)"
   ]
  },
  {
   "cell_type": "code",
   "execution_count": 339,
   "metadata": {},
   "outputs": [
    {
     "name": "stdout",
     "output_type": "stream",
     "text": [
      "360\n"
     ]
    },
    {
     "data": {
      "text/html": [
       "<div>\n",
       "<style scoped>\n",
       "    .dataframe tbody tr th:only-of-type {\n",
       "        vertical-align: middle;\n",
       "    }\n",
       "\n",
       "    .dataframe tbody tr th {\n",
       "        vertical-align: top;\n",
       "    }\n",
       "\n",
       "    .dataframe thead th {\n",
       "        text-align: right;\n",
       "    }\n",
       "</style>\n",
       "<table border=\"1\" class=\"dataframe\">\n",
       "  <thead>\n",
       "    <tr style=\"text-align: right;\">\n",
       "      <th></th>\n",
       "      <th>9.392600059509277</th>\n",
       "      <th>13.12399959564209</th>\n",
       "      <th>13.28499984741211</th>\n",
       "      <th>17.10700035095215</th>\n",
       "      <th>17.724300384521484</th>\n",
       "      <th>18.040700912475586</th>\n",
       "      <th>19.511999130249023</th>\n",
       "      <th>20.20439910888672</th>\n",
       "      <th>21.133100509643555</th>\n",
       "      <th>25.63170051574707</th>\n",
       "      <th>...</th>\n",
       "      <th>71.85350036621094</th>\n",
       "      <th>72.15599822998047</th>\n",
       "      <th>77.04090118408203</th>\n",
       "      <th>79.0198974609375</th>\n",
       "      <th>83.55000305175781</th>\n",
       "      <th>94.97000122070312</th>\n",
       "      <th>97.25370025634766</th>\n",
       "      <th>97.7030029296875</th>\n",
       "      <th>102.5719985961914</th>\n",
       "      <th>103.19000244140625</th>\n",
       "    </tr>\n",
       "  </thead>\n",
       "  <tbody>\n",
       "    <tr>\n",
       "      <th>0</th>\n",
       "      <td>-1.000000</td>\n",
       "      <td>-1.000000</td>\n",
       "      <td>-1.000000e+00</td>\n",
       "      <td>-1.000000</td>\n",
       "      <td>-1.000000</td>\n",
       "      <td>-1.00000</td>\n",
       "      <td>-1.000000</td>\n",
       "      <td>-1.00000</td>\n",
       "      <td>-1.000000</td>\n",
       "      <td>-1.000000</td>\n",
       "      <td>...</td>\n",
       "      <td>-1.0</td>\n",
       "      <td>-1.0</td>\n",
       "      <td>-1.0</td>\n",
       "      <td>-1.0</td>\n",
       "      <td>-1.0</td>\n",
       "      <td>-1.0</td>\n",
       "      <td>-1.0</td>\n",
       "      <td>-1.0</td>\n",
       "      <td>-1.0</td>\n",
       "      <td>-1.0</td>\n",
       "    </tr>\n",
       "    <tr>\n",
       "      <th>1</th>\n",
       "      <td>0.000004</td>\n",
       "      <td>0.000002</td>\n",
       "      <td>7.554066e-07</td>\n",
       "      <td>0.000056</td>\n",
       "      <td>0.000036</td>\n",
       "      <td>0.00005</td>\n",
       "      <td>0.000037</td>\n",
       "      <td>0.00003</td>\n",
       "      <td>0.000017</td>\n",
       "      <td>0.000030</td>\n",
       "      <td>...</td>\n",
       "      <td>-1.0</td>\n",
       "      <td>-1.0</td>\n",
       "      <td>-1.0</td>\n",
       "      <td>-1.0</td>\n",
       "      <td>-1.0</td>\n",
       "      <td>-1.0</td>\n",
       "      <td>-1.0</td>\n",
       "      <td>-1.0</td>\n",
       "      <td>-1.0</td>\n",
       "      <td>-1.0</td>\n",
       "    </tr>\n",
       "    <tr>\n",
       "      <th>2</th>\n",
       "      <td>0.000004</td>\n",
       "      <td>0.000002</td>\n",
       "      <td>7.535070e-07</td>\n",
       "      <td>0.000057</td>\n",
       "      <td>0.000037</td>\n",
       "      <td>0.00005</td>\n",
       "      <td>0.000037</td>\n",
       "      <td>0.00003</td>\n",
       "      <td>0.000017</td>\n",
       "      <td>0.000030</td>\n",
       "      <td>...</td>\n",
       "      <td>-1.0</td>\n",
       "      <td>-1.0</td>\n",
       "      <td>-1.0</td>\n",
       "      <td>-1.0</td>\n",
       "      <td>-1.0</td>\n",
       "      <td>-1.0</td>\n",
       "      <td>-1.0</td>\n",
       "      <td>-1.0</td>\n",
       "      <td>-1.0</td>\n",
       "      <td>-1.0</td>\n",
       "    </tr>\n",
       "    <tr>\n",
       "      <th>3</th>\n",
       "      <td>0.000004</td>\n",
       "      <td>0.000002</td>\n",
       "      <td>7.084093e-07</td>\n",
       "      <td>0.000056</td>\n",
       "      <td>0.000037</td>\n",
       "      <td>0.00005</td>\n",
       "      <td>0.000036</td>\n",
       "      <td>0.00003</td>\n",
       "      <td>0.000018</td>\n",
       "      <td>0.000031</td>\n",
       "      <td>...</td>\n",
       "      <td>-1.0</td>\n",
       "      <td>-1.0</td>\n",
       "      <td>-1.0</td>\n",
       "      <td>-1.0</td>\n",
       "      <td>-1.0</td>\n",
       "      <td>-1.0</td>\n",
       "      <td>-1.0</td>\n",
       "      <td>-1.0</td>\n",
       "      <td>-1.0</td>\n",
       "      <td>-1.0</td>\n",
       "    </tr>\n",
       "    <tr>\n",
       "      <th>4</th>\n",
       "      <td>0.000004</td>\n",
       "      <td>0.000002</td>\n",
       "      <td>7.334931e-07</td>\n",
       "      <td>0.000055</td>\n",
       "      <td>0.000036</td>\n",
       "      <td>0.00005</td>\n",
       "      <td>0.000037</td>\n",
       "      <td>0.00003</td>\n",
       "      <td>0.000017</td>\n",
       "      <td>0.000030</td>\n",
       "      <td>...</td>\n",
       "      <td>-1.0</td>\n",
       "      <td>-1.0</td>\n",
       "      <td>-1.0</td>\n",
       "      <td>-1.0</td>\n",
       "      <td>-1.0</td>\n",
       "      <td>-1.0</td>\n",
       "      <td>-1.0</td>\n",
       "      <td>-1.0</td>\n",
       "      <td>-1.0</td>\n",
       "      <td>-1.0</td>\n",
       "    </tr>\n",
       "  </tbody>\n",
       "</table>\n",
       "<p>5 rows × 39 columns</p>\n",
       "</div>"
      ],
      "text/plain": [
       "   9.392600    13.124000     13.285000   17.107000   17.724300   18.040701   \\\n",
       "0   -1.000000   -1.000000 -1.000000e+00   -1.000000   -1.000000    -1.00000   \n",
       "1    0.000004    0.000002  7.554066e-07    0.000056    0.000036     0.00005   \n",
       "2    0.000004    0.000002  7.535070e-07    0.000057    0.000037     0.00005   \n",
       "3    0.000004    0.000002  7.084093e-07    0.000056    0.000037     0.00005   \n",
       "4    0.000004    0.000002  7.334931e-07    0.000055    0.000036     0.00005   \n",
       "\n",
       "   19.511999   20.204399   21.133101   25.631701      ...      71.853500   \\\n",
       "0   -1.000000    -1.00000   -1.000000   -1.000000     ...            -1.0   \n",
       "1    0.000037     0.00003    0.000017    0.000030     ...            -1.0   \n",
       "2    0.000037     0.00003    0.000017    0.000030     ...            -1.0   \n",
       "3    0.000036     0.00003    0.000018    0.000031     ...            -1.0   \n",
       "4    0.000037     0.00003    0.000017    0.000030     ...            -1.0   \n",
       "\n",
       "   72.155998   77.040901   79.019897   83.550003   94.970001   97.253700   \\\n",
       "0        -1.0        -1.0        -1.0        -1.0        -1.0        -1.0   \n",
       "1        -1.0        -1.0        -1.0        -1.0        -1.0        -1.0   \n",
       "2        -1.0        -1.0        -1.0        -1.0        -1.0        -1.0   \n",
       "3        -1.0        -1.0        -1.0        -1.0        -1.0        -1.0   \n",
       "4        -1.0        -1.0        -1.0        -1.0        -1.0        -1.0   \n",
       "\n",
       "   97.703003   102.571999  103.190002  \n",
       "0        -1.0        -1.0        -1.0  \n",
       "1        -1.0        -1.0        -1.0  \n",
       "2        -1.0        -1.0        -1.0  \n",
       "3        -1.0        -1.0        -1.0  \n",
       "4        -1.0        -1.0        -1.0  \n",
       "\n",
       "[5 rows x 39 columns]"
      ]
     },
     "execution_count": 339,
     "metadata": {},
     "output_type": "execute_result"
    }
   ],
   "source": [
    "print(len(df))\n",
    "df.head()"
   ]
  },
  {
   "cell_type": "code",
   "execution_count": null,
   "metadata": {},
   "outputs": [],
   "source": []
  },
  {
   "cell_type": "code",
   "execution_count": null,
   "metadata": {},
   "outputs": [],
   "source": []
  },
  {
   "cell_type": "code",
   "execution_count": 174,
   "metadata": {},
   "outputs": [],
   "source": [
    "# sunpy read in.. the [2] is just a point in time\n",
    "tai = data[2][0]\n",
    "yyyydoy = data[2][1]\n",
    "sod = data[2][2]\n",
    "flags = data[2][3]\n",
    "sc_flags = data[2][4]\n",
    "line_irradiance = data[2][5]\n",
    "line_precision = data[2][6]\n",
    "line_accuracy = data[2][7]\n",
    "band_irradiance = data[2][8]\n",
    "band_precision = data[2][9]\n",
    "band_accuracy = data[2][10]\n",
    "diode_irradiance = data[2][11]\n",
    "diode_stdev = data[2][12]\n",
    "diode_precision = data[2][13]\n",
    "diode_accuracy = data[2][14]\n",
    "quad_fraction = data[2][15]\n",
    "quad_stdev = data[2][16]\n",
    "quad_precision = data[2][17]\n",
    "quad_accuracy = data[2][18]"
   ]
  },
  {
   "cell_type": "code",
   "execution_count": null,
   "metadata": {},
   "outputs": [],
   "source": []
  },
  {
   "cell_type": "markdown",
   "metadata": {},
   "source": [
    "# Figuring out how sunpy timeseries stores its data"
   ]
  },
  {
   "cell_type": "code",
   "execution_count": 17,
   "metadata": {},
   "outputs": [],
   "source": [
    "import sunpy.timeseries\n",
    "import sunpy.data.sample\n",
    "lyra = sunpy.timeseries.TimeSeries(sunpy.data.sample.LYRA_LEVEL3_TIMESERIES)"
   ]
  },
  {
   "cell_type": "code",
   "execution_count": 18,
   "metadata": {},
   "outputs": [
    {
     "data": {
      "text/plain": [
       "sunpy.timeseries.sources.lyra.LYRATimeSeries"
      ]
     },
     "execution_count": 18,
     "metadata": {},
     "output_type": "execute_result"
    }
   ],
   "source": [
    "type(lyra)"
   ]
  },
  {
   "cell_type": "code",
   "execution_count": 28,
   "metadata": {},
   "outputs": [
    {
     "data": {
      "text/html": [
       "<div>\n",
       "<style scoped>\n",
       "    .dataframe tbody tr th:only-of-type {\n",
       "        vertical-align: middle;\n",
       "    }\n",
       "\n",
       "    .dataframe tbody tr th {\n",
       "        vertical-align: top;\n",
       "    }\n",
       "\n",
       "    .dataframe thead th {\n",
       "        text-align: right;\n",
       "    }\n",
       "</style>\n",
       "<table border=\"1\" class=\"dataframe\">\n",
       "  <thead>\n",
       "    <tr style=\"text-align: right;\">\n",
       "      <th></th>\n",
       "      <th>CHANNEL1</th>\n",
       "      <th>CHANNEL2</th>\n",
       "      <th>CHANNEL3</th>\n",
       "      <th>CHANNEL4</th>\n",
       "    </tr>\n",
       "  </thead>\n",
       "  <tbody>\n",
       "    <tr>\n",
       "      <th>2011-06-07 00:00:00.010</th>\n",
       "      <td>0.006365</td>\n",
       "      <td>0.695866</td>\n",
       "      <td>0.002392</td>\n",
       "      <td>0.001100</td>\n",
       "    </tr>\n",
       "    <tr>\n",
       "      <th>2011-06-07 00:01:00.010</th>\n",
       "      <td>0.006365</td>\n",
       "      <td>0.695868</td>\n",
       "      <td>0.002392</td>\n",
       "      <td>0.001100</td>\n",
       "    </tr>\n",
       "    <tr>\n",
       "      <th>2011-06-07 00:02:00.010</th>\n",
       "      <td>0.006366</td>\n",
       "      <td>0.695870</td>\n",
       "      <td>0.002391</td>\n",
       "      <td>0.001100</td>\n",
       "    </tr>\n",
       "    <tr>\n",
       "      <th>2011-06-07 00:03:00.010</th>\n",
       "      <td>0.006366</td>\n",
       "      <td>0.695870</td>\n",
       "      <td>0.002391</td>\n",
       "      <td>0.001099</td>\n",
       "    </tr>\n",
       "    <tr>\n",
       "      <th>2011-06-07 00:04:00.010</th>\n",
       "      <td>0.006365</td>\n",
       "      <td>0.695873</td>\n",
       "      <td>0.002391</td>\n",
       "      <td>0.001099</td>\n",
       "    </tr>\n",
       "  </tbody>\n",
       "</table>\n",
       "</div>"
      ],
      "text/plain": [
       "                         CHANNEL1  CHANNEL2  CHANNEL3  CHANNEL4\n",
       "2011-06-07 00:00:00.010  0.006365  0.695866  0.002392  0.001100\n",
       "2011-06-07 00:01:00.010  0.006365  0.695868  0.002392  0.001100\n",
       "2011-06-07 00:02:00.010  0.006366  0.695870  0.002391  0.001100\n",
       "2011-06-07 00:03:00.010  0.006366  0.695870  0.002391  0.001099\n",
       "2011-06-07 00:04:00.010  0.006365  0.695873  0.002391  0.001099"
      ]
     },
     "execution_count": 28,
     "metadata": {},
     "output_type": "execute_result"
    }
   ],
   "source": [
    "lyra.data.head()"
   ]
  },
  {
   "cell_type": "code",
   "execution_count": 29,
   "metadata": {},
   "outputs": [],
   "source": [
    "rhessi = sunpy.timeseries.TimeSeries(sunpy.data.sample.RHESSI_TIMESERIES)"
   ]
  },
  {
   "cell_type": "code",
   "execution_count": 31,
   "metadata": {},
   "outputs": [
    {
     "data": {
      "text/html": [
       "<div>\n",
       "<style scoped>\n",
       "    .dataframe tbody tr th:only-of-type {\n",
       "        vertical-align: middle;\n",
       "    }\n",
       "\n",
       "    .dataframe tbody tr th {\n",
       "        vertical-align: top;\n",
       "    }\n",
       "\n",
       "    .dataframe thead th {\n",
       "        text-align: right;\n",
       "    }\n",
       "</style>\n",
       "<table border=\"1\" class=\"dataframe\">\n",
       "  <thead>\n",
       "    <tr style=\"text-align: right;\">\n",
       "      <th></th>\n",
       "      <th>3 - 6 keV</th>\n",
       "      <th>6 - 12 keV</th>\n",
       "      <th>12 - 25 keV</th>\n",
       "      <th>25 - 50 keV</th>\n",
       "      <th>50 - 100 keV</th>\n",
       "      <th>100 - 300 keV</th>\n",
       "      <th>300 - 800 keV</th>\n",
       "      <th>800 - 7000 keV</th>\n",
       "      <th>7000 - 20000 keV</th>\n",
       "    </tr>\n",
       "  </thead>\n",
       "  <tbody>\n",
       "    <tr>\n",
       "      <th>2011-06-07 00:00:00</th>\n",
       "      <td>9</td>\n",
       "      <td>18</td>\n",
       "      <td>15</td>\n",
       "      <td>20</td>\n",
       "      <td>48</td>\n",
       "      <td>136</td>\n",
       "      <td>112</td>\n",
       "      <td>88</td>\n",
       "      <td>3</td>\n",
       "    </tr>\n",
       "    <tr>\n",
       "      <th>2011-06-07 00:00:04</th>\n",
       "      <td>8</td>\n",
       "      <td>18</td>\n",
       "      <td>16</td>\n",
       "      <td>22</td>\n",
       "      <td>48</td>\n",
       "      <td>136</td>\n",
       "      <td>108</td>\n",
       "      <td>88</td>\n",
       "      <td>4</td>\n",
       "    </tr>\n",
       "    <tr>\n",
       "      <th>2011-06-07 00:00:08</th>\n",
       "      <td>8</td>\n",
       "      <td>16</td>\n",
       "      <td>16</td>\n",
       "      <td>20</td>\n",
       "      <td>48</td>\n",
       "      <td>136</td>\n",
       "      <td>112</td>\n",
       "      <td>88</td>\n",
       "      <td>4</td>\n",
       "    </tr>\n",
       "    <tr>\n",
       "      <th>2011-06-07 00:00:12</th>\n",
       "      <td>8</td>\n",
       "      <td>20</td>\n",
       "      <td>18</td>\n",
       "      <td>22</td>\n",
       "      <td>48</td>\n",
       "      <td>136</td>\n",
       "      <td>112</td>\n",
       "      <td>88</td>\n",
       "      <td>4</td>\n",
       "    </tr>\n",
       "    <tr>\n",
       "      <th>2011-06-07 00:00:16</th>\n",
       "      <td>9</td>\n",
       "      <td>16</td>\n",
       "      <td>15</td>\n",
       "      <td>22</td>\n",
       "      <td>44</td>\n",
       "      <td>136</td>\n",
       "      <td>112</td>\n",
       "      <td>88</td>\n",
       "      <td>4</td>\n",
       "    </tr>\n",
       "  </tbody>\n",
       "</table>\n",
       "</div>"
      ],
      "text/plain": [
       "                     3 - 6 keV  6 - 12 keV  12 - 25 keV  25 - 50 keV  \\\n",
       "2011-06-07 00:00:00          9          18           15           20   \n",
       "2011-06-07 00:00:04          8          18           16           22   \n",
       "2011-06-07 00:00:08          8          16           16           20   \n",
       "2011-06-07 00:00:12          8          20           18           22   \n",
       "2011-06-07 00:00:16          9          16           15           22   \n",
       "\n",
       "                     50 - 100 keV  100 - 300 keV  300 - 800 keV  \\\n",
       "2011-06-07 00:00:00            48            136            112   \n",
       "2011-06-07 00:00:04            48            136            108   \n",
       "2011-06-07 00:00:08            48            136            112   \n",
       "2011-06-07 00:00:12            48            136            112   \n",
       "2011-06-07 00:00:16            44            136            112   \n",
       "\n",
       "                     800 - 7000 keV  7000 - 20000 keV  \n",
       "2011-06-07 00:00:00              88                 3  \n",
       "2011-06-07 00:00:04              88                 4  \n",
       "2011-06-07 00:00:08              88                 4  \n",
       "2011-06-07 00:00:12              88                 4  \n",
       "2011-06-07 00:00:16              88                 4  "
      ]
     },
     "execution_count": 31,
     "metadata": {},
     "output_type": "execute_result"
    }
   ],
   "source": [
    "rhessi.data.head()"
   ]
  },
  {
   "cell_type": "code",
   "execution_count": 32,
   "metadata": {},
   "outputs": [
    {
     "data": {
      "text/plain": [
       "sunpy.timeseries.sources.rhessi.RHESSISummaryTimeSeries"
      ]
     },
     "execution_count": 32,
     "metadata": {},
     "output_type": "execute_result"
    }
   ],
   "source": [
    "type(rhdaessi)"
   ]
  },
  {
   "cell_type": "code",
   "execution_count": null,
   "metadata": {},
   "outputs": [],
   "source": []
  },
  {
   "cell_type": "code",
   "execution_count": null,
   "metadata": {},
   "outputs": [],
   "source": []
  },
  {
   "cell_type": "code",
   "execution_count": null,
   "metadata": {},
   "outputs": [],
   "source": []
  },
  {
   "cell_type": "code",
   "execution_count": null,
   "metadata": {},
   "outputs": [],
   "source": [
    "# Optionally average the data"
   ]
  },
  {
   "cell_type": "code",
   "execution_count": null,
   "metadata": {},
   "outputs": [],
   "source": [
    "# Optionally change the missing data flag from -1 to user desired value"
   ]
  },
  {
   "cell_type": "code",
   "execution_count": null,
   "metadata": {},
   "outputs": [],
   "source": []
  },
  {
   "cell_type": "code",
   "execution_count": null,
   "metadata": {},
   "outputs": [],
   "source": []
  },
  {
   "cell_type": "code",
   "execution_count": null,
   "metadata": {},
   "outputs": [],
   "source": [
    "# Return the EVE lines data with any optional modifications\n",
    "return tbd"
   ]
  }
 ],
 "metadata": {
  "kernelspec": {
   "display_name": "Python 3",
   "language": "python",
   "name": "python3"
  },
  "language_info": {
   "codemirror_mode": {
    "name": "ipython",
    "version": 3
   },
   "file_extension": ".py",
   "mimetype": "text/x-python",
   "name": "python",
   "nbconvert_exporter": "python",
   "pygments_lexer": "ipython3",
   "version": "3.6.1"
  },
  "toc": {
   "nav_menu": {},
   "number_sections": true,
   "sideBar": true,
   "skip_h1_title": false,
   "toc_cell": false,
   "toc_position": {},
   "toc_section_display": "block",
   "toc_window_display": false
  },
  "varInspector": {
   "cols": {
    "lenName": 16,
    "lenType": 16,
    "lenVar": 40
   },
   "kernels_config": {
    "python": {
     "delete_cmd_postfix": "",
     "delete_cmd_prefix": "del ",
     "library": "var_list.py",
     "varRefreshCmd": "print(var_dic_list())"
    },
    "r": {
     "delete_cmd_postfix": ") ",
     "delete_cmd_prefix": "rm(",
     "library": "var_list.r",
     "varRefreshCmd": "cat(var_dic_list()) "
    }
   },
   "oldHeight": 123.18181799999999,
   "position": {
    "height": "1064px",
    "left": "892.713px",
    "right": "20px",
    "top": "120px",
    "width": "258px"
   },
   "types_to_exclude": [
    "module",
    "function",
    "builtin_function_or_method",
    "instance",
    "_Feature"
   ],
   "varInspector_section_display": "block",
   "window_display": false
  }
 },
 "nbformat": 4,
 "nbformat_minor": 2
}
