{
 "cells": [
  {
   "cell_type": "code",
   "execution_count": 7,
   "metadata": {},
   "outputs": [],
   "source": [
    "# Standard modules\n",
    "import numpy as np\n",
    "import pandas as pd\n",
    "import matplotlib.pyplot as plt\n",
    "from sunpy.net import Fido, attrs\n",
    "\n",
    "# Custom modules\n",
    "\n",
    "__author__ = 'James Paul Mason'\n",
    "__contact__ = 'jmason86@gmail.com'\n",
    "\n",
    "\n",
    "def get_sdo_eve_lines_data(start_time, end_time, \n",
    "                           verbose=False):\n",
    "    \"\"\"Get emission lines data product from the Solar Dynamics Observatory / Extreme Ultraviolet Variability Experiment.\n",
    "\n",
    "    Inputs:\n",
    "        start_time [metatime]: The beginning of the time window of interest. See jpm_time_conversions.py\n",
    "                               (https://github.com/jmason86/python_convenience_functions/blob/master/jpm_time_conversions.py)\n",
    "                               for allowed metatime formats.\n",
    "        end_time [metatime]:   Same as start time but for the end of the time window.\n",
    "        \n",
    "    Optional Inputs:\n",
    "        verbose [bool]:                    Set to log the processing messages to disk and console. Default is False.\n",
    "\n",
    "    Outputs:\n",
    "        TBD\n",
    "                                                 \n",
    "    Optional Outputs:\n",
    "        None\n",
    "\n",
    "    Example:\n",
    "        TBD\n",
    "    \"\"\"\n",
    "    return 1"
   ]
  },
  {
   "cell_type": "code",
   "execution_count": 8,
   "metadata": {},
   "outputs": [],
   "source": [
    "# prototype only: setup for test case\n",
    "start_time = \"2010-09-05 00:00:00\"\n",
    "end_time = \"2010-09-05 01:00:00\""
   ]
  },
  {
   "cell_type": "code",
   "execution_count": 9,
   "metadata": {},
   "outputs": [],
   "source": [
    "from astropy import units as u"
   ]
  },
  {
   "cell_type": "code",
   "execution_count": 12,
   "metadata": {},
   "outputs": [],
   "source": [
    "results = Fido.search(attrs.Time(\"2010-09-05 00:00:00\", \"2010-09-05 01:00:00\"), attrs.Instrument('eve'))"
   ]
  },
  {
   "cell_type": "code",
   "execution_count": 11,
   "metadata": {},
   "outputs": [
    {
     "data": {
      "text/html": [
       "Results from 1 Provider:</br></br>3 Results from the VSOClient:</br>&lt;QTable length=3&gt;\n",
       "<table id=\"table4724452712\" class=\"table-striped table-bordered table-condensed\">\n",
       "<thead><tr><th>Start Time [1]</th><th>End Time [1]</th><th>Source</th><th>Instrument</th><th>Type</th><th>Wavelength [2]</th></tr></thead>\n",
       "<thead><tr><th></th><th></th><th></th><th></th><th></th><th>Angstrom</th></tr></thead>\n",
       "<thead><tr><th>str19</th><th>str19</th><th>str3</th><th>str3</th><th>str8</th><th>float64</th></tr></thead>\n",
       "<tr><td>2010-09-05 00:00:00</td><td>2010-09-05 01:00:00</td><td>SDO</td><td>EVE</td><td>FULLDISK</td><td>60.0 .. 1060.0</td></tr>\n",
       "<tr><td>2010-09-05 01:00:00</td><td>2010-09-05 02:00:00</td><td>SDO</td><td>EVE</td><td>FULLDISK</td><td>60.0 .. 1060.0</td></tr>\n",
       "<tr><td>2010-09-05 00:00:00</td><td>2010-09-06 00:00:00</td><td>SDO</td><td>EVE</td><td>FULLDISK</td><td>1.0 .. 1050.0</td></tr>\n",
       "</table></br>"
      ],
      "text/plain": [
       "<sunpy.net.fido_factory.UnifiedResponse object at 0x119986be0>\n",
       "Results from 1 Provider:\n",
       "\n",
       "3 Results from the VSOClient:\n",
       "   Start Time [1]       End Time [1]    Source ...   Type   Wavelength [2]\n",
       "                                               ...             Angstrom   \n",
       "       str19               str19         str3  ...   str8      float64    \n",
       "------------------- ------------------- ------ ... -------- --------------\n",
       "2010-09-05 00:00:00 2010-09-05 01:00:00    SDO ... FULLDISK 60.0 .. 1060.0\n",
       "2010-09-05 01:00:00 2010-09-05 02:00:00    SDO ... FULLDISK 60.0 .. 1060.0\n",
       "2010-09-05 00:00:00 2010-09-06 00:00:00    SDO ... FULLDISK  1.0 .. 1050.0\n"
      ]
     },
     "execution_count": 11,
     "metadata": {},
     "output_type": "execute_result"
    }
   ],
   "source": [
    "results = Fido.search(attrs.Time(start_time, end_time), attrs.Instrument('eve'), attrs.Wavelength(wavemin=62 * u.angstrom, wavemax=1035 * u.angstrom))\n",
    "results"
   ]
  },
  {
   "cell_type": "code",
   "execution_count": 13,
   "metadata": {},
   "outputs": [
    {
     "data": {
      "text/plain": [
       "L2Lines (merged)"
      ]
     },
     "execution_count": 13,
     "metadata": {},
     "output_type": "execute_result"
    }
   ],
   "source": [
    "# Suggestions from Stuart \n",
    "vr = results.get_response(0)\n",
    "vr[2]['info']"
   ]
  },
  {
   "cell_type": "code",
   "execution_count": 39,
   "metadata": {},
   "outputs": [
    {
     "data": {
      "text/plain": [
       "EVE_L2_lines_2010248_00"
      ]
     },
     "execution_count": 39,
     "metadata": {},
     "output_type": "execute_result"
    }
   ],
   "source": [
    "# another suggestion from Stuart\n",
    "bla = list(results.responses)\n",
    "bla[0][1]['fileid']"
   ]
  },
  {
   "cell_type": "code",
   "execution_count": 46,
   "metadata": {},
   "outputs": [
    {
     "data": {
      "text/plain": [
       "(1, 6, 9, 2)"
      ]
     },
     "execution_count": 46,
     "metadata": {},
     "output_type": "execute_result"
    }
   ],
   "source": [
    "np.shape(results)"
   ]
  },
  {
   "cell_type": "code",
   "execution_count": null,
   "metadata": {},
   "outputs": [],
   "source": [
    "files = Fido.fetch(results, path='./{instrument}/{fileid}/{info}/{file}.fits')\n",
    "files"
   ]
  },
  {
   "cell_type": "code",
   "execution_count": 57,
   "metadata": {},
   "outputs": [
    {
     "data": {
      "text/plain": [
       "{'extent',\n",
       " 'fileid',\n",
       " 'info',\n",
       " 'instrument',\n",
       " 'physobs',\n",
       " 'provider',\n",
       " 'source',\n",
       " 'time',\n",
       " 'wave'}"
      ]
     },
     "execution_count": 57,
     "metadata": {},
     "output_type": "execute_result"
    }
   ],
   "source": [
    "results.response_block_properties()"
   ]
  },
  {
   "cell_type": "code",
   "execution_count": 1,
   "metadata": {},
   "outputs": [],
   "source": [
    "from sunpy.instr.goes import get_goes_event_list\n",
    "from sunpy.time import TimeRange"
   ]
  },
  {
   "cell_type": "code",
   "execution_count": 2,
   "metadata": {},
   "outputs": [],
   "source": [
    "time_range = TimeRange('2010-05-01 00:00:00', '2018-01-11 00:00:00')"
   ]
  },
  {
   "cell_type": "code",
   "execution_count": 3,
   "metadata": {},
   "outputs": [],
   "source": [
    "bla = get_goes_event_list(time_range, goes_class_filter='c1')"
   ]
  },
  {
   "cell_type": "code",
   "execution_count": 5,
   "metadata": {},
   "outputs": [
    {
     "data": {
      "text/plain": [
       "8537"
      ]
     },
     "execution_count": 5,
     "metadata": {},
     "output_type": "execute_result"
    }
   ],
   "source": [
    "len(bla)"
   ]
  },
  {
   "cell_type": "code",
   "execution_count": null,
   "metadata": {},
   "outputs": [],
   "source": []
  },
  {
   "cell_type": "code",
   "execution_count": null,
   "metadata": {},
   "outputs": [],
   "source": [
    "return tbd"
   ]
  }
 ],
 "metadata": {
  "kernelspec": {
   "display_name": "Python 3",
   "language": "python",
   "name": "python3"
  },
  "language_info": {
   "codemirror_mode": {
    "name": "ipython",
    "version": 3
   },
   "file_extension": ".py",
   "mimetype": "text/x-python",
   "name": "python",
   "nbconvert_exporter": "python",
   "pygments_lexer": "ipython3",
   "version": "3.6.1"
  },
  "toc": {
   "nav_menu": {},
   "number_sections": true,
   "sideBar": true,
   "skip_h1_title": false,
   "toc_cell": false,
   "toc_position": {},
   "toc_section_display": "block",
   "toc_window_display": false
  },
  "varInspector": {
   "cols": {
    "lenName": 16,
    "lenType": 16,
    "lenVar": 40
   },
   "kernels_config": {
    "python": {
     "delete_cmd_postfix": "",
     "delete_cmd_prefix": "del ",
     "library": "var_list.py",
     "varRefreshCmd": "print(var_dic_list())"
    },
    "r": {
     "delete_cmd_postfix": ") ",
     "delete_cmd_prefix": "rm(",
     "library": "var_list.r",
     "varRefreshCmd": "cat(var_dic_list()) "
    }
   },
   "oldHeight": 123.18181799999999,
   "position": {
    "height": "40px",
    "left": "892.727px",
    "right": "20px",
    "top": "120px",
    "width": "250px"
   },
   "types_to_exclude": [
    "module",
    "function",
    "builtin_function_or_method",
    "instance",
    "_Feature"
   ],
   "varInspector_section_display": "none",
   "window_display": true
  }
 },
 "nbformat": 4,
 "nbformat_minor": 2
}
