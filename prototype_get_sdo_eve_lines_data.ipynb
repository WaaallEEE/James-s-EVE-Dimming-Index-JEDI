{
 "cells": [
  {
   "cell_type": "code",
   "execution_count": 22,
   "metadata": {},
   "outputs": [],
   "source": [
    "# Standard modules\n",
    "import numpy as np\n",
    "import pandas as pd\n",
    "import matplotlib.pyplot as plt\n",
    "from sunpy.net import Fido, attrs\n",
    "from sunpy.net.fido_factory import UnifiedResponse\n",
    "from astropy.time import Time\n",
    "\n",
    "# Custom modules\n",
    "from jpm_logger import JpmLogger\n",
    "from jpm_time_conversions import *\n",
    "\n",
    "__author__ = 'James Paul Mason'\n",
    "__contact__ = 'jmason86@gmail.com'\n",
    "\n",
    "\n",
    "def get_sdo_eve_lines_data(start_time, end_time, \n",
    "                           verbose=False):\n",
    "    \"\"\"Get emission lines data product from the Solar Dynamics Observatory / Extreme Ultraviolet Variability Experiment.\n",
    "\n",
    "    Inputs:\n",
    "        start_time [metatime]: The beginning of the time window of interest. See jpm_time_conversions.py\n",
    "                               (https://github.com/jmason86/python_convenience_functions/blob/master/jpm_time_conversions.py)\n",
    "                               for allowed metatime formats.\n",
    "        end_time [metatime]:   Same as start time but for the end of the time window.\n",
    "        \n",
    "    Optional Inputs:\n",
    "        verbose [bool]: Set to log the processing messages to disk and console. Default is False.\n",
    "\n",
    "    Outputs:\n",
    "        TBD\n",
    "                                                 \n",
    "    Optional Outputs:\n",
    "        None\n",
    "\n",
    "    Example:\n",
    "        TBD\n",
    "    \"\"\"\n",
    "    return 1"
   ]
  },
  {
   "cell_type": "code",
   "execution_count": 2,
   "metadata": {},
   "outputs": [],
   "source": [
    "# prototype only: setup for test case\n",
    "start_time = \"2010-09-05 00:00:00\"\n",
    "end_time = \"2010-09-05 01:00:00\"\n",
    "%matplotlib inline"
   ]
  },
  {
   "cell_type": "code",
   "execution_count": 3,
   "metadata": {},
   "outputs": [
    {
     "data": {
      "text/html": [
       "Results from 1 Provider:</br></br>6 Results from the VSOClient:</br>&lt;QTable length=6&gt;\n",
       "<table id=\"table4890005064\" class=\"table-striped table-bordered table-condensed\">\n",
       "<thead><tr><th>Start Time [1]</th><th>End Time [1]</th><th>Source</th><th>Instrument</th><th>Type</th><th>Wavelength [2]</th></tr></thead>\n",
       "<thead><tr><th></th><th></th><th></th><th></th><th></th><th>Angstrom</th></tr></thead>\n",
       "<thead><tr><th>str19</th><th>str19</th><th>str3</th><th>str3</th><th>str8</th><th>float64</th></tr></thead>\n",
       "<tr><td>2010-09-05 00:00:00</td><td>2010-09-06 00:00:00</td><td>SDO</td><td>EVE</td><td>FULLDISK</td><td>1.0 .. 304.0</td></tr>\n",
       "<tr><td>2010-09-05 00:00:00</td><td>2010-09-05 01:00:00</td><td>SDO</td><td>EVE</td><td>FULLDISK</td><td>93.0 .. 1033.0</td></tr>\n",
       "<tr><td>2010-09-05 01:00:00</td><td>2010-09-05 02:00:00</td><td>SDO</td><td>EVE</td><td>FULLDISK</td><td>93.0 .. 1033.0</td></tr>\n",
       "<tr><td>2010-09-05 00:00:00</td><td>2010-09-05 01:00:00</td><td>SDO</td><td>EVE</td><td>FULLDISK</td><td>60.0 .. 1060.0</td></tr>\n",
       "<tr><td>2010-09-05 01:00:00</td><td>2010-09-05 02:00:00</td><td>SDO</td><td>EVE</td><td>FULLDISK</td><td>60.0 .. 1060.0</td></tr>\n",
       "<tr><td>2010-09-05 00:00:00</td><td>2010-09-06 00:00:00</td><td>SDO</td><td>EVE</td><td>FULLDISK</td><td>1.0 .. 1050.0</td></tr>\n",
       "</table></br>"
      ],
      "text/plain": [
       "<sunpy.net.fido_factory.UnifiedResponse object at 0x1236ef240>\n",
       "Results from 1 Provider:\n",
       "\n",
       "6 Results from the VSOClient:\n",
       "   Start Time [1]       End Time [1]    Source ...   Type   Wavelength [2]\n",
       "                                               ...             Angstrom   \n",
       "       str19               str19         str3  ...   str8      float64    \n",
       "------------------- ------------------- ------ ... -------- --------------\n",
       "2010-09-05 00:00:00 2010-09-06 00:00:00    SDO ... FULLDISK   1.0 .. 304.0\n",
       "2010-09-05 00:00:00 2010-09-05 01:00:00    SDO ... FULLDISK 93.0 .. 1033.0\n",
       "2010-09-05 01:00:00 2010-09-05 02:00:00    SDO ... FULLDISK 93.0 .. 1033.0\n",
       "2010-09-05 00:00:00 2010-09-05 01:00:00    SDO ... FULLDISK 60.0 .. 1060.0\n",
       "2010-09-05 01:00:00 2010-09-05 02:00:00    SDO ... FULLDISK 60.0 .. 1060.0\n",
       "2010-09-05 00:00:00 2010-09-06 00:00:00    SDO ... FULLDISK  1.0 .. 1050.0\n"
      ]
     },
     "execution_count": 3,
     "metadata": {},
     "output_type": "execute_result"
    }
   ],
   "source": [
    "results = Fido.search(attrs.Time(\"2010-09-05 00:00:00\", \"2010-09-05 01:00:00\"), attrs.Instrument('eve'))\n",
    "results"
   ]
  },
  {
   "cell_type": "markdown",
   "metadata": {},
   "source": [
    "The lines are the ones that have wavelength range [93.0 .. 1033.0] so I should be able to use wavemin to filter for them. But as you can see below, that doesn't actually work. It still returns the spectra (wavelength range [60.0 .. 1060.0], which makes no sense because that's not consistent with the input filter criteria. \n",
    "I've contacted Joe Gurman of the VSO at GSFC about this. "
   ]
  },
  {
   "cell_type": "code",
   "execution_count": 4,
   "metadata": {},
   "outputs": [
    {
     "data": {
      "text/html": [
       "Results from 1 Provider:</br></br>3 Results from the VSOClient:</br>&lt;QTable length=3&gt;\n",
       "<table id=\"table4907715776\" class=\"table-striped table-bordered table-condensed\">\n",
       "<thead><tr><th>Start Time [1]</th><th>End Time [1]</th><th>Source</th><th>Instrument</th><th>Type</th><th>Wavelength [2]</th></tr></thead>\n",
       "<thead><tr><th></th><th></th><th></th><th></th><th></th><th>Angstrom</th></tr></thead>\n",
       "<thead><tr><th>str19</th><th>str19</th><th>str3</th><th>str3</th><th>str8</th><th>float64</th></tr></thead>\n",
       "<tr><td>2010-09-05 00:00:00</td><td>2010-09-05 01:00:00</td><td>SDO</td><td>EVE</td><td>FULLDISK</td><td>60.0 .. 1060.0</td></tr>\n",
       "<tr><td>2010-09-05 01:00:00</td><td>2010-09-05 02:00:00</td><td>SDO</td><td>EVE</td><td>FULLDISK</td><td>60.0 .. 1060.0</td></tr>\n",
       "<tr><td>2010-09-05 00:00:00</td><td>2010-09-06 00:00:00</td><td>SDO</td><td>EVE</td><td>FULLDISK</td><td>1.0 .. 1050.0</td></tr>\n",
       "</table></br>"
      ],
      "text/plain": [
       "<sunpy.net.fido_factory.UnifiedResponse object at 0x12378fa58>\n",
       "Results from 1 Provider:\n",
       "\n",
       "3 Results from the VSOClient:\n",
       "   Start Time [1]       End Time [1]    Source ...   Type   Wavelength [2]\n",
       "                                               ...             Angstrom   \n",
       "       str19               str19         str3  ...   str8      float64    \n",
       "------------------- ------------------- ------ ... -------- --------------\n",
       "2010-09-05 00:00:00 2010-09-05 01:00:00    SDO ... FULLDISK 60.0 .. 1060.0\n",
       "2010-09-05 01:00:00 2010-09-05 02:00:00    SDO ... FULLDISK 60.0 .. 1060.0\n",
       "2010-09-05 00:00:00 2010-09-06 00:00:00    SDO ... FULLDISK  1.0 .. 1050.0\n"
      ]
     },
     "execution_count": 4,
     "metadata": {},
     "output_type": "execute_result"
    }
   ],
   "source": [
    "from astropy import units as u\n",
    "results_lines_only = Fido.search(attrs.Time(start_time, end_time), attrs.Instrument('eve'), attrs.Wavelength(wavemin=62 * u.angstrom, wavemax=1035 * u.angstrom))\n",
    "results_lines_only"
   ]
  },
  {
   "cell_type": "code",
   "execution_count": null,
   "metadata": {},
   "outputs": [],
   "source": []
  },
  {
   "cell_type": "code",
   "execution_count": 5,
   "metadata": {},
   "outputs": [],
   "source": [
    "# Get the direct response from the VSO and filter for just the lines product\n",
    "vso_responses = list(results.responses)\n",
    "toss_indices = []\n",
    "for i in range(0, len(vso_responses[0])):\n",
    "    if 'Lines' not in vso_responses[0][i]['info']:\n",
    "        toss_indices.append(i)\n",
    "for toss_index in sorted(toss_indices, reverse=True):\n",
    "    del vso_responses[0][toss_index]"
   ]
  },
  {
   "cell_type": "code",
   "execution_count": 8,
   "metadata": {},
   "outputs": [
    {
     "name": "stdout",
     "output_type": "stream",
     "text": [
      "[                                        =================================\n",
      "======="
     ]
    }
   ],
   "source": [
    "# Convert the filtered response back to the UnifiedResponse and download\n",
    "results = UnifiedResponse(vso_responses)\n",
    "files = Fido.fetch(results, path='./{instrument}/{info}/{file}.fits')"
   ]
  },
  {
   "cell_type": "code",
   "execution_count": 7,
   "metadata": {},
   "outputs": [],
   "source": [
    "# Read the files and merge them into a single Dataframe"
   ]
  },
  {
   "cell_type": "code",
   "execution_count": 6,
   "metadata": {},
   "outputs": [],
   "source": [
    "from sunpy import io"
   ]
  },
  {
   "cell_type": "code",
   "execution_count": 9,
   "metadata": {},
   "outputs": [],
   "source": [
    "import astropy.io.fits as pyfits\n",
    "pony = pyfits.open(files[0])"
   ]
  },
  {
   "cell_type": "code",
   "execution_count": 10,
   "metadata": {},
   "outputs": [
    {
     "name": "stdout",
     "output_type": "stream",
     "text": [
      "Filename: ./EVE/L2Lines (merged)/evl_l2_2010248_00_006_02_fit.gz.4.fits\n",
      "No.    Name      Ver    Type      Cards   Dimensions   Format\n",
      "  0  PRIMARY       1 PrimaryHDU       4   ()      \n",
      "  1  LinesMeta     1 BinTableHDU     47   39R x 7C   [E, E, E, E, 8A, 5A, 13A]   \n",
      "  2  BandsMeta     1 BinTableHDU     31   20R x 4C   [13A, 4A, E, E]   \n",
      "  3  DiodeMeta     1 BinTableHDU     26   6R x 2C   [4A, 6A]   \n",
      "  4  QuadMeta      1 BinTableHDU     26   4R x 2C   [2A, 3A]   \n",
      "  5  LinesData     1 BinTableHDU    114   360R x 19C   [D, J, D, B, B, 39E, 39E, 39E, 20E, 20E, 20E, 6E, 6E, 6E, 6E, 4E, 4E, 4E, 4E]   \n",
      "  6  LinesDataUnits    1 BinTableHDU     58   1R x 19C   [87A, 62A, 65A, 49A, 81A, 171A, 18A, 17A, 242A, 18A, 17A, 59A, 72A, 18A, 66A, 135A, 72A, 49A, 75A]   \n"
     ]
    }
   ],
   "source": [
    "pony.info()"
   ]
  },
  {
   "cell_type": "code",
   "execution_count": 11,
   "metadata": {},
   "outputs": [],
   "source": [
    "names = pony[1].data['NAME']\n",
    "wavelengths = pony[1].data['WAVE_CENTER']\n",
    "wavelengths_str = []\n",
    "[wavelengths_str.append('{0:1.1f}'.format(wavelength)) for wavelength in wavelengths]\n",
    "line_irradiance = pony[5].data['LINE_IRRADIANCE']\n",
    "yyyydoy = pony[5].data['YYYYDOY']\n",
    "sod = pony[5].data['SOD']\n",
    "eve_dt = yyyydoy_sod_to_datetime(yyyydoy, sod)"
   ]
  },
  {
   "cell_type": "code",
   "execution_count": 29,
   "metadata": {},
   "outputs": [],
   "source": [
    "#pony[5].header"
   ]
  },
  {
   "cell_type": "code",
   "execution_count": 30,
   "metadata": {},
   "outputs": [],
   "source": [
    "tai = pony[5].data['TAI']"
   ]
  },
  {
   "cell_type": "code",
   "execution_count": 33,
   "metadata": {},
   "outputs": [
    {
     "data": {
      "text/plain": [
       "1662336032.0622907"
      ]
     },
     "execution_count": 33,
     "metadata": {},
     "output_type": "execute_result"
    }
   ],
   "source": [
    "tai[0]"
   ]
  },
  {
   "cell_type": "code",
   "execution_count": 12,
   "metadata": {},
   "outputs": [],
   "source": [
    "from astropy.time import Time"
   ]
  },
  {
   "cell_type": "code",
   "execution_count": 62,
   "metadata": {},
   "outputs": [
    {
     "ename": "ValueError",
     "evalue": "Input values did not match the format class yday",
     "output_type": "error",
     "traceback": [
      "\u001b[0;31m---------------------------------------------------------------------------\u001b[0m",
      "\u001b[0;31mValueError\u001b[0m                                Traceback (most recent call last)",
      "\u001b[0;32m<ipython-input-62-000e1e119012>\u001b[0m in \u001b[0;36m<module>\u001b[0;34m()\u001b[0m\n\u001b[0;32m----> 1\u001b[0;31m \u001b[0mbla\u001b[0m \u001b[0;34m=\u001b[0m \u001b[0mTime\u001b[0m\u001b[0;34m(\u001b[0m\u001b[0mtai\u001b[0m\u001b[0;34m,\u001b[0m \u001b[0mformat\u001b[0m\u001b[0;34m=\u001b[0m\u001b[0;34m'yday'\u001b[0m\u001b[0;34m,\u001b[0m \u001b[0mscale\u001b[0m\u001b[0;34m=\u001b[0m\u001b[0;34m'tai'\u001b[0m\u001b[0;34m)\u001b[0m\u001b[0;34m\u001b[0m\u001b[0m\n\u001b[0m",
      "\u001b[0;32m/Users/jmason86/anaconda/envs/py36/lib/python3.6/site-packages/astropy/time/core.py\u001b[0m in \u001b[0;36m__init__\u001b[0;34m(self, val, val2, format, scale, precision, in_subfmt, out_subfmt, location, copy)\u001b[0m\n\u001b[1;32m    282\u001b[0m         \u001b[0;32melse\u001b[0m\u001b[0;34m:\u001b[0m\u001b[0;34m\u001b[0m\u001b[0m\n\u001b[1;32m    283\u001b[0m             self._init_from_vals(val, val2, format, scale, copy,\n\u001b[0;32m--> 284\u001b[0;31m                                  precision, in_subfmt, out_subfmt)\n\u001b[0m\u001b[1;32m    285\u001b[0m \u001b[0;34m\u001b[0m\u001b[0m\n\u001b[1;32m    286\u001b[0m         if self.location is not None and (self.location.size > 1 and\n",
      "\u001b[0;32m/Users/jmason86/anaconda/envs/py36/lib/python3.6/site-packages/astropy/time/core.py\u001b[0m in \u001b[0;36m_init_from_vals\u001b[0;34m(self, val, val2, format, scale, copy, precision, in_subfmt, out_subfmt)\u001b[0m\n\u001b[1;32m    332\u001b[0m         \u001b[0;31m# Parse / convert input values into internal jd1, jd2 based on format\u001b[0m\u001b[0;34m\u001b[0m\u001b[0;34m\u001b[0m\u001b[0m\n\u001b[1;32m    333\u001b[0m         self._time = self._get_time_fmt(val, val2, format, scale,\n\u001b[0;32m--> 334\u001b[0;31m                                         precision, in_subfmt, out_subfmt)\n\u001b[0m\u001b[1;32m    335\u001b[0m         \u001b[0mself\u001b[0m\u001b[0;34m.\u001b[0m\u001b[0m_format\u001b[0m \u001b[0;34m=\u001b[0m \u001b[0mself\u001b[0m\u001b[0;34m.\u001b[0m\u001b[0m_time\u001b[0m\u001b[0;34m.\u001b[0m\u001b[0mname\u001b[0m\u001b[0;34m\u001b[0m\u001b[0m\n\u001b[1;32m    336\u001b[0m \u001b[0;34m\u001b[0m\u001b[0m\n",
      "\u001b[0;32m/Users/jmason86/anaconda/envs/py36/lib/python3.6/site-packages/astropy/time/core.py\u001b[0m in \u001b[0;36m_get_time_fmt\u001b[0;34m(self, val, val2, format, scale, precision, in_subfmt, out_subfmt)\u001b[0m\n\u001b[1;32m    376\u001b[0m                 \u001b[0;32mpass\u001b[0m\u001b[0;34m\u001b[0m\u001b[0m\n\u001b[1;32m    377\u001b[0m         \u001b[0;32melse\u001b[0m\u001b[0;34m:\u001b[0m\u001b[0;34m\u001b[0m\u001b[0m\n\u001b[0;32m--> 378\u001b[0;31m             \u001b[0;32mraise\u001b[0m \u001b[0mValueError\u001b[0m\u001b[0;34m(\u001b[0m\u001b[0;34m'Input values did not match {0}'\u001b[0m\u001b[0;34m.\u001b[0m\u001b[0mformat\u001b[0m\u001b[0;34m(\u001b[0m\u001b[0merr_msg\u001b[0m\u001b[0;34m)\u001b[0m\u001b[0;34m)\u001b[0m\u001b[0;34m\u001b[0m\u001b[0m\n\u001b[0m\u001b[1;32m    379\u001b[0m \u001b[0;34m\u001b[0m\u001b[0m\n\u001b[1;32m    380\u001b[0m     \u001b[0;34m@\u001b[0m\u001b[0mclassmethod\u001b[0m\u001b[0;34m\u001b[0m\u001b[0m\n",
      "\u001b[0;31mValueError\u001b[0m: Input values did not match the format class yday"
     ]
    }
   ],
   "source": [
    "bla = Time(tai, format='yday', scale='tai')"
   ]
  },
  {
   "cell_type": "code",
   "execution_count": 61,
   "metadata": {},
   "outputs": [
    {
     "data": {
      "text/plain": [
       "array([datetime.datetime(2022, 9, 5, 0, 1, 9, 62291),\n",
       "       datetime.datetime(2022, 9, 5, 0, 1, 19, 62291),\n",
       "       datetime.datetime(2022, 9, 5, 0, 1, 29, 62291),\n",
       "       datetime.datetime(2022, 9, 5, 0, 1, 39, 62291),\n",
       "       datetime.datetime(2022, 9, 5, 0, 1, 49, 62291),\n",
       "       datetime.datetime(2022, 9, 5, 0, 1, 59, 62291),\n",
       "       datetime.datetime(2022, 9, 5, 0, 2, 9, 62291),\n",
       "       datetime.datetime(2022, 9, 5, 0, 2, 19, 62291),\n",
       "       datetime.datetime(2022, 9, 5, 0, 2, 29, 62291),\n",
       "       datetime.datetime(2022, 9, 5, 0, 2, 39, 62291),\n",
       "       datetime.datetime(2022, 9, 5, 0, 2, 49, 62291),\n",
       "       datetime.datetime(2022, 9, 5, 0, 2, 59, 62291),\n",
       "       datetime.datetime(2022, 9, 5, 0, 3, 9, 62291),\n",
       "       datetime.datetime(2022, 9, 5, 0, 3, 19, 62291),\n",
       "       datetime.datetime(2022, 9, 5, 0, 3, 29, 62291),\n",
       "       datetime.datetime(2022, 9, 5, 0, 3, 39, 62291),\n",
       "       datetime.datetime(2022, 9, 5, 0, 3, 49, 62291),\n",
       "       datetime.datetime(2022, 9, 5, 0, 3, 59, 62291),\n",
       "       datetime.datetime(2022, 9, 5, 0, 4, 9, 62291),\n",
       "       datetime.datetime(2022, 9, 5, 0, 4, 19, 62291),\n",
       "       datetime.datetime(2022, 9, 5, 0, 4, 29, 62291),\n",
       "       datetime.datetime(2022, 9, 5, 0, 4, 39, 62291),\n",
       "       datetime.datetime(2022, 9, 5, 0, 4, 49, 62291),\n",
       "       datetime.datetime(2022, 9, 5, 0, 4, 59, 62291),\n",
       "       datetime.datetime(2022, 9, 5, 0, 5, 9, 62291),\n",
       "       datetime.datetime(2022, 9, 5, 0, 5, 19, 62291),\n",
       "       datetime.datetime(2022, 9, 5, 0, 5, 29, 62291),\n",
       "       datetime.datetime(2022, 9, 5, 0, 5, 39, 62291),\n",
       "       datetime.datetime(2022, 9, 5, 0, 5, 49, 62291),\n",
       "       datetime.datetime(2022, 9, 5, 0, 5, 59, 62291),\n",
       "       datetime.datetime(2022, 9, 5, 0, 6, 9, 62291),\n",
       "       datetime.datetime(2022, 9, 5, 0, 6, 19, 62291),\n",
       "       datetime.datetime(2022, 9, 5, 0, 6, 29, 62291),\n",
       "       datetime.datetime(2022, 9, 5, 0, 6, 39, 62291),\n",
       "       datetime.datetime(2022, 9, 5, 0, 6, 49, 62291),\n",
       "       datetime.datetime(2022, 9, 5, 0, 6, 59, 62291),\n",
       "       datetime.datetime(2022, 9, 5, 0, 7, 9, 62291),\n",
       "       datetime.datetime(2022, 9, 5, 0, 7, 19, 62291),\n",
       "       datetime.datetime(2022, 9, 5, 0, 7, 29, 62291),\n",
       "       datetime.datetime(2022, 9, 5, 0, 7, 39, 62291),\n",
       "       datetime.datetime(2022, 9, 5, 0, 7, 49, 62291),\n",
       "       datetime.datetime(2022, 9, 5, 0, 7, 59, 62291),\n",
       "       datetime.datetime(2022, 9, 5, 0, 8, 9, 62291),\n",
       "       datetime.datetime(2022, 9, 5, 0, 8, 19, 62291),\n",
       "       datetime.datetime(2022, 9, 5, 0, 8, 29, 62291),\n",
       "       datetime.datetime(2022, 9, 5, 0, 8, 39, 62291),\n",
       "       datetime.datetime(2022, 9, 5, 0, 8, 49, 62291),\n",
       "       datetime.datetime(2022, 9, 5, 0, 8, 59, 62291),\n",
       "       datetime.datetime(2022, 9, 5, 0, 9, 9, 62291),\n",
       "       datetime.datetime(2022, 9, 5, 0, 9, 19, 62291),\n",
       "       datetime.datetime(2022, 9, 5, 0, 9, 29, 62291),\n",
       "       datetime.datetime(2022, 9, 5, 0, 9, 39, 62291),\n",
       "       datetime.datetime(2022, 9, 5, 0, 9, 49, 62291),\n",
       "       datetime.datetime(2022, 9, 5, 0, 9, 59, 62291),\n",
       "       datetime.datetime(2022, 9, 5, 0, 10, 9, 62291),\n",
       "       datetime.datetime(2022, 9, 5, 0, 10, 19, 62291),\n",
       "       datetime.datetime(2022, 9, 5, 0, 10, 29, 62291),\n",
       "       datetime.datetime(2022, 9, 5, 0, 10, 39, 62291),\n",
       "       datetime.datetime(2022, 9, 5, 0, 10, 49, 62291),\n",
       "       datetime.datetime(2022, 9, 5, 0, 10, 59, 62291),\n",
       "       datetime.datetime(2022, 9, 5, 0, 11, 9, 62291),\n",
       "       datetime.datetime(2022, 9, 5, 0, 11, 19, 62291),\n",
       "       datetime.datetime(2022, 9, 5, 0, 11, 29, 62291),\n",
       "       datetime.datetime(2022, 9, 5, 0, 11, 39, 62291),\n",
       "       datetime.datetime(2022, 9, 5, 0, 11, 49, 62291),\n",
       "       datetime.datetime(2022, 9, 5, 0, 11, 59, 62291),\n",
       "       datetime.datetime(2022, 9, 5, 0, 12, 9, 62291),\n",
       "       datetime.datetime(2022, 9, 5, 0, 12, 19, 62291),\n",
       "       datetime.datetime(2022, 9, 5, 0, 12, 29, 62291),\n",
       "       datetime.datetime(2022, 9, 5, 0, 12, 39, 62291),\n",
       "       datetime.datetime(2022, 9, 5, 0, 12, 49, 62291),\n",
       "       datetime.datetime(2022, 9, 5, 0, 12, 59, 62291),\n",
       "       datetime.datetime(2022, 9, 5, 0, 13, 9, 62291),\n",
       "       datetime.datetime(2022, 9, 5, 0, 13, 19, 62291),\n",
       "       datetime.datetime(2022, 9, 5, 0, 13, 29, 62291),\n",
       "       datetime.datetime(2022, 9, 5, 0, 13, 39, 62291),\n",
       "       datetime.datetime(2022, 9, 5, 0, 13, 49, 62291),\n",
       "       datetime.datetime(2022, 9, 5, 0, 13, 59, 62291),\n",
       "       datetime.datetime(2022, 9, 5, 0, 14, 9, 62291),\n",
       "       datetime.datetime(2022, 9, 5, 0, 14, 19, 62291),\n",
       "       datetime.datetime(2022, 9, 5, 0, 14, 29, 62291),\n",
       "       datetime.datetime(2022, 9, 5, 0, 14, 39, 62291),\n",
       "       datetime.datetime(2022, 9, 5, 0, 14, 49, 62291),\n",
       "       datetime.datetime(2022, 9, 5, 0, 14, 59, 62291),\n",
       "       datetime.datetime(2022, 9, 5, 0, 15, 9, 62291),\n",
       "       datetime.datetime(2022, 9, 5, 0, 15, 19, 62291),\n",
       "       datetime.datetime(2022, 9, 5, 0, 15, 29, 62291),\n",
       "       datetime.datetime(2022, 9, 5, 0, 15, 39, 62291),\n",
       "       datetime.datetime(2022, 9, 5, 0, 15, 49, 62291),\n",
       "       datetime.datetime(2022, 9, 5, 0, 15, 59, 62291),\n",
       "       datetime.datetime(2022, 9, 5, 0, 16, 9, 62291),\n",
       "       datetime.datetime(2022, 9, 5, 0, 16, 19, 62291),\n",
       "       datetime.datetime(2022, 9, 5, 0, 16, 29, 62291),\n",
       "       datetime.datetime(2022, 9, 5, 0, 16, 39, 62291),\n",
       "       datetime.datetime(2022, 9, 5, 0, 16, 49, 62291),\n",
       "       datetime.datetime(2022, 9, 5, 0, 16, 59, 62291),\n",
       "       datetime.datetime(2022, 9, 5, 0, 17, 9, 62291),\n",
       "       datetime.datetime(2022, 9, 5, 0, 17, 19, 62291),\n",
       "       datetime.datetime(2022, 9, 5, 0, 17, 29, 62291),\n",
       "       datetime.datetime(2022, 9, 5, 0, 17, 39, 62291),\n",
       "       datetime.datetime(2022, 9, 5, 0, 17, 49, 62291),\n",
       "       datetime.datetime(2022, 9, 5, 0, 17, 59, 62291),\n",
       "       datetime.datetime(2022, 9, 5, 0, 18, 9, 62291),\n",
       "       datetime.datetime(2022, 9, 5, 0, 18, 19, 62291),\n",
       "       datetime.datetime(2022, 9, 5, 0, 18, 29, 62291),\n",
       "       datetime.datetime(2022, 9, 5, 0, 18, 39, 62291),\n",
       "       datetime.datetime(2022, 9, 5, 0, 18, 49, 62291),\n",
       "       datetime.datetime(2022, 9, 5, 0, 18, 59, 62291),\n",
       "       datetime.datetime(2022, 9, 5, 0, 19, 9, 62291),\n",
       "       datetime.datetime(2022, 9, 5, 0, 19, 19, 62291),\n",
       "       datetime.datetime(2022, 9, 5, 0, 19, 29, 62291),\n",
       "       datetime.datetime(2022, 9, 5, 0, 19, 39, 62291),\n",
       "       datetime.datetime(2022, 9, 5, 0, 19, 49, 62291),\n",
       "       datetime.datetime(2022, 9, 5, 0, 19, 59, 62291),\n",
       "       datetime.datetime(2022, 9, 5, 0, 20, 9, 62291),\n",
       "       datetime.datetime(2022, 9, 5, 0, 20, 19, 62291),\n",
       "       datetime.datetime(2022, 9, 5, 0, 20, 29, 62291),\n",
       "       datetime.datetime(2022, 9, 5, 0, 20, 39, 62291),\n",
       "       datetime.datetime(2022, 9, 5, 0, 20, 49, 62291),\n",
       "       datetime.datetime(2022, 9, 5, 0, 20, 59, 62291),\n",
       "       datetime.datetime(2022, 9, 5, 0, 21, 9, 62291),\n",
       "       datetime.datetime(2022, 9, 5, 0, 21, 19, 62291),\n",
       "       datetime.datetime(2022, 9, 5, 0, 21, 29, 62291),\n",
       "       datetime.datetime(2022, 9, 5, 0, 21, 39, 62291),\n",
       "       datetime.datetime(2022, 9, 5, 0, 21, 49, 62291),\n",
       "       datetime.datetime(2022, 9, 5, 0, 21, 59, 62291),\n",
       "       datetime.datetime(2022, 9, 5, 0, 22, 9, 62291),\n",
       "       datetime.datetime(2022, 9, 5, 0, 22, 19, 62291),\n",
       "       datetime.datetime(2022, 9, 5, 0, 22, 29, 62291),\n",
       "       datetime.datetime(2022, 9, 5, 0, 22, 39, 62291),\n",
       "       datetime.datetime(2022, 9, 5, 0, 22, 49, 62291),\n",
       "       datetime.datetime(2022, 9, 5, 0, 22, 59, 62291),\n",
       "       datetime.datetime(2022, 9, 5, 0, 23, 9, 62291),\n",
       "       datetime.datetime(2022, 9, 5, 0, 23, 19, 62291),\n",
       "       datetime.datetime(2022, 9, 5, 0, 23, 29, 62291),\n",
       "       datetime.datetime(2022, 9, 5, 0, 23, 39, 62291),\n",
       "       datetime.datetime(2022, 9, 5, 0, 23, 49, 62291),\n",
       "       datetime.datetime(2022, 9, 5, 0, 23, 59, 62291),\n",
       "       datetime.datetime(2022, 9, 5, 0, 24, 9, 62291),\n",
       "       datetime.datetime(2022, 9, 5, 0, 24, 19, 62291),\n",
       "       datetime.datetime(2022, 9, 5, 0, 24, 29, 62291),\n",
       "       datetime.datetime(2022, 9, 5, 0, 24, 39, 62291),\n",
       "       datetime.datetime(2022, 9, 5, 0, 24, 49, 62291),\n",
       "       datetime.datetime(2022, 9, 5, 0, 24, 59, 62291),\n",
       "       datetime.datetime(2022, 9, 5, 0, 25, 9, 62291),\n",
       "       datetime.datetime(2022, 9, 5, 0, 25, 19, 62291),\n",
       "       datetime.datetime(2022, 9, 5, 0, 25, 29, 62291),\n",
       "       datetime.datetime(2022, 9, 5, 0, 25, 39, 62291),\n",
       "       datetime.datetime(2022, 9, 5, 0, 25, 49, 62291),\n",
       "       datetime.datetime(2022, 9, 5, 0, 25, 59, 62291),\n",
       "       datetime.datetime(2022, 9, 5, 0, 26, 9, 62291),\n",
       "       datetime.datetime(2022, 9, 5, 0, 26, 19, 62291),\n",
       "       datetime.datetime(2022, 9, 5, 0, 26, 29, 62291),\n",
       "       datetime.datetime(2022, 9, 5, 0, 26, 39, 62291),\n",
       "       datetime.datetime(2022, 9, 5, 0, 26, 49, 62291),\n",
       "       datetime.datetime(2022, 9, 5, 0, 26, 59, 62291),\n",
       "       datetime.datetime(2022, 9, 5, 0, 27, 9, 62291),\n",
       "       datetime.datetime(2022, 9, 5, 0, 27, 19, 62291),\n",
       "       datetime.datetime(2022, 9, 5, 0, 27, 29, 62291),\n",
       "       datetime.datetime(2022, 9, 5, 0, 27, 39, 62291),\n",
       "       datetime.datetime(2022, 9, 5, 0, 27, 49, 62291),\n",
       "       datetime.datetime(2022, 9, 5, 0, 27, 59, 62291),\n",
       "       datetime.datetime(2022, 9, 5, 0, 28, 9, 62291),\n",
       "       datetime.datetime(2022, 9, 5, 0, 28, 19, 62291),\n",
       "       datetime.datetime(2022, 9, 5, 0, 28, 29, 62291),\n",
       "       datetime.datetime(2022, 9, 5, 0, 28, 39, 62291),\n",
       "       datetime.datetime(2022, 9, 5, 0, 28, 49, 62291),\n",
       "       datetime.datetime(2022, 9, 5, 0, 28, 59, 62291),\n",
       "       datetime.datetime(2022, 9, 5, 0, 29, 9, 62291),\n",
       "       datetime.datetime(2022, 9, 5, 0, 29, 19, 62291),\n",
       "       datetime.datetime(2022, 9, 5, 0, 29, 29, 62291),\n",
       "       datetime.datetime(2022, 9, 5, 0, 29, 39, 62291),\n",
       "       datetime.datetime(2022, 9, 5, 0, 29, 49, 62291),\n",
       "       datetime.datetime(2022, 9, 5, 0, 29, 59, 62291),\n",
       "       datetime.datetime(2022, 9, 5, 0, 30, 9, 62291),\n",
       "       datetime.datetime(2022, 9, 5, 0, 30, 19, 62291),\n",
       "       datetime.datetime(2022, 9, 5, 0, 30, 29, 62291),\n",
       "       datetime.datetime(2022, 9, 5, 0, 30, 39, 62291),\n",
       "       datetime.datetime(2022, 9, 5, 0, 30, 49, 62291),\n",
       "       datetime.datetime(2022, 9, 5, 0, 30, 59, 62291),\n",
       "       datetime.datetime(2022, 9, 5, 0, 31, 9, 62291),\n",
       "       datetime.datetime(2022, 9, 5, 0, 31, 19, 62291),\n",
       "       datetime.datetime(2022, 9, 5, 0, 31, 29, 62291),\n",
       "       datetime.datetime(2022, 9, 5, 0, 31, 39, 62291),\n",
       "       datetime.datetime(2022, 9, 5, 0, 31, 49, 62291),\n",
       "       datetime.datetime(2022, 9, 5, 0, 31, 59, 62291),\n",
       "       datetime.datetime(2022, 9, 5, 0, 32, 9, 62291),\n",
       "       datetime.datetime(2022, 9, 5, 0, 32, 19, 62291),\n",
       "       datetime.datetime(2022, 9, 5, 0, 32, 29, 62291),\n",
       "       datetime.datetime(2022, 9, 5, 0, 32, 39, 62291),\n",
       "       datetime.datetime(2022, 9, 5, 0, 32, 49, 62291),\n",
       "       datetime.datetime(2022, 9, 5, 0, 32, 59, 62291),\n",
       "       datetime.datetime(2022, 9, 5, 0, 33, 9, 62291),\n",
       "       datetime.datetime(2022, 9, 5, 0, 33, 19, 62291),\n",
       "       datetime.datetime(2022, 9, 5, 0, 33, 29, 62291),\n",
       "       datetime.datetime(2022, 9, 5, 0, 33, 39, 62291),\n",
       "       datetime.datetime(2022, 9, 5, 0, 33, 49, 62291),\n",
       "       datetime.datetime(2022, 9, 5, 0, 33, 59, 62291),\n",
       "       datetime.datetime(2022, 9, 5, 0, 34, 9, 62291),\n",
       "       datetime.datetime(2022, 9, 5, 0, 34, 19, 62291),\n",
       "       datetime.datetime(2022, 9, 5, 0, 34, 29, 62291),\n",
       "       datetime.datetime(2022, 9, 5, 0, 34, 39, 62291),\n",
       "       datetime.datetime(2022, 9, 5, 0, 34, 49, 62291),\n",
       "       datetime.datetime(2022, 9, 5, 0, 34, 59, 62291),\n",
       "       datetime.datetime(2022, 9, 5, 0, 35, 9, 62291),\n",
       "       datetime.datetime(2022, 9, 5, 0, 35, 19, 62291),\n",
       "       datetime.datetime(2022, 9, 5, 0, 35, 29, 62291),\n",
       "       datetime.datetime(2022, 9, 5, 0, 35, 39, 62291),\n",
       "       datetime.datetime(2022, 9, 5, 0, 35, 49, 62291),\n",
       "       datetime.datetime(2022, 9, 5, 0, 35, 59, 62291),\n",
       "       datetime.datetime(2022, 9, 5, 0, 36, 9, 62291),\n",
       "       datetime.datetime(2022, 9, 5, 0, 36, 19, 62291),\n",
       "       datetime.datetime(2022, 9, 5, 0, 36, 29, 62291),\n",
       "       datetime.datetime(2022, 9, 5, 0, 36, 39, 62291),\n",
       "       datetime.datetime(2022, 9, 5, 0, 36, 49, 62291),\n",
       "       datetime.datetime(2022, 9, 5, 0, 36, 59, 62291),\n",
       "       datetime.datetime(2022, 9, 5, 0, 37, 9, 62291),\n",
       "       datetime.datetime(2022, 9, 5, 0, 37, 19, 62291),\n",
       "       datetime.datetime(2022, 9, 5, 0, 37, 29, 62291),\n",
       "       datetime.datetime(2022, 9, 5, 0, 37, 39, 62291),\n",
       "       datetime.datetime(2022, 9, 5, 0, 37, 49, 62291),\n",
       "       datetime.datetime(2022, 9, 5, 0, 37, 59, 62291),\n",
       "       datetime.datetime(2022, 9, 5, 0, 38, 9, 62291),\n",
       "       datetime.datetime(2022, 9, 5, 0, 38, 19, 62291),\n",
       "       datetime.datetime(2022, 9, 5, 0, 38, 29, 62291),\n",
       "       datetime.datetime(2022, 9, 5, 0, 38, 39, 62291),\n",
       "       datetime.datetime(2022, 9, 5, 0, 38, 49, 62291),\n",
       "       datetime.datetime(2022, 9, 5, 0, 38, 59, 62291),\n",
       "       datetime.datetime(2022, 9, 5, 0, 39, 9, 62291),\n",
       "       datetime.datetime(2022, 9, 5, 0, 39, 19, 62291),\n",
       "       datetime.datetime(2022, 9, 5, 0, 39, 29, 62291),\n",
       "       datetime.datetime(2022, 9, 5, 0, 39, 39, 62291),\n",
       "       datetime.datetime(2022, 9, 5, 0, 39, 49, 62291),\n",
       "       datetime.datetime(2022, 9, 5, 0, 39, 59, 62291),\n",
       "       datetime.datetime(2022, 9, 5, 0, 40, 9, 62291),\n",
       "       datetime.datetime(2022, 9, 5, 0, 40, 19, 62291),\n",
       "       datetime.datetime(2022, 9, 5, 0, 40, 29, 62291),\n",
       "       datetime.datetime(2022, 9, 5, 0, 40, 39, 62291),\n",
       "       datetime.datetime(2022, 9, 5, 0, 40, 49, 62291),\n",
       "       datetime.datetime(2022, 9, 5, 0, 40, 59, 62291),\n",
       "       datetime.datetime(2022, 9, 5, 0, 41, 9, 62291),\n",
       "       datetime.datetime(2022, 9, 5, 0, 41, 19, 62291),\n",
       "       datetime.datetime(2022, 9, 5, 0, 41, 29, 62291),\n",
       "       datetime.datetime(2022, 9, 5, 0, 41, 39, 62291),\n",
       "       datetime.datetime(2022, 9, 5, 0, 41, 49, 62291),\n",
       "       datetime.datetime(2022, 9, 5, 0, 41, 59, 62291),\n",
       "       datetime.datetime(2022, 9, 5, 0, 42, 9, 62291),\n",
       "       datetime.datetime(2022, 9, 5, 0, 42, 19, 62291),\n",
       "       datetime.datetime(2022, 9, 5, 0, 42, 29, 62291),\n",
       "       datetime.datetime(2022, 9, 5, 0, 42, 39, 62291),\n",
       "       datetime.datetime(2022, 9, 5, 0, 42, 49, 62291),\n",
       "       datetime.datetime(2022, 9, 5, 0, 42, 59, 62291),\n",
       "       datetime.datetime(2022, 9, 5, 0, 43, 9, 62291),\n",
       "       datetime.datetime(2022, 9, 5, 0, 43, 19, 62291),\n",
       "       datetime.datetime(2022, 9, 5, 0, 43, 29, 62291),\n",
       "       datetime.datetime(2022, 9, 5, 0, 43, 39, 62291),\n",
       "       datetime.datetime(2022, 9, 5, 0, 43, 49, 62291),\n",
       "       datetime.datetime(2022, 9, 5, 0, 43, 59, 62291),\n",
       "       datetime.datetime(2022, 9, 5, 0, 44, 9, 62291),\n",
       "       datetime.datetime(2022, 9, 5, 0, 44, 19, 62291),\n",
       "       datetime.datetime(2022, 9, 5, 0, 44, 29, 62291),\n",
       "       datetime.datetime(2022, 9, 5, 0, 44, 39, 62291),\n",
       "       datetime.datetime(2022, 9, 5, 0, 44, 49, 62291),\n",
       "       datetime.datetime(2022, 9, 5, 0, 44, 59, 62291),\n",
       "       datetime.datetime(2022, 9, 5, 0, 45, 9, 62291),\n",
       "       datetime.datetime(2022, 9, 5, 0, 45, 19, 62291),\n",
       "       datetime.datetime(2022, 9, 5, 0, 45, 29, 62291),\n",
       "       datetime.datetime(2022, 9, 5, 0, 45, 39, 62291),\n",
       "       datetime.datetime(2022, 9, 5, 0, 45, 49, 62291),\n",
       "       datetime.datetime(2022, 9, 5, 0, 45, 59, 62291),\n",
       "       datetime.datetime(2022, 9, 5, 0, 46, 9, 62291),\n",
       "       datetime.datetime(2022, 9, 5, 0, 46, 19, 62291),\n",
       "       datetime.datetime(2022, 9, 5, 0, 46, 29, 62291),\n",
       "       datetime.datetime(2022, 9, 5, 0, 46, 39, 62291),\n",
       "       datetime.datetime(2022, 9, 5, 0, 46, 49, 62291),\n",
       "       datetime.datetime(2022, 9, 5, 0, 46, 59, 62291),\n",
       "       datetime.datetime(2022, 9, 5, 0, 47, 9, 62291),\n",
       "       datetime.datetime(2022, 9, 5, 0, 47, 19, 62291),\n",
       "       datetime.datetime(2022, 9, 5, 0, 47, 29, 62291),\n",
       "       datetime.datetime(2022, 9, 5, 0, 47, 39, 62291),\n",
       "       datetime.datetime(2022, 9, 5, 0, 47, 49, 62291),\n",
       "       datetime.datetime(2022, 9, 5, 0, 47, 59, 62291),\n",
       "       datetime.datetime(2022, 9, 5, 0, 48, 9, 62291),\n",
       "       datetime.datetime(2022, 9, 5, 0, 48, 19, 62291),\n",
       "       datetime.datetime(2022, 9, 5, 0, 48, 29, 62291),\n",
       "       datetime.datetime(2022, 9, 5, 0, 48, 39, 62291),\n",
       "       datetime.datetime(2022, 9, 5, 0, 48, 49, 62291),\n",
       "       datetime.datetime(2022, 9, 5, 0, 48, 59, 62291),\n",
       "       datetime.datetime(2022, 9, 5, 0, 49, 9, 62291),\n",
       "       datetime.datetime(2022, 9, 5, 0, 49, 19, 62291),\n",
       "       datetime.datetime(2022, 9, 5, 0, 49, 29, 62291),\n",
       "       datetime.datetime(2022, 9, 5, 0, 49, 39, 62291),\n",
       "       datetime.datetime(2022, 9, 5, 0, 49, 49, 62291),\n",
       "       datetime.datetime(2022, 9, 5, 0, 49, 59, 62291),\n",
       "       datetime.datetime(2022, 9, 5, 0, 50, 9, 62291),\n",
       "       datetime.datetime(2022, 9, 5, 0, 50, 19, 62291),\n",
       "       datetime.datetime(2022, 9, 5, 0, 50, 29, 62291),\n",
       "       datetime.datetime(2022, 9, 5, 0, 50, 39, 62291),\n",
       "       datetime.datetime(2022, 9, 5, 0, 50, 49, 62291),\n",
       "       datetime.datetime(2022, 9, 5, 0, 50, 59, 62291),\n",
       "       datetime.datetime(2022, 9, 5, 0, 51, 9, 62291),\n",
       "       datetime.datetime(2022, 9, 5, 0, 51, 19, 62291),\n",
       "       datetime.datetime(2022, 9, 5, 0, 51, 29, 62291),\n",
       "       datetime.datetime(2022, 9, 5, 0, 51, 39, 62291),\n",
       "       datetime.datetime(2022, 9, 5, 0, 51, 49, 62291),\n",
       "       datetime.datetime(2022, 9, 5, 0, 51, 59, 62291),\n",
       "       datetime.datetime(2022, 9, 5, 0, 52, 9, 62291),\n",
       "       datetime.datetime(2022, 9, 5, 0, 52, 19, 62291),\n",
       "       datetime.datetime(2022, 9, 5, 0, 52, 29, 62291),\n",
       "       datetime.datetime(2022, 9, 5, 0, 52, 39, 62291),\n",
       "       datetime.datetime(2022, 9, 5, 0, 52, 49, 62291),\n",
       "       datetime.datetime(2022, 9, 5, 0, 52, 59, 62291),\n",
       "       datetime.datetime(2022, 9, 5, 0, 53, 9, 62291),\n",
       "       datetime.datetime(2022, 9, 5, 0, 53, 19, 62291),\n",
       "       datetime.datetime(2022, 9, 5, 0, 53, 29, 62291),\n",
       "       datetime.datetime(2022, 9, 5, 0, 53, 39, 62291),\n",
       "       datetime.datetime(2022, 9, 5, 0, 53, 49, 62291),\n",
       "       datetime.datetime(2022, 9, 5, 0, 53, 59, 62291),\n",
       "       datetime.datetime(2022, 9, 5, 0, 54, 9, 62291),\n",
       "       datetime.datetime(2022, 9, 5, 0, 54, 19, 62291),\n",
       "       datetime.datetime(2022, 9, 5, 0, 54, 29, 62291),\n",
       "       datetime.datetime(2022, 9, 5, 0, 54, 39, 62291),\n",
       "       datetime.datetime(2022, 9, 5, 0, 54, 49, 62291),\n",
       "       datetime.datetime(2022, 9, 5, 0, 54, 59, 62291),\n",
       "       datetime.datetime(2022, 9, 5, 0, 55, 9, 62291),\n",
       "       datetime.datetime(2022, 9, 5, 0, 55, 19, 62291),\n",
       "       datetime.datetime(2022, 9, 5, 0, 55, 29, 62291),\n",
       "       datetime.datetime(2022, 9, 5, 0, 55, 39, 62291),\n",
       "       datetime.datetime(2022, 9, 5, 0, 55, 49, 62291),\n",
       "       datetime.datetime(2022, 9, 5, 0, 55, 59, 62291),\n",
       "       datetime.datetime(2022, 9, 5, 0, 56, 9, 62291),\n",
       "       datetime.datetime(2022, 9, 5, 0, 56, 19, 62291),\n",
       "       datetime.datetime(2022, 9, 5, 0, 56, 29, 62291),\n",
       "       datetime.datetime(2022, 9, 5, 0, 56, 39, 62291),\n",
       "       datetime.datetime(2022, 9, 5, 0, 56, 49, 62291),\n",
       "       datetime.datetime(2022, 9, 5, 0, 56, 59, 62291),\n",
       "       datetime.datetime(2022, 9, 5, 0, 57, 9, 62291),\n",
       "       datetime.datetime(2022, 9, 5, 0, 57, 19, 62291),\n",
       "       datetime.datetime(2022, 9, 5, 0, 57, 29, 62291),\n",
       "       datetime.datetime(2022, 9, 5, 0, 57, 39, 62291),\n",
       "       datetime.datetime(2022, 9, 5, 0, 57, 49, 62291),\n",
       "       datetime.datetime(2022, 9, 5, 0, 57, 59, 62291),\n",
       "       datetime.datetime(2022, 9, 5, 0, 58, 9, 62291),\n",
       "       datetime.datetime(2022, 9, 5, 0, 58, 19, 62291),\n",
       "       datetime.datetime(2022, 9, 5, 0, 58, 29, 62291),\n",
       "       datetime.datetime(2022, 9, 5, 0, 58, 39, 62291),\n",
       "       datetime.datetime(2022, 9, 5, 0, 58, 49, 62291),\n",
       "       datetime.datetime(2022, 9, 5, 0, 58, 59, 62291),\n",
       "       datetime.datetime(2022, 9, 5, 0, 59, 9, 62291),\n",
       "       datetime.datetime(2022, 9, 5, 0, 59, 19, 62291),\n",
       "       datetime.datetime(2022, 9, 5, 0, 59, 29, 62291),\n",
       "       datetime.datetime(2022, 9, 5, 0, 59, 39, 62291),\n",
       "       datetime.datetime(2022, 9, 5, 0, 59, 49, 62291),\n",
       "       datetime.datetime(2022, 9, 5, 0, 59, 59, 62291),\n",
       "       datetime.datetime(2022, 9, 5, 1, 0, 9, 62291),\n",
       "       datetime.datetime(2022, 9, 5, 1, 0, 19, 62291),\n",
       "       datetime.datetime(2022, 9, 5, 1, 0, 29, 62291),\n",
       "       datetime.datetime(2022, 9, 5, 1, 0, 39, 62291),\n",
       "       datetime.datetime(2022, 9, 5, 1, 0, 49, 62291),\n",
       "       datetime.datetime(2022, 9, 5, 1, 0, 59, 62291)], dtype=object)"
      ]
     },
     "execution_count": 61,
     "metadata": {},
     "output_type": "execute_result"
    }
   ],
   "source": [
    "bla.datetime"
   ]
  },
  {
   "cell_type": "code",
   "execution_count": 359,
   "metadata": {},
   "outputs": [],
   "source": [
    "df = pd.DataFrame(line_irradiance,columns=wavelengths_str, index=eve_dt)"
   ]
  },
  {
   "cell_type": "code",
   "execution_count": 360,
   "metadata": {},
   "outputs": [
    {
     "name": "stdout",
     "output_type": "stream",
     "text": [
      "360\n"
     ]
    },
    {
     "data": {
      "text/html": [
       "<div>\n",
       "<style scoped>\n",
       "    .dataframe tbody tr th:only-of-type {\n",
       "        vertical-align: middle;\n",
       "    }\n",
       "\n",
       "    .dataframe tbody tr th {\n",
       "        vertical-align: top;\n",
       "    }\n",
       "\n",
       "    .dataframe thead th {\n",
       "        text-align: right;\n",
       "    }\n",
       "</style>\n",
       "<table border=\"1\" class=\"dataframe\">\n",
       "  <thead>\n",
       "    <tr style=\"text-align: right;\">\n",
       "      <th></th>\n",
       "      <th>9.4</th>\n",
       "      <th>13.1</th>\n",
       "      <th>13.3</th>\n",
       "      <th>17.1</th>\n",
       "      <th>17.7</th>\n",
       "      <th>18.0</th>\n",
       "      <th>19.5</th>\n",
       "      <th>20.2</th>\n",
       "      <th>21.1</th>\n",
       "      <th>25.6</th>\n",
       "      <th>...</th>\n",
       "      <th>71.9</th>\n",
       "      <th>72.2</th>\n",
       "      <th>77.0</th>\n",
       "      <th>79.0</th>\n",
       "      <th>83.6</th>\n",
       "      <th>95.0</th>\n",
       "      <th>97.3</th>\n",
       "      <th>97.7</th>\n",
       "      <th>102.6</th>\n",
       "      <th>103.2</th>\n",
       "    </tr>\n",
       "  </thead>\n",
       "  <tbody>\n",
       "    <tr>\n",
       "      <th>2010-09-05 23:59:58</th>\n",
       "      <td>-1.000000</td>\n",
       "      <td>-1.000000</td>\n",
       "      <td>-1.000000e+00</td>\n",
       "      <td>-1.000000</td>\n",
       "      <td>-1.000000</td>\n",
       "      <td>-1.00000</td>\n",
       "      <td>-1.000000</td>\n",
       "      <td>-1.00000</td>\n",
       "      <td>-1.000000</td>\n",
       "      <td>-1.000000</td>\n",
       "      <td>...</td>\n",
       "      <td>-1.0</td>\n",
       "      <td>-1.0</td>\n",
       "      <td>-1.0</td>\n",
       "      <td>-1.0</td>\n",
       "      <td>-1.0</td>\n",
       "      <td>-1.0</td>\n",
       "      <td>-1.0</td>\n",
       "      <td>-1.0</td>\n",
       "      <td>-1.0</td>\n",
       "      <td>-1.0</td>\n",
       "    </tr>\n",
       "    <tr>\n",
       "      <th>2010-09-05 00:00:08</th>\n",
       "      <td>0.000004</td>\n",
       "      <td>0.000002</td>\n",
       "      <td>7.554066e-07</td>\n",
       "      <td>0.000056</td>\n",
       "      <td>0.000036</td>\n",
       "      <td>0.00005</td>\n",
       "      <td>0.000037</td>\n",
       "      <td>0.00003</td>\n",
       "      <td>0.000017</td>\n",
       "      <td>0.000030</td>\n",
       "      <td>...</td>\n",
       "      <td>-1.0</td>\n",
       "      <td>-1.0</td>\n",
       "      <td>-1.0</td>\n",
       "      <td>-1.0</td>\n",
       "      <td>-1.0</td>\n",
       "      <td>-1.0</td>\n",
       "      <td>-1.0</td>\n",
       "      <td>-1.0</td>\n",
       "      <td>-1.0</td>\n",
       "      <td>-1.0</td>\n",
       "    </tr>\n",
       "    <tr>\n",
       "      <th>2010-09-05 00:00:18</th>\n",
       "      <td>0.000004</td>\n",
       "      <td>0.000002</td>\n",
       "      <td>7.535070e-07</td>\n",
       "      <td>0.000057</td>\n",
       "      <td>0.000037</td>\n",
       "      <td>0.00005</td>\n",
       "      <td>0.000037</td>\n",
       "      <td>0.00003</td>\n",
       "      <td>0.000017</td>\n",
       "      <td>0.000030</td>\n",
       "      <td>...</td>\n",
       "      <td>-1.0</td>\n",
       "      <td>-1.0</td>\n",
       "      <td>-1.0</td>\n",
       "      <td>-1.0</td>\n",
       "      <td>-1.0</td>\n",
       "      <td>-1.0</td>\n",
       "      <td>-1.0</td>\n",
       "      <td>-1.0</td>\n",
       "      <td>-1.0</td>\n",
       "      <td>-1.0</td>\n",
       "    </tr>\n",
       "    <tr>\n",
       "      <th>2010-09-05 00:00:28</th>\n",
       "      <td>0.000004</td>\n",
       "      <td>0.000002</td>\n",
       "      <td>7.084093e-07</td>\n",
       "      <td>0.000056</td>\n",
       "      <td>0.000037</td>\n",
       "      <td>0.00005</td>\n",
       "      <td>0.000036</td>\n",
       "      <td>0.00003</td>\n",
       "      <td>0.000018</td>\n",
       "      <td>0.000031</td>\n",
       "      <td>...</td>\n",
       "      <td>-1.0</td>\n",
       "      <td>-1.0</td>\n",
       "      <td>-1.0</td>\n",
       "      <td>-1.0</td>\n",
       "      <td>-1.0</td>\n",
       "      <td>-1.0</td>\n",
       "      <td>-1.0</td>\n",
       "      <td>-1.0</td>\n",
       "      <td>-1.0</td>\n",
       "      <td>-1.0</td>\n",
       "    </tr>\n",
       "    <tr>\n",
       "      <th>2010-09-05 00:00:38</th>\n",
       "      <td>0.000004</td>\n",
       "      <td>0.000002</td>\n",
       "      <td>7.334931e-07</td>\n",
       "      <td>0.000055</td>\n",
       "      <td>0.000036</td>\n",
       "      <td>0.00005</td>\n",
       "      <td>0.000037</td>\n",
       "      <td>0.00003</td>\n",
       "      <td>0.000017</td>\n",
       "      <td>0.000030</td>\n",
       "      <td>...</td>\n",
       "      <td>-1.0</td>\n",
       "      <td>-1.0</td>\n",
       "      <td>-1.0</td>\n",
       "      <td>-1.0</td>\n",
       "      <td>-1.0</td>\n",
       "      <td>-1.0</td>\n",
       "      <td>-1.0</td>\n",
       "      <td>-1.0</td>\n",
       "      <td>-1.0</td>\n",
       "      <td>-1.0</td>\n",
       "    </tr>\n",
       "  </tbody>\n",
       "</table>\n",
       "<p>5 rows × 39 columns</p>\n",
       "</div>"
      ],
      "text/plain": [
       "                          9.4      13.1          13.3      17.1      17.7  \\\n",
       "2010-09-05 23:59:58 -1.000000 -1.000000 -1.000000e+00 -1.000000 -1.000000   \n",
       "2010-09-05 00:00:08  0.000004  0.000002  7.554066e-07  0.000056  0.000036   \n",
       "2010-09-05 00:00:18  0.000004  0.000002  7.535070e-07  0.000057  0.000037   \n",
       "2010-09-05 00:00:28  0.000004  0.000002  7.084093e-07  0.000056  0.000037   \n",
       "2010-09-05 00:00:38  0.000004  0.000002  7.334931e-07  0.000055  0.000036   \n",
       "\n",
       "                        18.0      19.5     20.2      21.1      25.6  ...    \\\n",
       "2010-09-05 23:59:58 -1.00000 -1.000000 -1.00000 -1.000000 -1.000000  ...     \n",
       "2010-09-05 00:00:08  0.00005  0.000037  0.00003  0.000017  0.000030  ...     \n",
       "2010-09-05 00:00:18  0.00005  0.000037  0.00003  0.000017  0.000030  ...     \n",
       "2010-09-05 00:00:28  0.00005  0.000036  0.00003  0.000018  0.000031  ...     \n",
       "2010-09-05 00:00:38  0.00005  0.000037  0.00003  0.000017  0.000030  ...     \n",
       "\n",
       "                     71.9  72.2  77.0  79.0  83.6  95.0  97.3  97.7  102.6  \\\n",
       "2010-09-05 23:59:58  -1.0  -1.0  -1.0  -1.0  -1.0  -1.0  -1.0  -1.0   -1.0   \n",
       "2010-09-05 00:00:08  -1.0  -1.0  -1.0  -1.0  -1.0  -1.0  -1.0  -1.0   -1.0   \n",
       "2010-09-05 00:00:18  -1.0  -1.0  -1.0  -1.0  -1.0  -1.0  -1.0  -1.0   -1.0   \n",
       "2010-09-05 00:00:28  -1.0  -1.0  -1.0  -1.0  -1.0  -1.0  -1.0  -1.0   -1.0   \n",
       "2010-09-05 00:00:38  -1.0  -1.0  -1.0  -1.0  -1.0  -1.0  -1.0  -1.0   -1.0   \n",
       "\n",
       "                     103.2  \n",
       "2010-09-05 23:59:58   -1.0  \n",
       "2010-09-05 00:00:08   -1.0  \n",
       "2010-09-05 00:00:18   -1.0  \n",
       "2010-09-05 00:00:28   -1.0  \n",
       "2010-09-05 00:00:38   -1.0  \n",
       "\n",
       "[5 rows x 39 columns]"
      ]
     },
     "execution_count": 360,
     "metadata": {},
     "output_type": "execute_result"
    }
   ],
   "source": [
    "print(len(df))\n",
    "df.head()"
   ]
  },
  {
   "cell_type": "code",
   "execution_count": null,
   "metadata": {},
   "outputs": [],
   "source": []
  },
  {
   "cell_type": "code",
   "execution_count": 174,
   "metadata": {},
   "outputs": [],
   "source": [
    "# sunpy read in.. the [2] is just a point in time\n",
    "tai = data[2][0]\n",
    "yyyydoy = data[2][1]\n",
    "sod = data[2][2]\n",
    "flags = data[2][3]\n",
    "sc_flags = data[2][4]\n",
    "line_irradiance = data[2][5]\n",
    "line_precision = data[2][6]\n",
    "line_accuracy = data[2][7]\n",
    "band_irradiance = data[2][8]\n",
    "band_precision = data[2][9]\n",
    "band_accuracy = data[2][10]\n",
    "diode_irradiance = data[2][11]\n",
    "diode_stdev = data[2][12]\n",
    "diode_precision = data[2][13]\n",
    "diode_accuracy = data[2][14]\n",
    "quad_fraction = data[2][15]\n",
    "quad_stdev = data[2][16]\n",
    "quad_precision = data[2][17]\n",
    "quad_accuracy = data[2][18]"
   ]
  },
  {
   "cell_type": "code",
   "execution_count": null,
   "metadata": {},
   "outputs": [],
   "source": []
  },
  {
   "cell_type": "markdown",
   "metadata": {},
   "source": [
    "# Figuring out how sunpy timeseries stores its data"
   ]
  },
  {
   "cell_type": "code",
   "execution_count": 17,
   "metadata": {},
   "outputs": [],
   "source": [
    "import sunpy.timeseries\n",
    "import sunpy.data.sample\n",
    "lyra = sunpy.timeseries.TimeSeries(sunpy.data.sample.LYRA_LEVEL3_TIMESERIES)"
   ]
  },
  {
   "cell_type": "code",
   "execution_count": 18,
   "metadata": {},
   "outputs": [
    {
     "data": {
      "text/plain": [
       "sunpy.timeseries.sources.lyra.LYRATimeSeries"
      ]
     },
     "execution_count": 18,
     "metadata": {},
     "output_type": "execute_result"
    }
   ],
   "source": [
    "type(lyra)"
   ]
  },
  {
   "cell_type": "code",
   "execution_count": 28,
   "metadata": {},
   "outputs": [
    {
     "data": {
      "text/html": [
       "<div>\n",
       "<style scoped>\n",
       "    .dataframe tbody tr th:only-of-type {\n",
       "        vertical-align: middle;\n",
       "    }\n",
       "\n",
       "    .dataframe tbody tr th {\n",
       "        vertical-align: top;\n",
       "    }\n",
       "\n",
       "    .dataframe thead th {\n",
       "        text-align: right;\n",
       "    }\n",
       "</style>\n",
       "<table border=\"1\" class=\"dataframe\">\n",
       "  <thead>\n",
       "    <tr style=\"text-align: right;\">\n",
       "      <th></th>\n",
       "      <th>CHANNEL1</th>\n",
       "      <th>CHANNEL2</th>\n",
       "      <th>CHANNEL3</th>\n",
       "      <th>CHANNEL4</th>\n",
       "    </tr>\n",
       "  </thead>\n",
       "  <tbody>\n",
       "    <tr>\n",
       "      <th>2011-06-07 00:00:00.010</th>\n",
       "      <td>0.006365</td>\n",
       "      <td>0.695866</td>\n",
       "      <td>0.002392</td>\n",
       "      <td>0.001100</td>\n",
       "    </tr>\n",
       "    <tr>\n",
       "      <th>2011-06-07 00:01:00.010</th>\n",
       "      <td>0.006365</td>\n",
       "      <td>0.695868</td>\n",
       "      <td>0.002392</td>\n",
       "      <td>0.001100</td>\n",
       "    </tr>\n",
       "    <tr>\n",
       "      <th>2011-06-07 00:02:00.010</th>\n",
       "      <td>0.006366</td>\n",
       "      <td>0.695870</td>\n",
       "      <td>0.002391</td>\n",
       "      <td>0.001100</td>\n",
       "    </tr>\n",
       "    <tr>\n",
       "      <th>2011-06-07 00:03:00.010</th>\n",
       "      <td>0.006366</td>\n",
       "      <td>0.695870</td>\n",
       "      <td>0.002391</td>\n",
       "      <td>0.001099</td>\n",
       "    </tr>\n",
       "    <tr>\n",
       "      <th>2011-06-07 00:04:00.010</th>\n",
       "      <td>0.006365</td>\n",
       "      <td>0.695873</td>\n",
       "      <td>0.002391</td>\n",
       "      <td>0.001099</td>\n",
       "    </tr>\n",
       "  </tbody>\n",
       "</table>\n",
       "</div>"
      ],
      "text/plain": [
       "                         CHANNEL1  CHANNEL2  CHANNEL3  CHANNEL4\n",
       "2011-06-07 00:00:00.010  0.006365  0.695866  0.002392  0.001100\n",
       "2011-06-07 00:01:00.010  0.006365  0.695868  0.002392  0.001100\n",
       "2011-06-07 00:02:00.010  0.006366  0.695870  0.002391  0.001100\n",
       "2011-06-07 00:03:00.010  0.006366  0.695870  0.002391  0.001099\n",
       "2011-06-07 00:04:00.010  0.006365  0.695873  0.002391  0.001099"
      ]
     },
     "execution_count": 28,
     "metadata": {},
     "output_type": "execute_result"
    }
   ],
   "source": [
    "lyra.data.head()"
   ]
  },
  {
   "cell_type": "code",
   "execution_count": 29,
   "metadata": {},
   "outputs": [],
   "source": [
    "rhessi = sunpy.timeseries.TimeSeries(sunpy.data.sample.RHESSI_TIMESERIES)"
   ]
  },
  {
   "cell_type": "code",
   "execution_count": 31,
   "metadata": {},
   "outputs": [
    {
     "data": {
      "text/html": [
       "<div>\n",
       "<style scoped>\n",
       "    .dataframe tbody tr th:only-of-type {\n",
       "        vertical-align: middle;\n",
       "    }\n",
       "\n",
       "    .dataframe tbody tr th {\n",
       "        vertical-align: top;\n",
       "    }\n",
       "\n",
       "    .dataframe thead th {\n",
       "        text-align: right;\n",
       "    }\n",
       "</style>\n",
       "<table border=\"1\" class=\"dataframe\">\n",
       "  <thead>\n",
       "    <tr style=\"text-align: right;\">\n",
       "      <th></th>\n",
       "      <th>3 - 6 keV</th>\n",
       "      <th>6 - 12 keV</th>\n",
       "      <th>12 - 25 keV</th>\n",
       "      <th>25 - 50 keV</th>\n",
       "      <th>50 - 100 keV</th>\n",
       "      <th>100 - 300 keV</th>\n",
       "      <th>300 - 800 keV</th>\n",
       "      <th>800 - 7000 keV</th>\n",
       "      <th>7000 - 20000 keV</th>\n",
       "    </tr>\n",
       "  </thead>\n",
       "  <tbody>\n",
       "    <tr>\n",
       "      <th>2011-06-07 00:00:00</th>\n",
       "      <td>9</td>\n",
       "      <td>18</td>\n",
       "      <td>15</td>\n",
       "      <td>20</td>\n",
       "      <td>48</td>\n",
       "      <td>136</td>\n",
       "      <td>112</td>\n",
       "      <td>88</td>\n",
       "      <td>3</td>\n",
       "    </tr>\n",
       "    <tr>\n",
       "      <th>2011-06-07 00:00:04</th>\n",
       "      <td>8</td>\n",
       "      <td>18</td>\n",
       "      <td>16</td>\n",
       "      <td>22</td>\n",
       "      <td>48</td>\n",
       "      <td>136</td>\n",
       "      <td>108</td>\n",
       "      <td>88</td>\n",
       "      <td>4</td>\n",
       "    </tr>\n",
       "    <tr>\n",
       "      <th>2011-06-07 00:00:08</th>\n",
       "      <td>8</td>\n",
       "      <td>16</td>\n",
       "      <td>16</td>\n",
       "      <td>20</td>\n",
       "      <td>48</td>\n",
       "      <td>136</td>\n",
       "      <td>112</td>\n",
       "      <td>88</td>\n",
       "      <td>4</td>\n",
       "    </tr>\n",
       "    <tr>\n",
       "      <th>2011-06-07 00:00:12</th>\n",
       "      <td>8</td>\n",
       "      <td>20</td>\n",
       "      <td>18</td>\n",
       "      <td>22</td>\n",
       "      <td>48</td>\n",
       "      <td>136</td>\n",
       "      <td>112</td>\n",
       "      <td>88</td>\n",
       "      <td>4</td>\n",
       "    </tr>\n",
       "    <tr>\n",
       "      <th>2011-06-07 00:00:16</th>\n",
       "      <td>9</td>\n",
       "      <td>16</td>\n",
       "      <td>15</td>\n",
       "      <td>22</td>\n",
       "      <td>44</td>\n",
       "      <td>136</td>\n",
       "      <td>112</td>\n",
       "      <td>88</td>\n",
       "      <td>4</td>\n",
       "    </tr>\n",
       "  </tbody>\n",
       "</table>\n",
       "</div>"
      ],
      "text/plain": [
       "                     3 - 6 keV  6 - 12 keV  12 - 25 keV  25 - 50 keV  \\\n",
       "2011-06-07 00:00:00          9          18           15           20   \n",
       "2011-06-07 00:00:04          8          18           16           22   \n",
       "2011-06-07 00:00:08          8          16           16           20   \n",
       "2011-06-07 00:00:12          8          20           18           22   \n",
       "2011-06-07 00:00:16          9          16           15           22   \n",
       "\n",
       "                     50 - 100 keV  100 - 300 keV  300 - 800 keV  \\\n",
       "2011-06-07 00:00:00            48            136            112   \n",
       "2011-06-07 00:00:04            48            136            108   \n",
       "2011-06-07 00:00:08            48            136            112   \n",
       "2011-06-07 00:00:12            48            136            112   \n",
       "2011-06-07 00:00:16            44            136            112   \n",
       "\n",
       "                     800 - 7000 keV  7000 - 20000 keV  \n",
       "2011-06-07 00:00:00              88                 3  \n",
       "2011-06-07 00:00:04              88                 4  \n",
       "2011-06-07 00:00:08              88                 4  \n",
       "2011-06-07 00:00:12              88                 4  \n",
       "2011-06-07 00:00:16              88                 4  "
      ]
     },
     "execution_count": 31,
     "metadata": {},
     "output_type": "execute_result"
    }
   ],
   "source": [
    "rhessi.data.head()"
   ]
  },
  {
   "cell_type": "code",
   "execution_count": 32,
   "metadata": {},
   "outputs": [
    {
     "data": {
      "text/plain": [
       "sunpy.timeseries.sources.rhessi.RHESSISummaryTimeSeries"
      ]
     },
     "execution_count": 32,
     "metadata": {},
     "output_type": "execute_result"
    }
   ],
   "source": [
    "type(rhdaessi)"
   ]
  },
  {
   "cell_type": "code",
   "execution_count": null,
   "metadata": {},
   "outputs": [],
   "source": []
  },
  {
   "cell_type": "code",
   "execution_count": null,
   "metadata": {},
   "outputs": [],
   "source": []
  },
  {
   "cell_type": "code",
   "execution_count": null,
   "metadata": {},
   "outputs": [],
   "source": []
  },
  {
   "cell_type": "code",
   "execution_count": null,
   "metadata": {},
   "outputs": [],
   "source": [
    "# Optionally average the data"
   ]
  },
  {
   "cell_type": "code",
   "execution_count": null,
   "metadata": {},
   "outputs": [],
   "source": [
    "# Optionally change the missing data flag from -1 to user desired value"
   ]
  },
  {
   "cell_type": "code",
   "execution_count": null,
   "metadata": {},
   "outputs": [],
   "source": []
  },
  {
   "cell_type": "code",
   "execution_count": null,
   "metadata": {},
   "outputs": [],
   "source": []
  },
  {
   "cell_type": "markdown",
   "metadata": {},
   "source": [
    "# Figuring out how to do astropy.time subclasses"
   ]
  },
  {
   "cell_type": "markdown",
   "metadata": {},
   "source": [
    "## utime "
   ]
  },
  {
   "cell_type": "code",
   "execution_count": 71,
   "metadata": {},
   "outputs": [],
   "source": [
    "from astropy.time.formats import erfa, TimeFromEpoch\n",
    "class TimeUTime(TimeFromEpoch):\n",
    "    \"\"\"\n",
    "    Seconds from 1979-01-01 00:00:00 TAI. Similar to Unix time\n",
    "    but this starts 9 years later.\n",
    "    \"\"\"\n",
    "    name = 'utime'\n",
    "    unit = 1.0 / erfa.DAYSEC  # in days (1 day == 86400 seconds)\n",
    "    epoch_val = '1979-01-01 00:00:00'\n",
    "    epoch_val2 = None\n",
    "    epoch_scale = 'utc'  # Scale for epoch_val class attribute\n",
    "    epoch_format = 'iso'  # Format for epoch_val class attribute"
   ]
  },
  {
   "cell_type": "code",
   "execution_count": 175,
   "metadata": {},
   "outputs": [
    {
     "name": "stdout",
     "output_type": "stream",
     "text": [
      "662738003.0\n"
     ]
    }
   ],
   "source": [
    "t = Time('2000-01-01T13:53:23')\n",
    "print(t.utime)"
   ]
  },
  {
   "cell_type": "code",
   "execution_count": 202,
   "metadata": {},
   "outputs": [
    {
     "ename": "ScaleValueError",
     "evalue": "Cannot convert from 'utime' epoch scale 'utc'to specified scale 'utc', got error:\nInput values did not match the format class jd",
     "output_type": "error",
     "traceback": [
      "\u001b[0;31m---------------------------------------------------------------------------\u001b[0m",
      "\u001b[0;31mValueError\u001b[0m                                Traceback (most recent call last)",
      "\u001b[0;32m/Users/jmason86/anaconda/envs/py36/lib/python3.6/site-packages/astropy/time/formats.py\u001b[0m in \u001b[0;36mset_jds\u001b[0;34m(self, val1, val2)\u001b[0m\n\u001b[1;32m    379\u001b[0m             tm = getattr(Time(jd1, jd2, scale=self.epoch_scale,\n\u001b[0;32m--> 380\u001b[0;31m                               format='jd'), self.scale)\n\u001b[0m\u001b[1;32m    381\u001b[0m         \u001b[0;32mexcept\u001b[0m \u001b[0mException\u001b[0m \u001b[0;32mas\u001b[0m \u001b[0merr\u001b[0m\u001b[0;34m:\u001b[0m\u001b[0;34m\u001b[0m\u001b[0m\n",
      "\u001b[0;32m/Users/jmason86/anaconda/envs/py36/lib/python3.6/site-packages/astropy/time/core.py\u001b[0m in \u001b[0;36m__init__\u001b[0;34m(self, val, val2, format, scale, precision, in_subfmt, out_subfmt, location, copy)\u001b[0m\n\u001b[1;32m    283\u001b[0m             self._init_from_vals(val, val2, format, scale, copy,\n\u001b[0;32m--> 284\u001b[0;31m                                  precision, in_subfmt, out_subfmt)\n\u001b[0m\u001b[1;32m    285\u001b[0m \u001b[0;34m\u001b[0m\u001b[0m\n",
      "\u001b[0;32m/Users/jmason86/anaconda/envs/py36/lib/python3.6/site-packages/astropy/time/core.py\u001b[0m in \u001b[0;36m_init_from_vals\u001b[0;34m(self, val, val2, format, scale, copy, precision, in_subfmt, out_subfmt)\u001b[0m\n\u001b[1;32m    333\u001b[0m         self._time = self._get_time_fmt(val, val2, format, scale,\n\u001b[0;32m--> 334\u001b[0;31m                                         precision, in_subfmt, out_subfmt)\n\u001b[0m\u001b[1;32m    335\u001b[0m         \u001b[0mself\u001b[0m\u001b[0;34m.\u001b[0m\u001b[0m_format\u001b[0m \u001b[0;34m=\u001b[0m \u001b[0mself\u001b[0m\u001b[0;34m.\u001b[0m\u001b[0m_time\u001b[0m\u001b[0;34m.\u001b[0m\u001b[0mname\u001b[0m\u001b[0;34m\u001b[0m\u001b[0m\n",
      "\u001b[0;32m/Users/jmason86/anaconda/envs/py36/lib/python3.6/site-packages/astropy/time/core.py\u001b[0m in \u001b[0;36m_get_time_fmt\u001b[0;34m(self, val, val2, format, scale, precision, in_subfmt, out_subfmt)\u001b[0m\n\u001b[1;32m    377\u001b[0m         \u001b[0;32melse\u001b[0m\u001b[0;34m:\u001b[0m\u001b[0;34m\u001b[0m\u001b[0m\n\u001b[0;32m--> 378\u001b[0;31m             \u001b[0;32mraise\u001b[0m \u001b[0mValueError\u001b[0m\u001b[0;34m(\u001b[0m\u001b[0;34m'Input values did not match {0}'\u001b[0m\u001b[0;34m.\u001b[0m\u001b[0mformat\u001b[0m\u001b[0;34m(\u001b[0m\u001b[0merr_msg\u001b[0m\u001b[0;34m)\u001b[0m\u001b[0;34m)\u001b[0m\u001b[0;34m\u001b[0m\u001b[0m\n\u001b[0m\u001b[1;32m    379\u001b[0m \u001b[0;34m\u001b[0m\u001b[0m\n",
      "\u001b[0;31mValueError\u001b[0m: Input values did not match the format class jd",
      "\nDuring handling of the above exception, another exception occurred:\n",
      "\u001b[0;31mScaleValueError\u001b[0m                           Traceback (most recent call last)",
      "\u001b[0;32m<ipython-input-202-af3ce79ba069>\u001b[0m in \u001b[0;36m<module>\u001b[0;34m()\u001b[0m\n\u001b[0;32m----> 1\u001b[0;31m \u001b[0mt\u001b[0m \u001b[0;34m=\u001b[0m \u001b[0mTime\u001b[0m\u001b[0;34m(\u001b[0m\u001b[0;36m662738003.0\u001b[0m\u001b[0;34m,\u001b[0m \u001b[0mformat\u001b[0m\u001b[0;34m=\u001b[0m\u001b[0;34m'utime'\u001b[0m\u001b[0;34m)\u001b[0m\u001b[0;34m\u001b[0m\u001b[0m\n\u001b[0m",
      "\u001b[0;32m/Users/jmason86/anaconda/envs/py36/lib/python3.6/site-packages/astropy/time/core.py\u001b[0m in \u001b[0;36m__init__\u001b[0;34m(self, val, val2, format, scale, precision, in_subfmt, out_subfmt, location, copy)\u001b[0m\n\u001b[1;32m    282\u001b[0m         \u001b[0;32melse\u001b[0m\u001b[0;34m:\u001b[0m\u001b[0;34m\u001b[0m\u001b[0m\n\u001b[1;32m    283\u001b[0m             self._init_from_vals(val, val2, format, scale, copy,\n\u001b[0;32m--> 284\u001b[0;31m                                  precision, in_subfmt, out_subfmt)\n\u001b[0m\u001b[1;32m    285\u001b[0m \u001b[0;34m\u001b[0m\u001b[0m\n\u001b[1;32m    286\u001b[0m         if self.location is not None and (self.location.size > 1 and\n",
      "\u001b[0;32m/Users/jmason86/anaconda/envs/py36/lib/python3.6/site-packages/astropy/time/core.py\u001b[0m in \u001b[0;36m_init_from_vals\u001b[0;34m(self, val, val2, format, scale, copy, precision, in_subfmt, out_subfmt)\u001b[0m\n\u001b[1;32m    332\u001b[0m         \u001b[0;31m# Parse / convert input values into internal jd1, jd2 based on format\u001b[0m\u001b[0;34m\u001b[0m\u001b[0;34m\u001b[0m\u001b[0m\n\u001b[1;32m    333\u001b[0m         self._time = self._get_time_fmt(val, val2, format, scale,\n\u001b[0;32m--> 334\u001b[0;31m                                         precision, in_subfmt, out_subfmt)\n\u001b[0m\u001b[1;32m    335\u001b[0m         \u001b[0mself\u001b[0m\u001b[0;34m.\u001b[0m\u001b[0m_format\u001b[0m \u001b[0;34m=\u001b[0m \u001b[0mself\u001b[0m\u001b[0;34m.\u001b[0m\u001b[0m_time\u001b[0m\u001b[0;34m.\u001b[0m\u001b[0mname\u001b[0m\u001b[0;34m\u001b[0m\u001b[0m\n\u001b[1;32m    336\u001b[0m \u001b[0;34m\u001b[0m\u001b[0m\n",
      "\u001b[0;32m/Users/jmason86/anaconda/envs/py36/lib/python3.6/site-packages/astropy/time/core.py\u001b[0m in \u001b[0;36m_get_time_fmt\u001b[0;34m(self, val, val2, format, scale, precision, in_subfmt, out_subfmt)\u001b[0m\n\u001b[1;32m    370\u001b[0m         \u001b[0;32mfor\u001b[0m \u001b[0mformat\u001b[0m\u001b[0;34m,\u001b[0m \u001b[0mFormatClass\u001b[0m \u001b[0;32min\u001b[0m \u001b[0mformats\u001b[0m\u001b[0;34m:\u001b[0m\u001b[0;34m\u001b[0m\u001b[0m\n\u001b[1;32m    371\u001b[0m             \u001b[0;32mtry\u001b[0m\u001b[0;34m:\u001b[0m\u001b[0;34m\u001b[0m\u001b[0m\n\u001b[0;32m--> 372\u001b[0;31m                 \u001b[0;32mreturn\u001b[0m \u001b[0mFormatClass\u001b[0m\u001b[0;34m(\u001b[0m\u001b[0mval\u001b[0m\u001b[0;34m,\u001b[0m \u001b[0mval2\u001b[0m\u001b[0;34m,\u001b[0m \u001b[0mscale\u001b[0m\u001b[0;34m,\u001b[0m \u001b[0mprecision\u001b[0m\u001b[0;34m,\u001b[0m \u001b[0min_subfmt\u001b[0m\u001b[0;34m,\u001b[0m \u001b[0mout_subfmt\u001b[0m\u001b[0;34m)\u001b[0m\u001b[0;34m\u001b[0m\u001b[0m\n\u001b[0m\u001b[1;32m    373\u001b[0m             \u001b[0;32mexcept\u001b[0m \u001b[0mUnitConversionError\u001b[0m\u001b[0;34m:\u001b[0m\u001b[0;34m\u001b[0m\u001b[0m\n\u001b[1;32m    374\u001b[0m                 \u001b[0;32mraise\u001b[0m\u001b[0;34m\u001b[0m\u001b[0m\n",
      "\u001b[0;32m/Users/jmason86/anaconda/envs/py36/lib/python3.6/site-packages/astropy/time/formats.py\u001b[0m in \u001b[0;36m__init__\u001b[0;34m(self, val1, val2, scale, precision, in_subfmt, out_subfmt, from_jd)\u001b[0m\n\u001b[1;32m    346\u001b[0m         \u001b[0;31m# Now create the TimeFormat object as normal\u001b[0m\u001b[0;34m\u001b[0m\u001b[0;34m\u001b[0m\u001b[0m\n\u001b[1;32m    347\u001b[0m         super(TimeFromEpoch, self).__init__(val1, val2, scale, precision,\n\u001b[0;32m--> 348\u001b[0;31m                                             in_subfmt, out_subfmt, from_jd)\n\u001b[0m\u001b[1;32m    349\u001b[0m \u001b[0;34m\u001b[0m\u001b[0m\n\u001b[1;32m    350\u001b[0m     \u001b[0;32mdef\u001b[0m \u001b[0mset_jds\u001b[0m\u001b[0;34m(\u001b[0m\u001b[0mself\u001b[0m\u001b[0;34m,\u001b[0m \u001b[0mval1\u001b[0m\u001b[0;34m,\u001b[0m \u001b[0mval2\u001b[0m\u001b[0;34m)\u001b[0m\u001b[0;34m:\u001b[0m\u001b[0;34m\u001b[0m\u001b[0m\n",
      "\u001b[0;32m/Users/jmason86/anaconda/envs/py36/lib/python3.6/site-packages/astropy/time/formats.py\u001b[0m in \u001b[0;36m__init__\u001b[0;34m(self, val1, val2, scale, precision, in_subfmt, out_subfmt, from_jd)\u001b[0m\n\u001b[1;32m    131\u001b[0m         \u001b[0;32melse\u001b[0m\u001b[0;34m:\u001b[0m\u001b[0;34m\u001b[0m\u001b[0m\n\u001b[1;32m    132\u001b[0m             \u001b[0mval1\u001b[0m\u001b[0;34m,\u001b[0m \u001b[0mval2\u001b[0m \u001b[0;34m=\u001b[0m \u001b[0mself\u001b[0m\u001b[0;34m.\u001b[0m\u001b[0m_check_val_type\u001b[0m\u001b[0;34m(\u001b[0m\u001b[0mval1\u001b[0m\u001b[0;34m,\u001b[0m \u001b[0mval2\u001b[0m\u001b[0;34m)\u001b[0m\u001b[0;34m\u001b[0m\u001b[0m\n\u001b[0;32m--> 133\u001b[0;31m             \u001b[0mself\u001b[0m\u001b[0;34m.\u001b[0m\u001b[0mset_jds\u001b[0m\u001b[0;34m(\u001b[0m\u001b[0mval1\u001b[0m\u001b[0;34m,\u001b[0m \u001b[0mval2\u001b[0m\u001b[0;34m)\u001b[0m\u001b[0;34m\u001b[0m\u001b[0m\n\u001b[0m\u001b[1;32m    134\u001b[0m \u001b[0;34m\u001b[0m\u001b[0m\n\u001b[1;32m    135\u001b[0m     \u001b[0;32mdef\u001b[0m \u001b[0m__len__\u001b[0m\u001b[0;34m(\u001b[0m\u001b[0mself\u001b[0m\u001b[0;34m)\u001b[0m\u001b[0;34m:\u001b[0m\u001b[0;34m\u001b[0m\u001b[0m\n",
      "\u001b[0;32m/Users/jmason86/anaconda/envs/py36/lib/python3.6/site-packages/astropy/time/formats.py\u001b[0m in \u001b[0;36mset_jds\u001b[0;34m(self, val1, val2)\u001b[0m\n\u001b[1;32m    383\u001b[0m                                   \u001b[0;34m\"to specified scale '{2}', got error:\\n{3}\"\u001b[0m\u001b[0;34m\u001b[0m\u001b[0m\n\u001b[1;32m    384\u001b[0m                                   .format(self.name, self.epoch_scale,\n\u001b[0;32m--> 385\u001b[0;31m                                           self.scale, err))\n\u001b[0m\u001b[1;32m    386\u001b[0m \u001b[0;34m\u001b[0m\u001b[0m\n\u001b[1;32m    387\u001b[0m         \u001b[0mself\u001b[0m\u001b[0;34m.\u001b[0m\u001b[0mjd1\u001b[0m\u001b[0;34m,\u001b[0m \u001b[0mself\u001b[0m\u001b[0;34m.\u001b[0m\u001b[0mjd2\u001b[0m \u001b[0;34m=\u001b[0m \u001b[0mday_frac\u001b[0m\u001b[0;34m(\u001b[0m\u001b[0mtm\u001b[0m\u001b[0;34m.\u001b[0m\u001b[0m_time\u001b[0m\u001b[0;34m.\u001b[0m\u001b[0mjd1\u001b[0m\u001b[0;34m,\u001b[0m \u001b[0mtm\u001b[0m\u001b[0;34m.\u001b[0m\u001b[0m_time\u001b[0m\u001b[0;34m.\u001b[0m\u001b[0mjd2\u001b[0m\u001b[0;34m)\u001b[0m\u001b[0;34m\u001b[0m\u001b[0m\n",
      "\u001b[0;31mScaleValueError\u001b[0m: Cannot convert from 'utime' epoch scale 'utc'to specified scale 'utc', got error:\nInput values did not match the format class jd"
     ]
    }
   ],
   "source": [
    "t = Time(662738003.0, format='utime')"
   ]
  },
  {
   "cell_type": "code",
   "execution_count": null,
   "metadata": {},
   "outputs": [],
   "source": []
  },
  {
   "cell_type": "code",
   "execution_count": null,
   "metadata": {},
   "outputs": [],
   "source": []
  },
  {
   "cell_type": "markdown",
   "metadata": {},
   "source": [
    "## Astropy doc example for yyyydoyThh:mm:ss"
   ]
  },
  {
   "cell_type": "code",
   "execution_count": 188,
   "metadata": {},
   "outputs": [],
   "source": [
    "from astropy.time import TimeISO\n",
    "class TimeYearDayTimeCustom(TimeISO):\n",
    "    name = 'yday_custom'  # Unique format name\n",
    "    subfmts = (('date_hms',\n",
    "                '%Y-%jT%H:%M:%S',\n",
    "                '{year:d}-{yday:03d}T{hour:02d}:{min:02d}:{sec:02d}'),\n",
    "               ('date_hm',\n",
    "                '%Y-%jT%H:%M',\n",
    "                '{year:d}-{yday:03d}T{hour:02d}:{min:02d}'),\n",
    "               ('date',\n",
    "                '%Y-%j',\n",
    "                '{year:d}-{yday:03d}'))"
   ]
  },
  {
   "cell_type": "code",
   "execution_count": 189,
   "metadata": {},
   "outputs": [
    {
     "data": {
      "text/plain": [
       "'2000-001T00:00:00.000'"
      ]
     },
     "execution_count": 189,
     "metadata": {},
     "output_type": "execute_result"
    }
   ],
   "source": [
    "t = Time('2000-01-01')\n",
    "t.yday_custom"
   ]
  },
  {
   "cell_type": "code",
   "execution_count": 190,
   "metadata": {},
   "outputs": [
    {
     "data": {
      "text/plain": [
       "'2016-01-01 00:00:00.000'"
      ]
     },
     "execution_count": 190,
     "metadata": {},
     "output_type": "execute_result"
    }
   ],
   "source": [
    "t2 = Time('2016-001T00:00:00')\n",
    "t2.iso"
   ]
  },
  {
   "cell_type": "code",
   "execution_count": 206,
   "metadata": {},
   "outputs": [
    {
     "data": {
      "text/plain": [
       "['jd',\n",
       " 'mjd',\n",
       " 'decimalyear',\n",
       " 'unix',\n",
       " 'cxcsec',\n",
       " 'gps',\n",
       " 'plot_date',\n",
       " 'datetime',\n",
       " 'iso',\n",
       " 'isot',\n",
       " 'yday',\n",
       " 'fits',\n",
       " 'byear',\n",
       " 'jyear',\n",
       " 'byear_str',\n",
       " 'jyear_str',\n",
       " 'unix_leap',\n",
       " 'utime',\n",
       " 'yyyydoy_sod',\n",
       " 'yday_custom']"
      ]
     },
     "execution_count": 206,
     "metadata": {},
     "output_type": "execute_result"
    }
   ],
   "source": [
    "list(Time.FORMATS)"
   ]
  },
  {
   "cell_type": "code",
   "execution_count": 199,
   "metadata": {},
   "outputs": [
    {
     "data": {
      "text/plain": [
       "'2016-01-01 00:00:00.000'"
      ]
     },
     "execution_count": 199,
     "metadata": {},
     "output_type": "execute_result"
    }
   ],
   "source": [
    "t3 = Time('2016-001T00:00:00', format='yday_custom')\n",
    "t3.iso"
   ]
  },
  {
   "cell_type": "markdown",
   "metadata": {},
   "source": [
    "## Astropy example for unix time with leap seconds (change scaled utc->tai)"
   ]
  },
  {
   "cell_type": "code",
   "execution_count": null,
   "metadata": {},
   "outputs": [],
   "source": [
    "from astropy.time.formats import erfa, TimeFromEpoch\n",
    "class TimeUnixLeap(TimeFromEpoch):\n",
    "    name = 'unix_leap'\n",
    "    unit = 1.0 / erfa.DAYSEC  # in days (1 day == 86400 seconds)\n",
    "    epoch_val = '1970-01-01 00:00:00'\n",
    "    epoch_val2 = None\n",
    "    epoch_scale = 'tai'  # Scale for epoch_val class attribute\n",
    "    epoch_format = 'iso'  # Format for epoch_val class attribute"
   ]
  },
  {
   "cell_type": "code",
   "execution_count": 203,
   "metadata": {},
   "outputs": [
    {
     "data": {
      "text/plain": [
       "946684832.0"
      ]
     },
     "execution_count": 203,
     "metadata": {},
     "output_type": "execute_result"
    }
   ],
   "source": [
    "t = Time('2000-01-01')\n",
    "t.unix_leap"
   ]
  },
  {
   "cell_type": "code",
   "execution_count": 204,
   "metadata": {},
   "outputs": [
    {
     "data": {
      "text/plain": [
       "32.0"
      ]
     },
     "execution_count": 204,
     "metadata": {},
     "output_type": "execute_result"
    }
   ],
   "source": [
    "t.unix_leap - t.unix"
   ]
  },
  {
   "cell_type": "code",
   "execution_count": 205,
   "metadata": {},
   "outputs": [
    {
     "ename": "ScaleValueError",
     "evalue": "Cannot convert from 'unix_leap' epoch scale 'tai'to specified scale 'tai', got error:\nInput values did not match the format class jd",
     "output_type": "error",
     "traceback": [
      "\u001b[0;31m---------------------------------------------------------------------------\u001b[0m",
      "\u001b[0;31mValueError\u001b[0m                                Traceback (most recent call last)",
      "\u001b[0;32m/Users/jmason86/anaconda/envs/py36/lib/python3.6/site-packages/astropy/time/formats.py\u001b[0m in \u001b[0;36mset_jds\u001b[0;34m(self, val1, val2)\u001b[0m\n\u001b[1;32m    379\u001b[0m             tm = getattr(Time(jd1, jd2, scale=self.epoch_scale,\n\u001b[0;32m--> 380\u001b[0;31m                               format='jd'), self.scale)\n\u001b[0m\u001b[1;32m    381\u001b[0m         \u001b[0;32mexcept\u001b[0m \u001b[0mException\u001b[0m \u001b[0;32mas\u001b[0m \u001b[0merr\u001b[0m\u001b[0;34m:\u001b[0m\u001b[0;34m\u001b[0m\u001b[0m\n",
      "\u001b[0;32m/Users/jmason86/anaconda/envs/py36/lib/python3.6/site-packages/astropy/time/core.py\u001b[0m in \u001b[0;36m__init__\u001b[0;34m(self, val, val2, format, scale, precision, in_subfmt, out_subfmt, location, copy)\u001b[0m\n\u001b[1;32m    283\u001b[0m             self._init_from_vals(val, val2, format, scale, copy,\n\u001b[0;32m--> 284\u001b[0;31m                                  precision, in_subfmt, out_subfmt)\n\u001b[0m\u001b[1;32m    285\u001b[0m \u001b[0;34m\u001b[0m\u001b[0m\n",
      "\u001b[0;32m/Users/jmason86/anaconda/envs/py36/lib/python3.6/site-packages/astropy/time/core.py\u001b[0m in \u001b[0;36m_init_from_vals\u001b[0;34m(self, val, val2, format, scale, copy, precision, in_subfmt, out_subfmt)\u001b[0m\n\u001b[1;32m    333\u001b[0m         self._time = self._get_time_fmt(val, val2, format, scale,\n\u001b[0;32m--> 334\u001b[0;31m                                         precision, in_subfmt, out_subfmt)\n\u001b[0m\u001b[1;32m    335\u001b[0m         \u001b[0mself\u001b[0m\u001b[0;34m.\u001b[0m\u001b[0m_format\u001b[0m \u001b[0;34m=\u001b[0m \u001b[0mself\u001b[0m\u001b[0;34m.\u001b[0m\u001b[0m_time\u001b[0m\u001b[0;34m.\u001b[0m\u001b[0mname\u001b[0m\u001b[0;34m\u001b[0m\u001b[0m\n",
      "\u001b[0;32m/Users/jmason86/anaconda/envs/py36/lib/python3.6/site-packages/astropy/time/core.py\u001b[0m in \u001b[0;36m_get_time_fmt\u001b[0;34m(self, val, val2, format, scale, precision, in_subfmt, out_subfmt)\u001b[0m\n\u001b[1;32m    377\u001b[0m         \u001b[0;32melse\u001b[0m\u001b[0;34m:\u001b[0m\u001b[0;34m\u001b[0m\u001b[0m\n\u001b[0;32m--> 378\u001b[0;31m             \u001b[0;32mraise\u001b[0m \u001b[0mValueError\u001b[0m\u001b[0;34m(\u001b[0m\u001b[0;34m'Input values did not match {0}'\u001b[0m\u001b[0;34m.\u001b[0m\u001b[0mformat\u001b[0m\u001b[0;34m(\u001b[0m\u001b[0merr_msg\u001b[0m\u001b[0;34m)\u001b[0m\u001b[0;34m)\u001b[0m\u001b[0;34m\u001b[0m\u001b[0m\n\u001b[0m\u001b[1;32m    379\u001b[0m \u001b[0;34m\u001b[0m\u001b[0m\n",
      "\u001b[0;31mValueError\u001b[0m: Input values did not match the format class jd",
      "\nDuring handling of the above exception, another exception occurred:\n",
      "\u001b[0;31mScaleValueError\u001b[0m                           Traceback (most recent call last)",
      "\u001b[0;32m<ipython-input-205-aa0ea437db7e>\u001b[0m in \u001b[0;36m<module>\u001b[0;34m()\u001b[0m\n\u001b[0;32m----> 1\u001b[0;31m \u001b[0mt2\u001b[0m \u001b[0;34m=\u001b[0m \u001b[0mTime\u001b[0m\u001b[0;34m(\u001b[0m\u001b[0;36m946684832.0\u001b[0m\u001b[0;34m,\u001b[0m \u001b[0mformat\u001b[0m\u001b[0;34m=\u001b[0m\u001b[0;34m'unix_leap'\u001b[0m\u001b[0;34m)\u001b[0m\u001b[0;34m\u001b[0m\u001b[0m\n\u001b[0m",
      "\u001b[0;32m/Users/jmason86/anaconda/envs/py36/lib/python3.6/site-packages/astropy/time/core.py\u001b[0m in \u001b[0;36m__init__\u001b[0;34m(self, val, val2, format, scale, precision, in_subfmt, out_subfmt, location, copy)\u001b[0m\n\u001b[1;32m    282\u001b[0m         \u001b[0;32melse\u001b[0m\u001b[0;34m:\u001b[0m\u001b[0;34m\u001b[0m\u001b[0m\n\u001b[1;32m    283\u001b[0m             self._init_from_vals(val, val2, format, scale, copy,\n\u001b[0;32m--> 284\u001b[0;31m                                  precision, in_subfmt, out_subfmt)\n\u001b[0m\u001b[1;32m    285\u001b[0m \u001b[0;34m\u001b[0m\u001b[0m\n\u001b[1;32m    286\u001b[0m         if self.location is not None and (self.location.size > 1 and\n",
      "\u001b[0;32m/Users/jmason86/anaconda/envs/py36/lib/python3.6/site-packages/astropy/time/core.py\u001b[0m in \u001b[0;36m_init_from_vals\u001b[0;34m(self, val, val2, format, scale, copy, precision, in_subfmt, out_subfmt)\u001b[0m\n\u001b[1;32m    332\u001b[0m         \u001b[0;31m# Parse / convert input values into internal jd1, jd2 based on format\u001b[0m\u001b[0;34m\u001b[0m\u001b[0;34m\u001b[0m\u001b[0m\n\u001b[1;32m    333\u001b[0m         self._time = self._get_time_fmt(val, val2, format, scale,\n\u001b[0;32m--> 334\u001b[0;31m                                         precision, in_subfmt, out_subfmt)\n\u001b[0m\u001b[1;32m    335\u001b[0m         \u001b[0mself\u001b[0m\u001b[0;34m.\u001b[0m\u001b[0m_format\u001b[0m \u001b[0;34m=\u001b[0m \u001b[0mself\u001b[0m\u001b[0;34m.\u001b[0m\u001b[0m_time\u001b[0m\u001b[0;34m.\u001b[0m\u001b[0mname\u001b[0m\u001b[0;34m\u001b[0m\u001b[0m\n\u001b[1;32m    336\u001b[0m \u001b[0;34m\u001b[0m\u001b[0m\n",
      "\u001b[0;32m/Users/jmason86/anaconda/envs/py36/lib/python3.6/site-packages/astropy/time/core.py\u001b[0m in \u001b[0;36m_get_time_fmt\u001b[0;34m(self, val, val2, format, scale, precision, in_subfmt, out_subfmt)\u001b[0m\n\u001b[1;32m    370\u001b[0m         \u001b[0;32mfor\u001b[0m \u001b[0mformat\u001b[0m\u001b[0;34m,\u001b[0m \u001b[0mFormatClass\u001b[0m \u001b[0;32min\u001b[0m \u001b[0mformats\u001b[0m\u001b[0;34m:\u001b[0m\u001b[0;34m\u001b[0m\u001b[0m\n\u001b[1;32m    371\u001b[0m             \u001b[0;32mtry\u001b[0m\u001b[0;34m:\u001b[0m\u001b[0;34m\u001b[0m\u001b[0m\n\u001b[0;32m--> 372\u001b[0;31m                 \u001b[0;32mreturn\u001b[0m \u001b[0mFormatClass\u001b[0m\u001b[0;34m(\u001b[0m\u001b[0mval\u001b[0m\u001b[0;34m,\u001b[0m \u001b[0mval2\u001b[0m\u001b[0;34m,\u001b[0m \u001b[0mscale\u001b[0m\u001b[0;34m,\u001b[0m \u001b[0mprecision\u001b[0m\u001b[0;34m,\u001b[0m \u001b[0min_subfmt\u001b[0m\u001b[0;34m,\u001b[0m \u001b[0mout_subfmt\u001b[0m\u001b[0;34m)\u001b[0m\u001b[0;34m\u001b[0m\u001b[0m\n\u001b[0m\u001b[1;32m    373\u001b[0m             \u001b[0;32mexcept\u001b[0m \u001b[0mUnitConversionError\u001b[0m\u001b[0;34m:\u001b[0m\u001b[0;34m\u001b[0m\u001b[0m\n\u001b[1;32m    374\u001b[0m                 \u001b[0;32mraise\u001b[0m\u001b[0;34m\u001b[0m\u001b[0m\n",
      "\u001b[0;32m/Users/jmason86/anaconda/envs/py36/lib/python3.6/site-packages/astropy/time/formats.py\u001b[0m in \u001b[0;36m__init__\u001b[0;34m(self, val1, val2, scale, precision, in_subfmt, out_subfmt, from_jd)\u001b[0m\n\u001b[1;32m    346\u001b[0m         \u001b[0;31m# Now create the TimeFormat object as normal\u001b[0m\u001b[0;34m\u001b[0m\u001b[0;34m\u001b[0m\u001b[0m\n\u001b[1;32m    347\u001b[0m         super(TimeFromEpoch, self).__init__(val1, val2, scale, precision,\n\u001b[0;32m--> 348\u001b[0;31m                                             in_subfmt, out_subfmt, from_jd)\n\u001b[0m\u001b[1;32m    349\u001b[0m \u001b[0;34m\u001b[0m\u001b[0m\n\u001b[1;32m    350\u001b[0m     \u001b[0;32mdef\u001b[0m \u001b[0mset_jds\u001b[0m\u001b[0;34m(\u001b[0m\u001b[0mself\u001b[0m\u001b[0;34m,\u001b[0m \u001b[0mval1\u001b[0m\u001b[0;34m,\u001b[0m \u001b[0mval2\u001b[0m\u001b[0;34m)\u001b[0m\u001b[0;34m:\u001b[0m\u001b[0;34m\u001b[0m\u001b[0m\n",
      "\u001b[0;32m/Users/jmason86/anaconda/envs/py36/lib/python3.6/site-packages/astropy/time/formats.py\u001b[0m in \u001b[0;36m__init__\u001b[0;34m(self, val1, val2, scale, precision, in_subfmt, out_subfmt, from_jd)\u001b[0m\n\u001b[1;32m    131\u001b[0m         \u001b[0;32melse\u001b[0m\u001b[0;34m:\u001b[0m\u001b[0;34m\u001b[0m\u001b[0m\n\u001b[1;32m    132\u001b[0m             \u001b[0mval1\u001b[0m\u001b[0;34m,\u001b[0m \u001b[0mval2\u001b[0m \u001b[0;34m=\u001b[0m \u001b[0mself\u001b[0m\u001b[0;34m.\u001b[0m\u001b[0m_check_val_type\u001b[0m\u001b[0;34m(\u001b[0m\u001b[0mval1\u001b[0m\u001b[0;34m,\u001b[0m \u001b[0mval2\u001b[0m\u001b[0;34m)\u001b[0m\u001b[0;34m\u001b[0m\u001b[0m\n\u001b[0;32m--> 133\u001b[0;31m             \u001b[0mself\u001b[0m\u001b[0;34m.\u001b[0m\u001b[0mset_jds\u001b[0m\u001b[0;34m(\u001b[0m\u001b[0mval1\u001b[0m\u001b[0;34m,\u001b[0m \u001b[0mval2\u001b[0m\u001b[0;34m)\u001b[0m\u001b[0;34m\u001b[0m\u001b[0m\n\u001b[0m\u001b[1;32m    134\u001b[0m \u001b[0;34m\u001b[0m\u001b[0m\n\u001b[1;32m    135\u001b[0m     \u001b[0;32mdef\u001b[0m \u001b[0m__len__\u001b[0m\u001b[0;34m(\u001b[0m\u001b[0mself\u001b[0m\u001b[0;34m)\u001b[0m\u001b[0;34m:\u001b[0m\u001b[0;34m\u001b[0m\u001b[0m\n",
      "\u001b[0;32m/Users/jmason86/anaconda/envs/py36/lib/python3.6/site-packages/astropy/time/formats.py\u001b[0m in \u001b[0;36mset_jds\u001b[0;34m(self, val1, val2)\u001b[0m\n\u001b[1;32m    383\u001b[0m                                   \u001b[0;34m\"to specified scale '{2}', got error:\\n{3}\"\u001b[0m\u001b[0;34m\u001b[0m\u001b[0m\n\u001b[1;32m    384\u001b[0m                                   .format(self.name, self.epoch_scale,\n\u001b[0;32m--> 385\u001b[0;31m                                           self.scale, err))\n\u001b[0m\u001b[1;32m    386\u001b[0m \u001b[0;34m\u001b[0m\u001b[0m\n\u001b[1;32m    387\u001b[0m         \u001b[0mself\u001b[0m\u001b[0;34m.\u001b[0m\u001b[0mjd1\u001b[0m\u001b[0;34m,\u001b[0m \u001b[0mself\u001b[0m\u001b[0;34m.\u001b[0m\u001b[0mjd2\u001b[0m \u001b[0;34m=\u001b[0m \u001b[0mday_frac\u001b[0m\u001b[0;34m(\u001b[0m\u001b[0mtm\u001b[0m\u001b[0;34m.\u001b[0m\u001b[0m_time\u001b[0m\u001b[0;34m.\u001b[0m\u001b[0mjd1\u001b[0m\u001b[0;34m,\u001b[0m \u001b[0mtm\u001b[0m\u001b[0;34m.\u001b[0m\u001b[0m_time\u001b[0m\u001b[0;34m.\u001b[0m\u001b[0mjd2\u001b[0m\u001b[0;34m)\u001b[0m\u001b[0;34m\u001b[0m\u001b[0m\n",
      "\u001b[0;31mScaleValueError\u001b[0m: Cannot convert from 'unix_leap' epoch scale 'tai'to specified scale 'tai', got error:\nInput values did not match the format class jd"
     ]
    }
   ],
   "source": [
    "t2 = Time(946684832.0, format='unix_leap')"
   ]
  },
  {
   "cell_type": "code",
   "execution_count": null,
   "metadata": {},
   "outputs": [],
   "source": []
  },
  {
   "cell_type": "code",
   "execution_count": null,
   "metadata": {},
   "outputs": [],
   "source": []
  },
  {
   "cell_type": "code",
   "execution_count": null,
   "metadata": {},
   "outputs": [],
   "source": []
  },
  {
   "cell_type": "markdown",
   "metadata": {},
   "source": [
    "## How to get yyyydoy and sod in"
   ]
  },
  {
   "cell_type": "code",
   "execution_count": 76,
   "metadata": {},
   "outputs": [],
   "source": [
    "from astropy.time import TimeFormat"
   ]
  },
  {
   "cell_type": "code",
   "execution_count": 161,
   "metadata": {},
   "outputs": [],
   "source": [
    "class TimeYYYYDOYSOD(TimeFormat):\n",
    "    \"\"\"\n",
    "    yyyydoy, sod time format, e.g., 2018013, 86399\n",
    "    which corresponds to 2018-01-13T23:59:59.\n",
    "    \"\"\"\n",
    "    name = 'yyyydoy_sod'  # Unique format name\n",
    "    \n",
    "    def __init__(self, yyyydoy, sod):\n",
    "        super(TimeYYYYDOYSOD, self).__init__(yyyydoy, sod, None, None,\n",
    "                                             None, None, from_jd=False)\n",
    "        \n",
    "    def set_jds(self, yyyydoy, sod):\n",
    "        \"\"\"\n",
    "        Set the internal jd1 and jd2 values from the input yyyydoy, sod.\n",
    "        The input values are expected to conform to this format, as\n",
    "        validated by self._check_val_type(yyyydoy, sod) during __init__.\n",
    "        \"\"\"        \n",
    "        self._check_scale(self._scale)  # Validate scale.\n",
    "        self.jd1, self.jd2 = self.convert_to_jd(yyyydoy, sod)\n",
    "\n",
    "    @property\n",
    "    def value(self):\n",
    "        \"\"\"\n",
    "        Return format ``value`` property from internal jd1, jd2.\n",
    "        \"\"\"\n",
    "        return self.jd1 + self.jd2\n",
    "    \n",
    "    def _check_val_type(self, yyyydoy, sod):\n",
    "        \"\"\"Input value validation, overriding the superclass implementation.\"\"\"\n",
    "        if not (np.issubdtype(yyyydoy.dtype, np.number) and np.all(np.isfinite(yyyydoy)) and\n",
    "                np.issubdtype(sod.dtype, np.number) and np.all(np.isfinite(sod))):\n",
    "            raise TypeError('Input yyyydoy and sod for {0} class must be finite numbers'.format(self.name))\n",
    "        \n",
    "        if np.any(sod >= 86400):\n",
    "            raise ValueError('Input sod (seconds of day) cannot exceed 86400.')\n",
    "        \n",
    "        parsed_date = np.modf(yyyydoy / 1000)  # Divide to get yyyy.doy\n",
    "        if np.any(parsed_date[0] > 366):\n",
    "            raise ValueError('The day of year (doy) component of yyyydoy cannot exceed 366.')\n",
    "        \n",
    "        def asarray_or_scalar(val):\n",
    "            \"\"\"\n",
    "            Remove ndarray subclasses since for jd1/jd2 we want a pure ndarray\n",
    "            or a Python or numpy scalar.\n",
    "            \"\"\"\n",
    "            return np.asarray(val) if isinstance(val, np.ndarray) else val\n",
    "\n",
    "        return asarray_or_scalar(yyyydoy), asarray_or_scalar(sod)\n",
    "\n",
    "    def convert_to_jd(self, yyyydoy, sod):\n",
    "        \"\"\"Convert yyyydoy and sod to julian date.\n",
    "\n",
    "        Inputs:\n",
    "            yyyydoy [np.array, numeric dtype]: The array of dates to convert.\n",
    "            sod [np.array, numeric dtype]:     The array of seconds of day to convert.\n",
    "\n",
    "        Optional Inputs:\n",
    "            None\n",
    "\n",
    "        Outputs:\n",
    "            jd1 [np.array of floats]: The integer part of the converted julian dates.\n",
    "            jd2 [np.array of floats]: The fractional part of the converted julian dates.\n",
    "\n",
    "        Optional Outputs:\n",
    "            None\n",
    "\n",
    "        Example:\n",
    "            jd1, jd2 = convert_to_jd(2018013, 86399)\n",
    "        \"\"\"\n",
    "        \n",
    "        # Parse year and doy\n",
    "        parsed_date = np.modf(yyyydoy / 1000)  # Divide to get yyyy.doy\n",
    "        \n",
    "        # Convert sod to hh:mm:ss\n",
    "        # Parse seconds of day into hours, minutes, and seconds\n",
    "        time = sod % (24 * 3600)\n",
    "        time = time.astype(int)\n",
    "        hours = time // 3600\n",
    "        time %= 3600\n",
    "        minutes = time // 60\n",
    "        time %= 60\n",
    "        seconds = time\n",
    "\n",
    "        # Convert to string type and add leading zeros\n",
    "        hours_str = hours.astype(str)\n",
    "        small_hour_indices = hours < 10\n",
    "        hours_str[small_hour_indices] = np.core.defchararray.zfill(hours_str[small_hour_indices], 2)\n",
    "        minutes_str = minutes.astype(str)\n",
    "        small_minute_indices = minutes < 10\n",
    "        minutes_str[small_minute_indices] = np.core.defchararray.zfill(minutes_str[small_minute_indices], 2)\n",
    "        seconds_str = seconds.astype(str)\n",
    "        small_second_indices = seconds < 10\n",
    "        seconds_str[small_second_indices] = np.core.defchararray.zfill(seconds_str[small_second_indices], 2)\n",
    "        hhmmss = np.char.array(hours_str) + ':' + np.char.array(minutes_str) + ':' + np.char.array(seconds_str)\n",
    "        \n",
    "        # Create a datetime.datetime array\n",
    "        dt = np.array([datetime.datetime(int(parsed_date[1][i]), 1, 1,\n",
    "                      int(hhmmss[i][:2]),\n",
    "                      int(hhmmss[i][3:5]),\n",
    "                      int(hhmmss[i][6:8])) +                                      # base (yyyy-01-01 hh:mm:ss)\n",
    "                      datetime.timedelta(days=int(parsed_date[0][i] * 1000) - 1)  # doy -> mm-dd\n",
    "                      for i in range(len(yyyydoy))])                              # loop over input array\n",
    "        \n",
    "        # Convert to astropy.time.Time\n",
    "        astroTime = Time(dt)\n",
    "        return astroTime.jd1, astroTime.jd2"
   ]
  },
  {
   "cell_type": "code",
   "execution_count": 174,
   "metadata": {},
   "outputs": [],
   "source": [
    "t = Time('2000-01-01T13:53:23')\n",
    "#print(t.yyyydoy_sod)"
   ]
  },
  {
   "cell_type": "code",
   "execution_count": 162,
   "metadata": {},
   "outputs": [],
   "source": [
    "t = TimeYYYYDOYSOD(yyyydoy, sod)"
   ]
  },
  {
   "cell_type": "code",
   "execution_count": 168,
   "metadata": {},
   "outputs": [
    {
     "ename": "ValueError",
     "evalue": "Input values did not match any of the formats where the format keyword is optional ['datetime', 'iso', 'isot', 'yday', 'fits', 'byear_str', 'jyear_str']",
     "output_type": "error",
     "traceback": [
      "\u001b[0;31m---------------------------------------------------------------------------\u001b[0m",
      "\u001b[0;31mValueError\u001b[0m                                Traceback (most recent call last)",
      "\u001b[0;32m<ipython-input-168-238fcb2f97f5>\u001b[0m in \u001b[0;36m<module>\u001b[0;34m()\u001b[0m\n\u001b[0;32m----> 1\u001b[0;31m \u001b[0mt2\u001b[0m \u001b[0;34m=\u001b[0m \u001b[0mTime\u001b[0m\u001b[0;34m(\u001b[0m\u001b[0mt\u001b[0m\u001b[0;34m)\u001b[0m\u001b[0;34m\u001b[0m\u001b[0m\n\u001b[0m",
      "\u001b[0;32m/Users/jmason86/anaconda/envs/py36/lib/python3.6/site-packages/astropy/time/core.py\u001b[0m in \u001b[0;36m__init__\u001b[0;34m(self, val, val2, format, scale, precision, in_subfmt, out_subfmt, location, copy)\u001b[0m\n\u001b[1;32m    282\u001b[0m         \u001b[0;32melse\u001b[0m\u001b[0;34m:\u001b[0m\u001b[0;34m\u001b[0m\u001b[0m\n\u001b[1;32m    283\u001b[0m             self._init_from_vals(val, val2, format, scale, copy,\n\u001b[0;32m--> 284\u001b[0;31m                                  precision, in_subfmt, out_subfmt)\n\u001b[0m\u001b[1;32m    285\u001b[0m \u001b[0;34m\u001b[0m\u001b[0m\n\u001b[1;32m    286\u001b[0m         if self.location is not None and (self.location.size > 1 and\n",
      "\u001b[0;32m/Users/jmason86/anaconda/envs/py36/lib/python3.6/site-packages/astropy/time/core.py\u001b[0m in \u001b[0;36m_init_from_vals\u001b[0;34m(self, val, val2, format, scale, copy, precision, in_subfmt, out_subfmt)\u001b[0m\n\u001b[1;32m    332\u001b[0m         \u001b[0;31m# Parse / convert input values into internal jd1, jd2 based on format\u001b[0m\u001b[0;34m\u001b[0m\u001b[0;34m\u001b[0m\u001b[0m\n\u001b[1;32m    333\u001b[0m         self._time = self._get_time_fmt(val, val2, format, scale,\n\u001b[0;32m--> 334\u001b[0;31m                                         precision, in_subfmt, out_subfmt)\n\u001b[0m\u001b[1;32m    335\u001b[0m         \u001b[0mself\u001b[0m\u001b[0;34m.\u001b[0m\u001b[0m_format\u001b[0m \u001b[0;34m=\u001b[0m \u001b[0mself\u001b[0m\u001b[0;34m.\u001b[0m\u001b[0m_time\u001b[0m\u001b[0;34m.\u001b[0m\u001b[0mname\u001b[0m\u001b[0;34m\u001b[0m\u001b[0m\n\u001b[1;32m    336\u001b[0m \u001b[0;34m\u001b[0m\u001b[0m\n",
      "\u001b[0;32m/Users/jmason86/anaconda/envs/py36/lib/python3.6/site-packages/astropy/time/core.py\u001b[0m in \u001b[0;36m_get_time_fmt\u001b[0;34m(self, val, val2, format, scale, precision, in_subfmt, out_subfmt)\u001b[0m\n\u001b[1;32m    376\u001b[0m                 \u001b[0;32mpass\u001b[0m\u001b[0;34m\u001b[0m\u001b[0m\n\u001b[1;32m    377\u001b[0m         \u001b[0;32melse\u001b[0m\u001b[0;34m:\u001b[0m\u001b[0;34m\u001b[0m\u001b[0m\n\u001b[0;32m--> 378\u001b[0;31m             \u001b[0;32mraise\u001b[0m \u001b[0mValueError\u001b[0m\u001b[0;34m(\u001b[0m\u001b[0;34m'Input values did not match {0}'\u001b[0m\u001b[0;34m.\u001b[0m\u001b[0mformat\u001b[0m\u001b[0;34m(\u001b[0m\u001b[0merr_msg\u001b[0m\u001b[0;34m)\u001b[0m\u001b[0;34m)\u001b[0m\u001b[0;34m\u001b[0m\u001b[0m\n\u001b[0m\u001b[1;32m    379\u001b[0m \u001b[0;34m\u001b[0m\u001b[0m\n\u001b[1;32m    380\u001b[0m     \u001b[0;34m@\u001b[0m\u001b[0mclassmethod\u001b[0m\u001b[0;34m\u001b[0m\u001b[0m\n",
      "\u001b[0;31mValueError\u001b[0m: Input values did not match any of the formats where the format keyword is optional ['datetime', 'iso', 'isot', 'yday', 'fits', 'byear_str', 'jyear_str']"
     ]
    }
   ],
   "source": [
    "t2 = Time(t)"
   ]
  },
  {
   "cell_type": "code",
   "execution_count": null,
   "metadata": {},
   "outputs": [],
   "source": []
  },
  {
   "cell_type": "code",
   "execution_count": null,
   "metadata": {},
   "outputs": [],
   "source": []
  },
  {
   "cell_type": "code",
   "execution_count": null,
   "metadata": {},
   "outputs": [],
   "source": [
    "# Return the EVE lines data with any optional modifications\n",
    "return tbd"
   ]
  }
 ],
 "metadata": {
  "kernelspec": {
   "display_name": "Python 3",
   "language": "python",
   "name": "python3"
  },
  "language_info": {
   "codemirror_mode": {
    "name": "ipython",
    "version": 3
   },
   "file_extension": ".py",
   "mimetype": "text/x-python",
   "name": "python",
   "nbconvert_exporter": "python",
   "pygments_lexer": "ipython3",
   "version": "3.6.1"
  },
  "toc": {
   "nav_menu": {},
   "number_sections": true,
   "sideBar": true,
   "skip_h1_title": false,
   "toc_cell": false,
   "toc_position": {},
   "toc_section_display": "block",
   "toc_window_display": false
  },
  "varInspector": {
   "cols": {
    "lenName": 16,
    "lenType": 16,
    "lenVar": 40
   },
   "kernels_config": {
    "python": {
     "delete_cmd_postfix": "",
     "delete_cmd_prefix": "del ",
     "library": "var_list.py",
     "varRefreshCmd": "print(var_dic_list())"
    },
    "r": {
     "delete_cmd_postfix": ") ",
     "delete_cmd_prefix": "rm(",
     "library": "var_list.r",
     "varRefreshCmd": "cat(var_dic_list()) "
    }
   },
   "oldHeight": 123.18181799999999,
   "position": {
    "height": "1064px",
    "left": "892.713px",
    "right": "20px",
    "top": "120px",
    "width": "258px"
   },
   "types_to_exclude": [
    "module",
    "function",
    "builtin_function_or_method",
    "instance",
    "_Feature"
   ],
   "varInspector_section_display": "block",
   "window_display": false
  }
 },
 "nbformat": 4,
 "nbformat_minor": 2
}
