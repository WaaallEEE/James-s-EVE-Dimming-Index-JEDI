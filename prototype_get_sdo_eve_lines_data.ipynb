{
 "cells": [
  {
   "cell_type": "code",
   "execution_count": 1,
   "metadata": {},
   "outputs": [],
   "source": [
    "# Standard modules\n",
    "import numpy as np\n",
    "import pandas as pd\n",
    "import matplotlib.pyplot as plt\n",
    "from sunpy.net import Fido, attrs\n",
    "from sunpy.net.fido_factory import UnifiedResponse\n",
    "\n",
    "# Custom modules\n",
    "from jpm_logger import JpmLogger\n",
    "\n",
    "__author__ = 'James Paul Mason'\n",
    "__contact__ = 'jmason86@gmail.com'\n",
    "\n",
    "\n",
    "def get_sdo_eve_lines_data(start_time, end_time, \n",
    "                           verbose=False):\n",
    "    \"\"\"Get emission lines data product from the Solar Dynamics Observatory / Extreme Ultraviolet Variability Experiment.\n",
    "\n",
    "    Inputs:\n",
    "        start_time [metatime]: The beginning of the time window of interest. See jpm_time_conversions.py\n",
    "                               (https://github.com/jmason86/python_convenience_functions/blob/master/jpm_time_conversions.py)\n",
    "                               for allowed metatime formats.\n",
    "        end_time [metatime]:   Same as start time but for the end of the time window.\n",
    "        \n",
    "    Optional Inputs:\n",
    "        verbose [bool]: Set to log the processing messages to disk and console. Default is False.\n",
    "\n",
    "    Outputs:\n",
    "        TBD\n",
    "                                                 \n",
    "    Optional Outputs:\n",
    "        None\n",
    "\n",
    "    Example:\n",
    "        TBD\n",
    "    \"\"\"\n",
    "    return 1"
   ]
  },
  {
   "cell_type": "code",
   "execution_count": 2,
   "metadata": {},
   "outputs": [],
   "source": [
    "# prototype only: setup for test case\n",
    "start_time = \"2010-09-05 00:00:00\"\n",
    "end_time = \"2010-09-05 01:00:00\""
   ]
  },
  {
   "cell_type": "code",
   "execution_count": 3,
   "metadata": {},
   "outputs": [
    {
     "data": {
      "text/html": [
       "Results from 1 Provider:</br></br>6 Results from the VSOClient:</br>&lt;QTable length=6&gt;\n",
       "<table id=\"table4888217920\" class=\"table-striped table-bordered table-condensed\">\n",
       "<thead><tr><th>Start Time [1]</th><th>End Time [1]</th><th>Source</th><th>Instrument</th><th>Type</th><th>Wavelength [2]</th></tr></thead>\n",
       "<thead><tr><th></th><th></th><th></th><th></th><th></th><th>Angstrom</th></tr></thead>\n",
       "<thead><tr><th>str19</th><th>str19</th><th>str3</th><th>str3</th><th>str8</th><th>float64</th></tr></thead>\n",
       "<tr><td>2010-09-05 00:00:00</td><td>2010-09-06 00:00:00</td><td>SDO</td><td>EVE</td><td>FULLDISK</td><td>1.0 .. 304.0</td></tr>\n",
       "<tr><td>2010-09-05 00:00:00</td><td>2010-09-05 01:00:00</td><td>SDO</td><td>EVE</td><td>FULLDISK</td><td>93.0 .. 1033.0</td></tr>\n",
       "<tr><td>2010-09-05 01:00:00</td><td>2010-09-05 02:00:00</td><td>SDO</td><td>EVE</td><td>FULLDISK</td><td>93.0 .. 1033.0</td></tr>\n",
       "<tr><td>2010-09-05 00:00:00</td><td>2010-09-05 01:00:00</td><td>SDO</td><td>EVE</td><td>FULLDISK</td><td>60.0 .. 1060.0</td></tr>\n",
       "<tr><td>2010-09-05 01:00:00</td><td>2010-09-05 02:00:00</td><td>SDO</td><td>EVE</td><td>FULLDISK</td><td>60.0 .. 1060.0</td></tr>\n",
       "<tr><td>2010-09-05 00:00:00</td><td>2010-09-06 00:00:00</td><td>SDO</td><td>EVE</td><td>FULLDISK</td><td>1.0 .. 1050.0</td></tr>\n",
       "</table></br>"
      ],
      "text/plain": [
       "<sunpy.net.fido_factory.UnifiedResponse object at 0x123566f98>\n",
       "Results from 1 Provider:\n",
       "\n",
       "6 Results from the VSOClient:\n",
       "   Start Time [1]       End Time [1]    Source ...   Type   Wavelength [2]\n",
       "                                               ...             Angstrom   \n",
       "       str19               str19         str3  ...   str8      float64    \n",
       "------------------- ------------------- ------ ... -------- --------------\n",
       "2010-09-05 00:00:00 2010-09-06 00:00:00    SDO ... FULLDISK   1.0 .. 304.0\n",
       "2010-09-05 00:00:00 2010-09-05 01:00:00    SDO ... FULLDISK 93.0 .. 1033.0\n",
       "2010-09-05 01:00:00 2010-09-05 02:00:00    SDO ... FULLDISK 93.0 .. 1033.0\n",
       "2010-09-05 00:00:00 2010-09-05 01:00:00    SDO ... FULLDISK 60.0 .. 1060.0\n",
       "2010-09-05 01:00:00 2010-09-05 02:00:00    SDO ... FULLDISK 60.0 .. 1060.0\n",
       "2010-09-05 00:00:00 2010-09-06 00:00:00    SDO ... FULLDISK  1.0 .. 1050.0\n"
      ]
     },
     "execution_count": 3,
     "metadata": {},
     "output_type": "execute_result"
    }
   ],
   "source": [
    "results = Fido.search(attrs.Time(\"2010-09-05 00:00:00\", \"2010-09-05 01:00:00\"), attrs.Instrument('eve'))\n",
    "results"
   ]
  },
  {
   "cell_type": "markdown",
   "metadata": {},
   "source": [
    "The lines are the ones that have wavelength range [93.0 .. 1033.0] so I should be able to use wavemin to filter for them. But as you can see below, that doesn't actually work. It still returns the spectra (wavelength range [60.0 .. 1060.0], which makes no sense because that's not consistent with the input filter criteria. \n",
    "I've contacted Joe Gurman of the VSO at GSFC about this. "
   ]
  },
  {
   "cell_type": "code",
   "execution_count": 4,
   "metadata": {},
   "outputs": [
    {
     "data": {
      "text/html": [
       "Results from 1 Provider:</br></br>3 Results from the VSOClient:</br>&lt;QTable length=3&gt;\n",
       "<table id=\"table4905819384\" class=\"table-striped table-bordered table-condensed\">\n",
       "<thead><tr><th>Start Time [1]</th><th>End Time [1]</th><th>Source</th><th>Instrument</th><th>Type</th><th>Wavelength [2]</th></tr></thead>\n",
       "<thead><tr><th></th><th></th><th></th><th></th><th></th><th>Angstrom</th></tr></thead>\n",
       "<thead><tr><th>str19</th><th>str19</th><th>str3</th><th>str3</th><th>str8</th><th>float64</th></tr></thead>\n",
       "<tr><td>2010-09-05 00:00:00</td><td>2010-09-05 01:00:00</td><td>SDO</td><td>EVE</td><td>FULLDISK</td><td>60.0 .. 1060.0</td></tr>\n",
       "<tr><td>2010-09-05 01:00:00</td><td>2010-09-05 02:00:00</td><td>SDO</td><td>EVE</td><td>FULLDISK</td><td>60.0 .. 1060.0</td></tr>\n",
       "<tr><td>2010-09-05 00:00:00</td><td>2010-09-06 00:00:00</td><td>SDO</td><td>EVE</td><td>FULLDISK</td><td>1.0 .. 1050.0</td></tr>\n",
       "</table></br>"
      ],
      "text/plain": [
       "<sunpy.net.fido_factory.UnifiedResponse object at 0x1235c4390>\n",
       "Results from 1 Provider:\n",
       "\n",
       "3 Results from the VSOClient:\n",
       "   Start Time [1]       End Time [1]    Source ...   Type   Wavelength [2]\n",
       "                                               ...             Angstrom   \n",
       "       str19               str19         str3  ...   str8      float64    \n",
       "------------------- ------------------- ------ ... -------- --------------\n",
       "2010-09-05 00:00:00 2010-09-05 01:00:00    SDO ... FULLDISK 60.0 .. 1060.0\n",
       "2010-09-05 01:00:00 2010-09-05 02:00:00    SDO ... FULLDISK 60.0 .. 1060.0\n",
       "2010-09-05 00:00:00 2010-09-06 00:00:00    SDO ... FULLDISK  1.0 .. 1050.0\n"
      ]
     },
     "execution_count": 4,
     "metadata": {},
     "output_type": "execute_result"
    }
   ],
   "source": [
    "from astropy import units as u\n",
    "results_lines_only = Fido.search(attrs.Time(start_time, end_time), attrs.Instrument('eve'), attrs.Wavelength(wavemin=62 * u.angstrom, wavemax=1035 * u.angstrom))\n",
    "results_lines_only"
   ]
  },
  {
   "cell_type": "code",
   "execution_count": null,
   "metadata": {},
   "outputs": [],
   "source": []
  },
  {
   "cell_type": "code",
   "execution_count": 5,
   "metadata": {},
   "outputs": [],
   "source": [
    "# Get the direct response from the VSO and filter for just the lines product\n",
    "vso_responses = list(results.responses)\n",
    "toss_indices = []\n",
    "for i in range(0, len(vso_responses[0])):\n",
    "    if 'Lines' not in vso_responses[0][i]['info']:\n",
    "        toss_indices.append(i)\n",
    "for toss_index in sorted(toss_indices, reverse=True):\n",
    "    del vso_responses[0][toss_index]"
   ]
  },
  {
   "cell_type": "code",
   "execution_count": 6,
   "metadata": {},
   "outputs": [
    {
     "name": "stdout",
     "output_type": "stream",
     "text": [
      "[                                        ===============================\n",
      "========="
     ]
    }
   ],
   "source": [
    "# Convert the filtered response back to the UnifiedResponse and download\n",
    "results = UnifiedResponse(vso_responses)\n",
    "files = Fido.fetch(results, path='./{instrument}/{info}/{file}.fits')"
   ]
  },
  {
   "cell_type": "code",
   "execution_count": 7,
   "metadata": {},
   "outputs": [],
   "source": [
    "# Read the files and merge them into a single Dataframe"
   ]
  },
  {
   "cell_type": "code",
   "execution_count": 8,
   "metadata": {},
   "outputs": [],
   "source": [
    "from sunpy import io"
   ]
  },
  {
   "cell_type": "code",
   "execution_count": 9,
   "metadata": {},
   "outputs": [],
   "source": [
    "yar = io.read_file(files[0])"
   ]
  },
  {
   "cell_type": "code",
   "execution_count": 11,
   "metadata": {},
   "outputs": [
    {
     "data": {
      "text/plain": [
       "(7, 2)"
      ]
     },
     "execution_count": 11,
     "metadata": {},
     "output_type": "execute_result"
    }
   ],
   "source": [
    "np.shape(yar)"
   ]
  },
  {
   "cell_type": "code",
   "execution_count": 12,
   "metadata": {},
   "outputs": [
    {
     "data": {
      "text/plain": [
       "list"
      ]
     },
     "execution_count": 12,
     "metadata": {},
     "output_type": "execute_result"
    }
   ],
   "source": [
    "type(yar)"
   ]
  },
  {
   "cell_type": "code",
   "execution_count": 41,
   "metadata": {},
   "outputs": [
    {
     "data": {
      "text/plain": [
       "odict_keys(['XTENSION', 'BITPIX', 'NAXIS', 'NAXIS1', 'NAXIS2', 'PCOUNT', 'GCOUNT', 'TFIELDS', 'COMMENT', 'ORIGIN', 'DATE', 'TAI_OBS', 'DATE_OBS', 'T_OBS', 'EXPTIME', 'TIME', 'TELESCOP', 'INSTRUME', 'VERSION', 'REVISION', 'FILENAME', 'TTYPE1', 'TTYPE2', 'TTYPE3', 'TTYPE4', 'TTYPE5', 'TTYPE6', 'TTYPE7', 'TTYPE8', 'TTYPE9', 'TTYPE10', 'TTYPE11', 'TTYPE12', 'TTYPE13', 'TTYPE14', 'TTYPE15', 'TTYPE16', 'TTYPE17', 'TTYPE18', 'TTYPE19', 'TFORM1', 'TFORM2', 'TFORM3', 'TFORM4', 'TFORM5', 'TFORM6', 'TFORM7', 'TFORM8', 'TFORM9', 'TFORM10', 'TFORM11', 'TFORM12', 'TFORM13', 'TFORM14', 'TFORM15', 'TFORM16', 'TFORM17', 'TFORM18', 'TFORM19', 'EXTNAME', 'TUNIT6', 'TUNIT12', 'HISTORY', 'KEYCOMMENTS', 'WAVEUNIT'])"
      ]
     },
     "execution_count": 41,
     "metadata": {},
     "output_type": "execute_result"
    }
   ],
   "source": [
    "hdr = yar[5][1]\n",
    "hdr.keys()"
   ]
  },
  {
   "cell_type": "code",
   "execution_count": 76,
   "metadata": {},
   "outputs": [],
   "source": [
    "data = yar[5].data"
   ]
  },
  {
   "cell_type": "code",
   "execution_count": 77,
   "metadata": {},
   "outputs": [
    {
     "data": {
      "text/plain": [
       "astropy.io.fits.fitsrec.FITS_rec"
      ]
     },
     "execution_count": 77,
     "metadata": {},
     "output_type": "execute_result"
    }
   ],
   "source": [
    "type(data)"
   ]
  },
  {
   "cell_type": "code",
   "execution_count": 78,
   "metadata": {},
   "outputs": [
    {
     "data": {
      "text/plain": [
       "(360,)"
      ]
     },
     "execution_count": 78,
     "metadata": {},
     "output_type": "execute_result"
    }
   ],
   "source": [
    "data.shape"
   ]
  },
  {
   "cell_type": "code",
   "execution_count": 145,
   "metadata": {},
   "outputs": [],
   "source": [
    "tai = data[2][0]\n",
    "yyyydoy = data[2][1]\n",
    "sod = data[2][2]\n",
    "sc_flags_maybe = data[2][3]\n",
    "flags_maybe = data[2][4]\n",
    "line_irradiance = data[2][5]\n",
    "line_precision = data[2][6]\n",
    "line_accuracy = data[2][7]\n",
    "band_irradiance = data[2][8]\n",
    "band_precision = data[2][9]\n",
    "band_accuracy = data[2][10]\n",
    "diode_irradiance = data[2][11]\n",
    "diode_stdev = data[2][12]\n",
    "diode_precision = data[2][13]\n",
    "diode_accuracy = data[2][14]\n",
    "quad_fraction = data[2][15]\n",
    "quad_stdev = data[2][16]\n",
    "quad_precision = data[2][17]\n",
    "quad_accuracy = data[2][18]"
   ]
  },
  {
   "cell_type": "code",
   "execution_count": 84,
   "metadata": {},
   "outputs": [],
   "source": []
  },
  {
   "cell_type": "code",
   "execution_count": null,
   "metadata": {},
   "outputs": [],
   "source": []
  },
  {
   "cell_type": "code",
   "execution_count": null,
   "metadata": {},
   "outputs": [],
   "source": []
  },
  {
   "cell_type": "code",
   "execution_count": null,
   "metadata": {},
   "outputs": [],
   "source": []
  },
  {
   "cell_type": "code",
   "execution_count": null,
   "metadata": {},
   "outputs": [],
   "source": []
  },
  {
   "cell_type": "code",
   "execution_count": null,
   "metadata": {},
   "outputs": [],
   "source": []
  },
  {
   "cell_type": "code",
   "execution_count": null,
   "metadata": {},
   "outputs": [],
   "source": []
  },
  {
   "cell_type": "code",
   "execution_count": 114,
   "metadata": {},
   "outputs": [],
   "source": [
    "hm = data.data"
   ]
  },
  {
   "cell_type": "code",
   "execution_count": 116,
   "metadata": {},
   "outputs": [
    {
     "ename": "NotImplementedError",
     "evalue": "memoryview: unsupported format T{>d:TAI:i:YYYYDOY:d:SOD:B:FLAGS:B:SC_FLAGS:(39)f:LINE_IRRADIANCE:(39)f:LINE_PRECISION:(39)f:LINE_ACCURACY:(20)f:BAND_IRRADIANCE:(20)f:BAND_PRECISION:(20)f:BAND_ACCURACY:(6)f:DIODE_IRRADIANCE:(6)f:DIODE_STDEV:(6)f:DIODE_PRECISION:(6)f:DIODE_ACCURACY:(4)f:QUAD_FRACTION:(4)f:QUAD_STDEV:(4)f:QUAD_PRECISION:(4)f:QUAD_ACCURACY:}",
     "output_type": "error",
     "traceback": [
      "\u001b[0;31m---------------------------------------------------------------------------\u001b[0m",
      "\u001b[0;31mNotImplementedError\u001b[0m                       Traceback (most recent call last)",
      "\u001b[0;32m<ipython-input-116-7203e3fdbe4f>\u001b[0m in \u001b[0;36m<module>\u001b[0;34m()\u001b[0m\n\u001b[0;32m----> 1\u001b[0;31m \u001b[0mprint\u001b[0m\u001b[0;34m(\u001b[0m\u001b[0mhm\u001b[0m\u001b[0;34m[\u001b[0m\u001b[0;36m0\u001b[0m\u001b[0;34m]\u001b[0m\u001b[0;34m)\u001b[0m\u001b[0;34m\u001b[0m\u001b[0m\n\u001b[0m",
      "\u001b[0;31mNotImplementedError\u001b[0m: memoryview: unsupported format T{>d:TAI:i:YYYYDOY:d:SOD:B:FLAGS:B:SC_FLAGS:(39)f:LINE_IRRADIANCE:(39)f:LINE_PRECISION:(39)f:LINE_ACCURACY:(20)f:BAND_IRRADIANCE:(20)f:BAND_PRECISION:(20)f:BAND_ACCURACY:(6)f:DIODE_IRRADIANCE:(6)f:DIODE_STDEV:(6)f:DIODE_PRECISION:(6)f:DIODE_ACCURACY:(4)f:QUAD_FRACTION:(4)f:QUAD_STDEV:(4)f:QUAD_PRECISION:(4)f:QUAD_ACCURACY:}"
     ]
    }
   ],
   "source": [
    "print(hm[0])"
   ]
  },
  {
   "cell_type": "code",
   "execution_count": null,
   "metadata": {},
   "outputs": [],
   "source": []
  },
  {
   "cell_type": "code",
   "execution_count": 57,
   "metadata": {},
   "outputs": [],
   "source": [
    "hdr = bla[5].header"
   ]
  },
  {
   "cell_type": "code",
   "execution_count": 33,
   "metadata": {},
   "outputs": [
    {
     "data": {
      "text/plain": [
       "odict_keys(['XTENSION', 'BITPIX', 'NAXIS', 'NAXIS1', 'NAXIS2', 'PCOUNT', 'GCOUNT', 'TFIELDS', 'COMMENT', 'ORIGIN', 'DATE', 'TAI_OBS', 'DATE_OBS', 'T_OBS', 'EXPTIME', 'TIME', 'TELESCOP', 'INSTRUME', 'VERSION', 'REVISION', 'FILENAME', 'TTYPE1', 'TTYPE2', 'TTYPE3', 'TTYPE4', 'TTYPE5', 'TTYPE6', 'TTYPE7', 'TTYPE8', 'TTYPE9', 'TTYPE10', 'TTYPE11', 'TTYPE12', 'TTYPE13', 'TTYPE14', 'TTYPE15', 'TTYPE16', 'TTYPE17', 'TTYPE18', 'TTYPE19', 'TFORM1', 'TFORM2', 'TFORM3', 'TFORM4', 'TFORM5', 'TFORM6', 'TFORM7', 'TFORM8', 'TFORM9', 'TFORM10', 'TFORM11', 'TFORM12', 'TFORM13', 'TFORM14', 'TFORM15', 'TFORM16', 'TFORM17', 'TFORM18', 'TFORM19', 'EXTNAME', 'TUNIT6', 'TUNIT12', 'HISTORY', 'KEYCOMMENTS', 'WAVEUNIT'])"
      ]
     },
     "execution_count": 33,
     "metadata": {},
     "output_type": "execute_result"
    }
   ],
   "source": [
    "hdr.keys()"
   ]
  },
  {
   "cell_type": "code",
   "execution_count": 139,
   "metadata": {},
   "outputs": [],
   "source": [
    "data = bla[5].data"
   ]
  },
  {
   "cell_type": "code",
   "execution_count": 145,
   "metadata": {},
   "outputs": [
    {
     "data": {
      "text/plain": [
       "2010248"
      ]
     },
     "execution_count": 145,
     "metadata": {},
     "output_type": "execute_result"
    }
   ],
   "source": [
    "data[0][1]"
   ]
  },
  {
   "cell_type": "code",
   "execution_count": 73,
   "metadata": {},
   "outputs": [
    {
     "data": {
      "text/plain": [
       "360"
      ]
     },
     "execution_count": 73,
     "metadata": {},
     "output_type": "execute_result"
    }
   ],
   "source": [
    "len(data)"
   ]
  },
  {
   "cell_type": "code",
   "execution_count": null,
   "metadata": {},
   "outputs": [],
   "source": []
  },
  {
   "cell_type": "code",
   "execution_count": 17,
   "metadata": {},
   "outputs": [],
   "source": [
    "import sunpy.timeseries\n",
    "import sunpy.data.sample\n",
    "lyra = sunpy.timeseries.TimeSeries(sunpy.data.sample.LYRA_LEVEL3_TIMESERIES)"
   ]
  },
  {
   "cell_type": "code",
   "execution_count": 18,
   "metadata": {},
   "outputs": [
    {
     "data": {
      "text/plain": [
       "sunpy.timeseries.sources.lyra.LYRATimeSeries"
      ]
     },
     "execution_count": 18,
     "metadata": {},
     "output_type": "execute_result"
    }
   ],
   "source": [
    "type(lyra)"
   ]
  },
  {
   "cell_type": "code",
   "execution_count": 28,
   "metadata": {},
   "outputs": [
    {
     "data": {
      "text/html": [
       "<div>\n",
       "<style scoped>\n",
       "    .dataframe tbody tr th:only-of-type {\n",
       "        vertical-align: middle;\n",
       "    }\n",
       "\n",
       "    .dataframe tbody tr th {\n",
       "        vertical-align: top;\n",
       "    }\n",
       "\n",
       "    .dataframe thead th {\n",
       "        text-align: right;\n",
       "    }\n",
       "</style>\n",
       "<table border=\"1\" class=\"dataframe\">\n",
       "  <thead>\n",
       "    <tr style=\"text-align: right;\">\n",
       "      <th></th>\n",
       "      <th>CHANNEL1</th>\n",
       "      <th>CHANNEL2</th>\n",
       "      <th>CHANNEL3</th>\n",
       "      <th>CHANNEL4</th>\n",
       "    </tr>\n",
       "  </thead>\n",
       "  <tbody>\n",
       "    <tr>\n",
       "      <th>2011-06-07 00:00:00.010</th>\n",
       "      <td>0.006365</td>\n",
       "      <td>0.695866</td>\n",
       "      <td>0.002392</td>\n",
       "      <td>0.001100</td>\n",
       "    </tr>\n",
       "    <tr>\n",
       "      <th>2011-06-07 00:01:00.010</th>\n",
       "      <td>0.006365</td>\n",
       "      <td>0.695868</td>\n",
       "      <td>0.002392</td>\n",
       "      <td>0.001100</td>\n",
       "    </tr>\n",
       "    <tr>\n",
       "      <th>2011-06-07 00:02:00.010</th>\n",
       "      <td>0.006366</td>\n",
       "      <td>0.695870</td>\n",
       "      <td>0.002391</td>\n",
       "      <td>0.001100</td>\n",
       "    </tr>\n",
       "    <tr>\n",
       "      <th>2011-06-07 00:03:00.010</th>\n",
       "      <td>0.006366</td>\n",
       "      <td>0.695870</td>\n",
       "      <td>0.002391</td>\n",
       "      <td>0.001099</td>\n",
       "    </tr>\n",
       "    <tr>\n",
       "      <th>2011-06-07 00:04:00.010</th>\n",
       "      <td>0.006365</td>\n",
       "      <td>0.695873</td>\n",
       "      <td>0.002391</td>\n",
       "      <td>0.001099</td>\n",
       "    </tr>\n",
       "  </tbody>\n",
       "</table>\n",
       "</div>"
      ],
      "text/plain": [
       "                         CHANNEL1  CHANNEL2  CHANNEL3  CHANNEL4\n",
       "2011-06-07 00:00:00.010  0.006365  0.695866  0.002392  0.001100\n",
       "2011-06-07 00:01:00.010  0.006365  0.695868  0.002392  0.001100\n",
       "2011-06-07 00:02:00.010  0.006366  0.695870  0.002391  0.001100\n",
       "2011-06-07 00:03:00.010  0.006366  0.695870  0.002391  0.001099\n",
       "2011-06-07 00:04:00.010  0.006365  0.695873  0.002391  0.001099"
      ]
     },
     "execution_count": 28,
     "metadata": {},
     "output_type": "execute_result"
    }
   ],
   "source": [
    "lyra.data.head()"
   ]
  },
  {
   "cell_type": "code",
   "execution_count": 29,
   "metadata": {},
   "outputs": [],
   "source": [
    "rhessi = sunpy.timeseries.TimeSeries(sunpy.data.sample.RHESSI_TIMESERIES)"
   ]
  },
  {
   "cell_type": "code",
   "execution_count": 31,
   "metadata": {},
   "outputs": [
    {
     "data": {
      "text/html": [
       "<div>\n",
       "<style scoped>\n",
       "    .dataframe tbody tr th:only-of-type {\n",
       "        vertical-align: middle;\n",
       "    }\n",
       "\n",
       "    .dataframe tbody tr th {\n",
       "        vertical-align: top;\n",
       "    }\n",
       "\n",
       "    .dataframe thead th {\n",
       "        text-align: right;\n",
       "    }\n",
       "</style>\n",
       "<table border=\"1\" class=\"dataframe\">\n",
       "  <thead>\n",
       "    <tr style=\"text-align: right;\">\n",
       "      <th></th>\n",
       "      <th>3 - 6 keV</th>\n",
       "      <th>6 - 12 keV</th>\n",
       "      <th>12 - 25 keV</th>\n",
       "      <th>25 - 50 keV</th>\n",
       "      <th>50 - 100 keV</th>\n",
       "      <th>100 - 300 keV</th>\n",
       "      <th>300 - 800 keV</th>\n",
       "      <th>800 - 7000 keV</th>\n",
       "      <th>7000 - 20000 keV</th>\n",
       "    </tr>\n",
       "  </thead>\n",
       "  <tbody>\n",
       "    <tr>\n",
       "      <th>2011-06-07 00:00:00</th>\n",
       "      <td>9</td>\n",
       "      <td>18</td>\n",
       "      <td>15</td>\n",
       "      <td>20</td>\n",
       "      <td>48</td>\n",
       "      <td>136</td>\n",
       "      <td>112</td>\n",
       "      <td>88</td>\n",
       "      <td>3</td>\n",
       "    </tr>\n",
       "    <tr>\n",
       "      <th>2011-06-07 00:00:04</th>\n",
       "      <td>8</td>\n",
       "      <td>18</td>\n",
       "      <td>16</td>\n",
       "      <td>22</td>\n",
       "      <td>48</td>\n",
       "      <td>136</td>\n",
       "      <td>108</td>\n",
       "      <td>88</td>\n",
       "      <td>4</td>\n",
       "    </tr>\n",
       "    <tr>\n",
       "      <th>2011-06-07 00:00:08</th>\n",
       "      <td>8</td>\n",
       "      <td>16</td>\n",
       "      <td>16</td>\n",
       "      <td>20</td>\n",
       "      <td>48</td>\n",
       "      <td>136</td>\n",
       "      <td>112</td>\n",
       "      <td>88</td>\n",
       "      <td>4</td>\n",
       "    </tr>\n",
       "    <tr>\n",
       "      <th>2011-06-07 00:00:12</th>\n",
       "      <td>8</td>\n",
       "      <td>20</td>\n",
       "      <td>18</td>\n",
       "      <td>22</td>\n",
       "      <td>48</td>\n",
       "      <td>136</td>\n",
       "      <td>112</td>\n",
       "      <td>88</td>\n",
       "      <td>4</td>\n",
       "    </tr>\n",
       "    <tr>\n",
       "      <th>2011-06-07 00:00:16</th>\n",
       "      <td>9</td>\n",
       "      <td>16</td>\n",
       "      <td>15</td>\n",
       "      <td>22</td>\n",
       "      <td>44</td>\n",
       "      <td>136</td>\n",
       "      <td>112</td>\n",
       "      <td>88</td>\n",
       "      <td>4</td>\n",
       "    </tr>\n",
       "  </tbody>\n",
       "</table>\n",
       "</div>"
      ],
      "text/plain": [
       "                     3 - 6 keV  6 - 12 keV  12 - 25 keV  25 - 50 keV  \\\n",
       "2011-06-07 00:00:00          9          18           15           20   \n",
       "2011-06-07 00:00:04          8          18           16           22   \n",
       "2011-06-07 00:00:08          8          16           16           20   \n",
       "2011-06-07 00:00:12          8          20           18           22   \n",
       "2011-06-07 00:00:16          9          16           15           22   \n",
       "\n",
       "                     50 - 100 keV  100 - 300 keV  300 - 800 keV  \\\n",
       "2011-06-07 00:00:00            48            136            112   \n",
       "2011-06-07 00:00:04            48            136            108   \n",
       "2011-06-07 00:00:08            48            136            112   \n",
       "2011-06-07 00:00:12            48            136            112   \n",
       "2011-06-07 00:00:16            44            136            112   \n",
       "\n",
       "                     800 - 7000 keV  7000 - 20000 keV  \n",
       "2011-06-07 00:00:00              88                 3  \n",
       "2011-06-07 00:00:04              88                 4  \n",
       "2011-06-07 00:00:08              88                 4  \n",
       "2011-06-07 00:00:12              88                 4  \n",
       "2011-06-07 00:00:16              88                 4  "
      ]
     },
     "execution_count": 31,
     "metadata": {},
     "output_type": "execute_result"
    }
   ],
   "source": [
    "rhessi.data.head()"
   ]
  },
  {
   "cell_type": "code",
   "execution_count": 32,
   "metadata": {},
   "outputs": [
    {
     "data": {
      "text/plain": [
       "sunpy.timeseries.sources.rhessi.RHESSISummaryTimeSeries"
      ]
     },
     "execution_count": 32,
     "metadata": {},
     "output_type": "execute_result"
    }
   ],
   "source": [
    "type(rhdaessi)"
   ]
  },
  {
   "cell_type": "code",
   "execution_count": null,
   "metadata": {},
   "outputs": [],
   "source": []
  },
  {
   "cell_type": "code",
   "execution_count": null,
   "metadata": {},
   "outputs": [],
   "source": []
  },
  {
   "cell_type": "code",
   "execution_count": null,
   "metadata": {},
   "outputs": [],
   "source": []
  },
  {
   "cell_type": "code",
   "execution_count": null,
   "metadata": {},
   "outputs": [],
   "source": [
    "# Optionally average the data"
   ]
  },
  {
   "cell_type": "code",
   "execution_count": null,
   "metadata": {},
   "outputs": [],
   "source": [
    "# Optionally change the missing data flag from -1 to user desired value"
   ]
  },
  {
   "cell_type": "code",
   "execution_count": null,
   "metadata": {},
   "outputs": [],
   "source": []
  },
  {
   "cell_type": "code",
   "execution_count": null,
   "metadata": {},
   "outputs": [],
   "source": []
  },
  {
   "cell_type": "code",
   "execution_count": null,
   "metadata": {},
   "outputs": [],
   "source": [
    "# Return the EVE lines data with any optional modifications\n",
    "return tbd"
   ]
  }
 ],
 "metadata": {
  "kernelspec": {
   "display_name": "Python 3",
   "language": "python",
   "name": "python3"
  },
  "language_info": {
   "codemirror_mode": {
    "name": "ipython",
    "version": 3
   },
   "file_extension": ".py",
   "mimetype": "text/x-python",
   "name": "python",
   "nbconvert_exporter": "python",
   "pygments_lexer": "ipython3",
   "version": "3.6.1"
  },
  "toc": {
   "nav_menu": {},
   "number_sections": true,
   "sideBar": true,
   "skip_h1_title": false,
   "toc_cell": false,
   "toc_position": {},
   "toc_section_display": "block",
   "toc_window_display": false
  },
  "varInspector": {
   "cols": {
    "lenName": 16,
    "lenType": 16,
    "lenVar": 40
   },
   "kernels_config": {
    "python": {
     "delete_cmd_postfix": "",
     "delete_cmd_prefix": "del ",
     "library": "var_list.py",
     "varRefreshCmd": "print(var_dic_list())"
    },
    "r": {
     "delete_cmd_postfix": ") ",
     "delete_cmd_prefix": "rm(",
     "library": "var_list.r",
     "varRefreshCmd": "cat(var_dic_list()) "
    }
   },
   "oldHeight": 123.18181799999999,
   "position": {
    "height": "1064px",
    "left": "892.713px",
    "right": "20px",
    "top": "120px",
    "width": "258px"
   },
   "types_to_exclude": [
    "module",
    "function",
    "builtin_function_or_method",
    "instance",
    "_Feature"
   ],
   "varInspector_section_display": "block",
   "window_display": false
  }
 },
 "nbformat": 4,
 "nbformat_minor": 2
}
